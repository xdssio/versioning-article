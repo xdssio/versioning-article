{
 "cells": [
  {
   "cell_type": "code",
   "execution_count": 45,
   "id": "57443b16",
   "metadata": {
    "ExecuteTime": {
     "end_time": "2023-08-22T10:50:54.260624Z",
     "start_time": "2023-08-22T10:50:54.040329Z"
    },
    "hide_input": true
   },
   "outputs": [
    {
     "name": "stdout",
     "output_type": "stream",
     "text": [
      "Steps: 4\n",
      "Data size: 23\n",
      "\n",
      "Time per tech - lower is better\n"
     ]
    },
    {
     "data": {
      "text/html": [
       "<iframe\n",
       "    scrolling=\"no\"\n",
       "    width=\"100%\"\n",
       "    height=\"545px\"\n",
       "    src=\"iframe_figures/figure_45.html\"\n",
       "    frameborder=\"0\"\n",
       "    allowfullscreen\n",
       "></iframe>\n"
      ]
     },
     "metadata": {},
     "output_type": "display_data"
    }
   ],
   "source": [
    "from xetrack import Reader\n",
    "import pandas as pd\n",
    "import plotly.express as px\n",
    "import plotly.graph_objects as go\n",
    "from plotly.subplots import make_subplots\n",
    "import plotly.io as pio\n",
    "pio.renderers.default = \"iframe\"\n",
    "\n",
    "\n",
    "pd.set_option('display.max_rows', 500)\n",
    "pd.set_option('display.max_columns', 500)\n",
    "pd.set_option('display.width', 1000)\n",
    "\n",
    "df = Reader('../output/stats.db').to_df()\n",
    "# Filter last experiemnt\n",
    "df = df[df['track_id']==df.tail(1)['track_id'].iloc[0]]\n",
    "df = df[df['tech'] != 'shutil']\n",
    "df = df[df['tech'] != 'm1']\n",
    "df = df[df['step']>=0]\n",
    "df['name'] = df['name'].str.replace('_upload', '').str.replace('_',' ')\n",
    "# df['function'] = df['function'].str.replace('_',' ')\n",
    "# df['function'] = df['function'].str.replace(' new upload','').str.replace(' merged upload','')\n",
    "df['mb/s'] = df['file_bytes']/df['time']\n",
    "df.to_csv('../output/results.csv', index=False)\n",
    "errors = set(df['error'].fillna('').values)\n",
    "if len(errors) > 1:\n",
    "    print(f\"Errors: {errors}\")\n",
    "print(f\"Steps: {df['step'].max()+1}\")\n",
    "print(f\"Data size: {len(df)}\")\n",
    "print(\"\\nTime per tech - lower is better\")\n",
    "px.bar(df, x='name', y='time', color='tech').show()"
   ]
  },
  {
   "cell_type": "code",
   "execution_count": 46,
   "id": "635ca854",
   "metadata": {
    "ExecuteTime": {
     "end_time": "2023-08-22T10:50:56.557078Z",
     "start_time": "2023-08-22T10:50:56.484224Z"
    },
    "hide_input": true
   },
   "outputs": [
    {
     "name": "stdout",
     "output_type": "stream",
     "text": [
      "MB per Second - higher is better\n"
     ]
    },
    {
     "data": {
      "text/html": [
       "<iframe\n",
       "    scrolling=\"no\"\n",
       "    width=\"100%\"\n",
       "    height=\"545px\"\n",
       "    src=\"iframe_figures/figure_46.html\"\n",
       "    frameborder=\"0\"\n",
       "    allowfullscreen\n",
       "></iframe>\n"
      ]
     },
     "metadata": {},
     "output_type": "display_data"
    }
   ],
   "source": [
    "print(\"MB per Second - higher is better\")\n",
    "px.bar(df, x='name', y='mb/s', color='tech').show()"
   ]
  },
  {
   "cell_type": "code",
   "execution_count": 31,
   "id": "8fe150a3",
   "metadata": {
    "ExecuteTime": {
     "end_time": "2023-08-22T10:34:24.550723Z",
     "start_time": "2023-08-22T10:34:24.405449Z"
    },
    "hide_input": true,
    "scrolled": false
   },
   "outputs": [
    {
     "data": {
      "text/html": [
       "<iframe\n",
       "    scrolling=\"no\"\n",
       "    width=\"100%\"\n",
       "    height=\"545px\"\n",
       "    src=\"iframe_figures/figure_31.html\"\n",
       "    frameborder=\"0\"\n",
       "    allowfullscreen\n",
       "></iframe>\n"
      ]
     },
     "metadata": {},
     "output_type": "display_data"
    }
   ],
   "source": [
    "pio.renderers.default='iframe'\n",
    "groups = df.groupby('name')\n",
    "sums = groups.sum()\n",
    "fig1 = px.pie(sums, values='time', names=sums.index)\n",
    "fig1.update_traces(textposition='inside', textinfo='percent+label')\n",
    "\n",
    "fig2 = go.Figure()\n",
    "for name, group in groups:\n",
    "    fig2.add_trace(go.Scatter(x=group['step'], y=group['time'], mode='lines', name=str(name)))\n",
    "fig2.update_layout(xaxis_title='Step', yaxis_title='Time')\n",
    "\n",
    "df['cumulative_time'] = df.groupby('name')['time'].cumsum()\n",
    "fig3 = px.line(df, x='step', y='cumulative_time', color='tech')\n",
    "fig3.update_layout(title='Cumulative Lines of Time per Steps', xaxis_title='Steps', yaxis_title='Cumulative Time')\n",
    "\n",
    "df['tech_cumulative_time'] = df.groupby('tech')['time'].cumsum()\n",
    "\n",
    "fig4 = px.line(df, x='step', y='tech_cumulative_time', color='tech')\n",
    "fig4.update_layout(title='Cumulative Lines of Time per Steps',\n",
    "                  xaxis_title='Steps',\n",
    "                  yaxis_title='Cumulative Time')\n",
    "\n",
    "fig1.show()"
   ]
  },
  {
   "cell_type": "code",
   "execution_count": 32,
   "id": "aba1a535",
   "metadata": {
    "ExecuteTime": {
     "end_time": "2023-08-22T10:34:25.912261Z",
     "start_time": "2023-08-22T10:34:25.875253Z"
    },
    "hide_input": true
   },
   "outputs": [
    {
     "data": {
      "text/html": [
       "<iframe\n",
       "    scrolling=\"no\"\n",
       "    width=\"100%\"\n",
       "    height=\"545px\"\n",
       "    src=\"iframe_figures/figure_32.html\"\n",
       "    frameborder=\"0\"\n",
       "    allowfullscreen\n",
       "></iframe>\n"
      ]
     },
     "metadata": {},
     "output_type": "display_data"
    }
   ],
   "source": [
    "fig3.show()"
   ]
  },
  {
   "cell_type": "code",
   "execution_count": 33,
   "id": "2eb583f7",
   "metadata": {
    "ExecuteTime": {
     "end_time": "2023-08-22T10:34:27.017903Z",
     "start_time": "2023-08-22T10:34:26.977744Z"
    },
    "hide_input": true
   },
   "outputs": [
    {
     "data": {
      "text/html": [
       "<iframe\n",
       "    scrolling=\"no\"\n",
       "    width=\"100%\"\n",
       "    height=\"545px\"\n",
       "    src=\"iframe_figures/figure_33.html\"\n",
       "    frameborder=\"0\"\n",
       "    allowfullscreen\n",
       "></iframe>\n"
      ]
     },
     "metadata": {},
     "output_type": "display_data"
    }
   ],
   "source": [
    "fig2.show()"
   ]
  },
  {
   "cell_type": "code",
   "execution_count": 34,
   "id": "de08efaa",
   "metadata": {
    "ExecuteTime": {
     "end_time": "2023-08-22T10:34:28.252656Z",
     "start_time": "2023-08-22T10:34:28.222338Z"
    },
    "hide_input": true
   },
   "outputs": [
    {
     "data": {
      "text/html": [
       "<iframe\n",
       "    scrolling=\"no\"\n",
       "    width=\"100%\"\n",
       "    height=\"545px\"\n",
       "    src=\"iframe_figures/figure_34.html\"\n",
       "    frameborder=\"0\"\n",
       "    allowfullscreen\n",
       "></iframe>\n"
      ]
     },
     "metadata": {},
     "output_type": "display_data"
    }
   ],
   "source": [
    "fig4.show()"
   ]
  },
  {
   "cell_type": "code",
   "execution_count": 23,
   "id": "9d19754f",
   "metadata": {
    "ExecuteTime": {
     "end_time": "2023-08-22T10:29:42.212507Z",
     "start_time": "2023-08-22T10:29:42.195486Z"
    }
   },
   "outputs": [
    {
     "name": "stdout",
     "output_type": "stream",
     "text": [
      "Step 0 took 1.98 minutes\n",
      "Step 1 took 2.18 minutes\n",
      "Step 2 took 1.91 minutes\n",
      "Step 3 took 1.89 minutes\n",
      "Step 4 took 2.24 minutes\n",
      "Step 5 took 2.19 minutes\n",
      "Step 6 took 2.42 minutes\n",
      "Step 7 took 2.42 minutes\n",
      "Step 8 took 2.46 minutes\n",
      "Step 9 took 2.26 minutes\n",
      "Step 10 took 1.91 minutes\n",
      "Step 11 took 2.04 minutes\n",
      "Step 12 took 2.19 minutes\n",
      "Step 13 took 2.16 minutes\n",
      "Step 14 took 1.54 minutes\n",
      "Step 15 took 1.87 minutes\n",
      "Step 16 took 2.10 minutes\n",
      "Step 17 took 2.53 minutes\n",
      "Step 18 took 2.19 minutes\n",
      "Step 19 took 1.89 minutes\n",
      "Step 20 took 2.15 minutes\n",
      "Step 21 took 0.63 minutes\n",
      "total time is: 0.75 hours\n"
     ]
    }
   ],
   "source": [
    "for step in set(df['step']):\n",
    "    print(f\"Step {step} took {df[df['step']==step]['time'].sum()/60:.2f} minutes\")\n",
    "print(f\"total time is: {df['time'].sum()/(60*60):.2f} hours\")"
   ]
  },
  {
   "cell_type": "code",
   "execution_count": 24,
   "id": "0e4cc217",
   "metadata": {
    "ExecuteTime": {
     "end_time": "2023-08-22T10:29:42.273181Z",
     "start_time": "2023-08-22T10:29:42.217252Z"
    }
   },
   "outputs": [
    {
     "name": "stdout",
     "output_type": "stream",
     "text": [
      "Average time:\n"
     ]
    },
    {
     "data": {
      "text/html": [
       "<iframe\n",
       "    scrolling=\"no\"\n",
       "    width=\"100%\"\n",
       "    height=\"545px\"\n",
       "    src=\"iframe_figures/figure_24.html\"\n",
       "    frameborder=\"0\"\n",
       "    allowfullscreen\n",
       "></iframe>\n"
      ]
     },
     "metadata": {},
     "output_type": "display_data"
    },
    {
     "data": {
      "text/plain": [
       "function\n",
       "lfs s3 upload     1.000000\n",
       "lfs git upload    1.114282\n",
       "lakefs upload     1.200398\n",
       "s3 new upload     1.293673\n",
       "dvc upload        2.093847\n",
       "pyxet upload      3.022268\n",
       "git-xet upload    4.142139\n",
       "Name: time, dtype: float64"
      ]
     },
     "execution_count": 24,
     "metadata": {},
     "output_type": "execute_result"
    }
   ],
   "source": [
    "times = df.groupby('function')['time'].mean()\n",
    "ratios = times / times.min()\n",
    "print(f\"Average time:\")\n",
    "fig5 = px.pie(times, values='time', names=times.index)\n",
    "fig5.update_traces(textposition='inside', textinfo='percent+label')\n",
    "fig5.show()\n",
    "ratios.sort_values()"
   ]
  },
  {
   "cell_type": "raw",
   "id": "f5279afc",
   "metadata": {
    "ExecuteTime": {
     "end_time": "2023-08-17T12:31:57.364236Z",
     "start_time": "2023-08-17T12:31:57.310205Z"
    }
   },
   "source": [
    "cums_times = df.groupby('function')['cumulative_time'].max()\n",
    "ratios = cums_times / cums_times.min()\n",
    "print(f\"Cumulative time ratio:\")\n",
    "fig6 = px.pie(cums_times, values='cumulative_time', names=cums_times.index)\n",
    "fig6.update_traces(textposition='inside', textinfo='percent+label')\n",
    "fig6.show()\n",
    "ratios.sort_values()"
   ]
  }
 ],
 "metadata": {
  "kernelspec": {
   "display_name": "Python 3 (ipykernel)",
   "language": "python",
   "name": "python3"
  },
  "language_info": {
   "codemirror_mode": {
    "name": "ipython",
    "version": 3
   },
   "file_extension": ".py",
   "mimetype": "text/x-python",
   "name": "python",
   "nbconvert_exporter": "python",
   "pygments_lexer": "ipython3",
   "version": "3.10.12"
  }
 },
 "nbformat": 4,
 "nbformat_minor": 5
}
