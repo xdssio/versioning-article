{
 "cells": [
  {
   "cell_type": "code",
   "execution_count": 72,
   "id": "2d3aa6f1",
   "metadata": {
    "ExecuteTime": {
     "end_time": "2023-09-09T01:17:37.685784Z",
     "start_time": "2023-09-09T01:17:37.561995Z"
    },
    "hide_input": false
   },
   "outputs": [
    {
     "name": "stdout",
     "output_type": "stream",
     "text": [
      "Steps: 2\n",
      "Data size: 12\n",
      "\n",
      "Time per tech - lower is better\n",
      "track_id: 881adb10-7da4-4264-8460-5185cac811e4\n"
     ]
    },
    {
     "data": {
      "text/html": [
       "<iframe\n",
       "    scrolling=\"no\"\n",
       "    width=\"100%\"\n",
       "    height=\"545px\"\n",
       "    src=\"iframe_figures/figure_72.html\"\n",
       "    frameborder=\"0\"\n",
       "    allowfullscreen\n",
       "></iframe>\n"
      ]
     },
     "metadata": {},
     "output_type": "display_data"
    }
   ],
   "source": [
    "from xetrack import Reader\n",
    "import pandas as pd\n",
    "import plotly.express as px\n",
    "import plotly.graph_objects as go\n",
    "from plotly.subplots import make_subplots\n",
    "import plotly.io as pio\n",
    "pio.renderers.default = \"iframe\"\n",
    "\n",
    "\n",
    "pd.set_option('display.max_rows', 500)\n",
    "pd.set_option('display.max_columns', 500)\n",
    "pd.set_option('display.width', 1000)\n",
    "\n",
    "df = Reader('../output/stats.db').to_df()\n",
    "# Filter last experiemnt\n",
    "df = df[df['track_id']==df.tail(1)['track_id'].iloc[0]]\n",
    "df = df[df['tech'] != 'shutil']\n",
    "df = df[df['tech'] != 'm1']\n",
    "df = df[df['step']>=0]\n",
    "df['name'] = df['name'].str.replace('_upload', '').str.replace('_',' ')\n",
    "df= df[df['name']!='lfs git']\n",
    "# df['function'] = df['function'].str.replace('_',' ')\n",
    "# df['function'] = df['function'].str.replace(' new upload','').str.replace(' merged upload','')\n",
    "df['mb/s'] = df['file_bytes']/df['time']\n",
    "df.to_csv('../output/results.csv', index=False)\n",
    "errors = set(df['error'].fillna('').values)\n",
    "if len(errors) > 1:\n",
    "    print(f\"Errors: {errors}\")\n",
    "print(f\"Steps: {df['step'].max()+1}\")\n",
    "print(f\"Data size: {len(df)}\")\n",
    "print(\"\\nTime per tech - lower is better\")\n",
    "print(f\"track_id: {df['track_id'].iloc[-1]}\")\n",
    "px.bar(df, x='name', y='time', color='tech').show()"
   ]
  },
  {
   "cell_type": "code",
   "execution_count": 73,
   "id": "e569c122",
   "metadata": {
    "ExecuteTime": {
     "end_time": "2023-09-09T01:17:40.487044Z",
     "start_time": "2023-09-09T01:17:40.415921Z"
    },
    "hide_input": true
   },
   "outputs": [
    {
     "name": "stdout",
     "output_type": "stream",
     "text": [
      "MB per Second - higher is better\n"
     ]
    },
    {
     "data": {
      "text/html": [
       "<iframe\n",
       "    scrolling=\"no\"\n",
       "    width=\"100%\"\n",
       "    height=\"545px\"\n",
       "    src=\"iframe_figures/figure_73.html\"\n",
       "    frameborder=\"0\"\n",
       "    allowfullscreen\n",
       "></iframe>\n"
      ]
     },
     "metadata": {},
     "output_type": "display_data"
    }
   ],
   "source": [
    "print(\"MB per Second - higher is better\")\n",
    "px.bar(df, x='name', y='mb/s', color='tech').show()"
   ]
  },
  {
   "cell_type": "code",
   "execution_count": 74,
   "id": "29ac7c35",
   "metadata": {
    "ExecuteTime": {
     "end_time": "2023-09-09T01:17:42.764285Z",
     "start_time": "2023-09-09T01:17:42.618429Z"
    },
    "hide_input": true,
    "scrolled": false
   },
   "outputs": [
    {
     "data": {
      "text/html": [
       "<iframe\n",
       "    scrolling=\"no\"\n",
       "    width=\"100%\"\n",
       "    height=\"545px\"\n",
       "    src=\"iframe_figures/figure_74.html\"\n",
       "    frameborder=\"0\"\n",
       "    allowfullscreen\n",
       "></iframe>\n"
      ]
     },
     "metadata": {},
     "output_type": "display_data"
    }
   ],
   "source": [
    "pio.renderers.default='iframe'\n",
    "groups = df.groupby('name')\n",
    "sums = groups.sum()\n",
    "fig1 = px.pie(sums, values='time', names=sums.index)\n",
    "fig1.update_traces(textposition='inside', textinfo='percent+label')\n",
    "\n",
    "fig2 = go.Figure()\n",
    "for name, group in groups:\n",
    "    fig2.add_trace(go.Scatter(x=group['step'], y=group['time'], mode='lines', name=str(name)))\n",
    "fig2.update_layout(xaxis_title='Step', yaxis_title='Time')\n",
    "\n",
    "df['cumulative_time'] = df.groupby('name')['time'].cumsum()\n",
    "fig3 = px.line(df, x='step', y='cumulative_time', color='name')\n",
    "fig3.update_layout(title='Cumulative Lines of Time per Steps', xaxis_title='Steps', yaxis_title='Cumulative Time')\n",
    "\n",
    "df['tech_cumulative_time'] = df.groupby('tech')['time'].cumsum()\n",
    "\n",
    "fig4 = px.line(df, x='step', y='tech_cumulative_time', color='tech')\n",
    "fig4.update_layout(title='Cumulative Lines of Time per Steps',\n",
    "                  xaxis_title='Steps',\n",
    "                  yaxis_title='Cumulative Time')\n",
    "\n",
    "fig1.show()"
   ]
  },
  {
   "cell_type": "code",
   "execution_count": 75,
   "id": "ac0e5ea1",
   "metadata": {
    "ExecuteTime": {
     "end_time": "2023-09-09T01:17:43.874430Z",
     "start_time": "2023-09-09T01:17:43.843683Z"
    },
    "hide_input": false
   },
   "outputs": [
    {
     "data": {
      "text/html": [
       "<iframe\n",
       "    scrolling=\"no\"\n",
       "    width=\"100%\"\n",
       "    height=\"545px\"\n",
       "    src=\"iframe_figures/figure_75.html\"\n",
       "    frameborder=\"0\"\n",
       "    allowfullscreen\n",
       "></iframe>\n"
      ]
     },
     "metadata": {},
     "output_type": "display_data"
    }
   ],
   "source": [
    "fig3.show()"
   ]
  },
  {
   "cell_type": "code",
   "execution_count": 56,
   "id": "6232df57",
   "metadata": {
    "ExecuteTime": {
     "end_time": "2023-09-06T00:00:36.645491Z",
     "start_time": "2023-09-06T00:00:36.616243Z"
    },
    "hide_input": true
   },
   "outputs": [
    {
     "data": {
      "text/html": [
       "<iframe\n",
       "    scrolling=\"no\"\n",
       "    width=\"100%\"\n",
       "    height=\"545px\"\n",
       "    src=\"iframe_figures/figure_56.html\"\n",
       "    frameborder=\"0\"\n",
       "    allowfullscreen\n",
       "></iframe>\n"
      ]
     },
     "metadata": {},
     "output_type": "display_data"
    }
   ],
   "source": [
    "fig2.show()"
   ]
  },
  {
   "cell_type": "code",
   "execution_count": 57,
   "id": "b942dfbf",
   "metadata": {
    "ExecuteTime": {
     "end_time": "2023-09-06T00:00:37.999621Z",
     "start_time": "2023-09-06T00:00:37.970402Z"
    },
    "hide_input": true
   },
   "outputs": [
    {
     "data": {
      "text/html": [
       "<iframe\n",
       "    scrolling=\"no\"\n",
       "    width=\"100%\"\n",
       "    height=\"545px\"\n",
       "    src=\"iframe_figures/figure_57.html\"\n",
       "    frameborder=\"0\"\n",
       "    allowfullscreen\n",
       "></iframe>\n"
      ]
     },
     "metadata": {},
     "output_type": "display_data"
    }
   ],
   "source": [
    "fig4.show()"
   ]
  },
  {
   "cell_type": "code",
   "execution_count": 69,
   "id": "beea68a9",
   "metadata": {
    "ExecuteTime": {
     "end_time": "2023-09-08T21:09:43.786754Z",
     "start_time": "2023-09-08T21:09:43.769900Z"
    }
   },
   "outputs": [
    {
     "name": "stdout",
     "output_type": "stream",
     "text": [
      "Step 0 took 37.85 minutes\n",
      "Step 1 took 35.83 minutes\n",
      "total time is: 1.23 hours\n"
     ]
    }
   ],
   "source": [
    "for step in set(df['step']):\n",
    "    print(f\"Step {step} took {df[df['step']==step]['time'].sum()/60:.2f} minutes\")\n",
    "print(f\"total time is: {df['time'].sum()/(60*60):.2f} hours\")"
   ]
  },
  {
   "cell_type": "code",
   "execution_count": 70,
   "id": "91f5b27d",
   "metadata": {
    "ExecuteTime": {
     "end_time": "2023-09-08T21:09:48.527795Z",
     "start_time": "2023-09-08T21:09:48.470369Z"
    }
   },
   "outputs": [
    {
     "name": "stdout",
     "output_type": "stream",
     "text": [
      "Average time:\n"
     ]
    },
    {
     "data": {
      "text/html": [
       "<iframe\n",
       "    scrolling=\"no\"\n",
       "    width=\"100%\"\n",
       "    height=\"545px\"\n",
       "    src=\"iframe_figures/figure_70.html\"\n",
       "    frameborder=\"0\"\n",
       "    allowfullscreen\n",
       "></iframe>\n"
      ]
     },
     "metadata": {},
     "output_type": "display_data"
    },
    {
     "data": {
      "text/plain": [
       "function\n",
       "git-xet upload    1.000000\n",
       "lakefs upload     1.160557\n",
       "pyxet upload      1.176941\n",
       "s3 new upload     1.330202\n",
       "dvc upload        3.846026\n",
       "lfs s3 upload     4.556604\n",
       "Name: time, dtype: float64"
      ]
     },
     "execution_count": 70,
     "metadata": {},
     "output_type": "execute_result"
    }
   ],
   "source": [
    "times = df.groupby('function')['time'].mean()\n",
    "ratios = times / times.min()\n",
    "print(f\"Average time:\")\n",
    "fig5 = px.pie(times, values='time', names=times.index)\n",
    "fig5.update_traces(textposition='inside', textinfo='percent+label')\n",
    "fig5.show()\n",
    "ratios.sort_values()"
   ]
  },
  {
   "cell_type": "raw",
   "id": "b789e32d",
   "metadata": {
    "ExecuteTime": {
     "end_time": "2023-08-17T12:31:57.364236Z",
     "start_time": "2023-08-17T12:31:57.310205Z"
    }
   },
   "source": [
    "cums_times = df.groupby('function')['cumulative_time'].max()\n",
    "ratios = cums_times / cums_times.min()\n",
    "print(f\"Cumulative time ratio:\")\n",
    "fig6 = px.pie(cums_times, values='cumulative_time', names=cums_times.index)\n",
    "fig6.update_traces(textposition='inside', textinfo='percent+label')\n",
    "fig6.show()\n",
    "ratios.sort_values()"
   ]
  },
  {
   "cell_type": "code",
   "execution_count": 13,
   "id": "eaeeaba0",
   "metadata": {
    "ExecuteTime": {
     "end_time": "2023-09-05T20:46:50.167803Z",
     "start_time": "2023-09-05T20:46:50.158277Z"
    }
   },
   "outputs": [
    {
     "data": {
      "text/plain": [
       "'dd264b1b-48ac-46db-8cc6-95479fa2ddf6'"
      ]
     },
     "execution_count": 13,
     "metadata": {},
     "output_type": "execute_result"
    }
   ],
   "source": [
    "df['track_id'].iloc[-1]"
   ]
  },
  {
   "cell_type": "code",
   "execution_count": 51,
   "id": "04c51aa0",
   "metadata": {
    "ExecuteTime": {
     "end_time": "2023-09-05T23:43:09.146165Z",
     "start_time": "2023-09-05T23:43:09.121002Z"
    }
   },
   "outputs": [
    {
     "data": {
      "text/html": [
       "<div>\n",
       "<style scoped>\n",
       "    .dataframe tbody tr th:only-of-type {\n",
       "        vertical-align: middle;\n",
       "    }\n",
       "\n",
       "    .dataframe tbody tr th {\n",
       "        vertical-align: top;\n",
       "    }\n",
       "\n",
       "    .dataframe thead th {\n",
       "        text-align: right;\n",
       "    }\n",
       "</style>\n",
       "<table border=\"1\" class=\"dataframe\">\n",
       "  <thead>\n",
       "    <tr style=\"text-align: right;\">\n",
       "      <th></th>\n",
       "      <th>timestamp</th>\n",
       "      <th>track_id</th>\n",
       "      <th>merged</th>\n",
       "      <th>step</th>\n",
       "      <th>filename</th>\n",
       "      <th>tech</th>\n",
       "      <th>p_memory_percent</th>\n",
       "      <th>memory_percent</th>\n",
       "      <th>cpu</th>\n",
       "      <th>function</th>\n",
       "      <th>bytes_sent</th>\n",
       "      <th>bytes_recv</th>\n",
       "      <th>disk_percent</th>\n",
       "      <th>name</th>\n",
       "      <th>time</th>\n",
       "      <th>error</th>\n",
       "      <th>file_bytes</th>\n",
       "      <th>is_merged</th>\n",
       "      <th>workflow</th>\n",
       "      <th>filepath</th>\n",
       "      <th>args</th>\n",
       "      <th>kwargs</th>\n",
       "      <th>pyxet_version</th>\n",
       "      <th>gitxet_version</th>\n",
       "      <th>n_rows_add</th>\n",
       "      <th>start_rows</th>\n",
       "      <th>columns</th>\n",
       "      <th>upload_time</th>\n",
       "      <th>pyxet</th>\n",
       "      <th>gitxet</th>\n",
       "      <th>mb/s</th>\n",
       "    </tr>\n",
       "  </thead>\n",
       "  <tbody>\n",
       "    <tr>\n",
       "      <th>1937</th>\n",
       "      <td>05-09-2023 15:43:47.555535</td>\n",
       "      <td>5b54b895-2872-49d0-a1ac-1d5b325e24d5</td>\n",
       "      <td>false</td>\n",
       "      <td>0</td>\n",
       "      <td>NaN</td>\n",
       "      <td>s3</td>\n",
       "      <td>221.903197</td>\n",
       "      <td>1381.248784</td>\n",
       "      <td>0.0</td>\n",
       "      <td>s3 new upload</td>\n",
       "      <td>2112.575195</td>\n",
       "      <td>131.231445</td>\n",
       "      <td>151.2</td>\n",
       "      <td>s3</td>\n",
       "      <td>216.373660</td>\n",
       "      <td></td>\n",
       "      <td>7635.660055</td>\n",
       "      <td>NaN</td>\n",
       "      <td>numeric</td>\n",
       "      <td>numeric/numeric.parquet</td>\n",
       "      <td>['numeric/numeric.parquet']</td>\n",
       "      <td>{}</td>\n",
       "      <td>NaN</td>\n",
       "      <td>NaN</td>\n",
       "      <td>1.0</td>\n",
       "      <td>100000000.0</td>\n",
       "      <td>10.0</td>\n",
       "      <td>NaN</td>\n",
       "      <td>0.1.3</td>\n",
       "      <td>gitxetcore 0.11.0-5dc8c78\\n</td>\n",
       "      <td>35.289231</td>\n",
       "    </tr>\n",
       "    <tr>\n",
       "      <th>1944</th>\n",
       "      <td>05-09-2023 16:13:11.407709</td>\n",
       "      <td>5b54b895-2872-49d0-a1ac-1d5b325e24d5</td>\n",
       "      <td>false</td>\n",
       "      <td>1</td>\n",
       "      <td>NaN</td>\n",
       "      <td>s3</td>\n",
       "      <td>294.210060</td>\n",
       "      <td>1322.292726</td>\n",
       "      <td>0.2</td>\n",
       "      <td>s3 new upload</td>\n",
       "      <td>174.791992</td>\n",
       "      <td>152.044922</td>\n",
       "      <td>155.4</td>\n",
       "      <td>s3</td>\n",
       "      <td>222.770629</td>\n",
       "      <td></td>\n",
       "      <td>8017.938432</td>\n",
       "      <td>NaN</td>\n",
       "      <td>numeric</td>\n",
       "      <td>numeric/numeric.parquet</td>\n",
       "      <td>['numeric/numeric.parquet']</td>\n",
       "      <td>{}</td>\n",
       "      <td>NaN</td>\n",
       "      <td>NaN</td>\n",
       "      <td>1.0</td>\n",
       "      <td>100000000.0</td>\n",
       "      <td>10.0</td>\n",
       "      <td>NaN</td>\n",
       "      <td>0.1.3</td>\n",
       "      <td>gitxetcore 0.11.0-5dc8c78\\n</td>\n",
       "      <td>35.991901</td>\n",
       "    </tr>\n",
       "  </tbody>\n",
       "</table>\n",
       "</div>"
      ],
      "text/plain": [
       "                       timestamp                              track_id merged  step filename tech  p_memory_percent  memory_percent  cpu       function   bytes_sent  bytes_recv  disk_percent name        time error   file_bytes is_merged workflow                 filepath                         args kwargs pyxet_version gitxet_version  n_rows_add   start_rows  columns upload_time  pyxet                       gitxet       mb/s\n",
       "1937  05-09-2023 15:43:47.555535  5b54b895-2872-49d0-a1ac-1d5b325e24d5  false     0      NaN   s3        221.903197     1381.248784  0.0  s3 new upload  2112.575195  131.231445         151.2   s3  216.373660        7635.660055       NaN  numeric  numeric/numeric.parquet  ['numeric/numeric.parquet']     {}           NaN            NaN         1.0  100000000.0     10.0         NaN  0.1.3  gitxetcore 0.11.0-5dc8c78\\n  35.289231\n",
       "1944  05-09-2023 16:13:11.407709  5b54b895-2872-49d0-a1ac-1d5b325e24d5  false     1      NaN   s3        294.210060     1322.292726  0.2  s3 new upload   174.791992  152.044922         155.4   s3  222.770629        8017.938432       NaN  numeric  numeric/numeric.parquet  ['numeric/numeric.parquet']     {}           NaN            NaN         1.0  100000000.0     10.0         NaN  0.1.3  gitxetcore 0.11.0-5dc8c78\\n  35.991901"
      ]
     },
     "execution_count": 51,
     "metadata": {},
     "output_type": "execute_result"
    }
   ],
   "source": [
    "df[df['tech']=='s3']"
   ]
  },
  {
   "cell_type": "code",
   "execution_count": null,
   "id": "c2c009e4",
   "metadata": {},
   "outputs": [],
   "source": []
  }
 ],
 "metadata": {
  "kernelspec": {
   "display_name": "xethub",
   "language": "python",
   "name": "xethub"
  },
  "language_info": {
   "codemirror_mode": {
    "name": "ipython",
    "version": 3
   },
   "file_extension": ".py",
   "mimetype": "text/x-python",
   "name": "python",
   "nbconvert_exporter": "python",
   "pygments_lexer": "ipython3",
   "version": "3.10.12"
  }
 },
 "nbformat": 4,
 "nbformat_minor": 5
}
