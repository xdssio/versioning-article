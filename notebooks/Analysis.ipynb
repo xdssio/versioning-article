{
 "cells": [
  {
   "cell_type": "code",
   "execution_count": 155,
   "id": "a37071db",
   "metadata": {
    "ExecuteTime": {
     "end_time": "2023-08-01T18:47:19.905652Z",
     "start_time": "2023-08-01T18:47:19.813475Z"
    }
   },
   "outputs": [
    {
     "name": "stdout",
     "output_type": "stream",
     "text": [
      "Errors: {''}\n",
      "steps count: 100\n"
     ]
    },
    {
     "data": {
      "text/html": [
       "<div>\n",
       "<style scoped>\n",
       "    .dataframe tbody tr th:only-of-type {\n",
       "        vertical-align: middle;\n",
       "    }\n",
       "\n",
       "    .dataframe tbody tr th {\n",
       "        vertical-align: top;\n",
       "    }\n",
       "\n",
       "    .dataframe thead th {\n",
       "        text-align: right;\n",
       "    }\n",
       "</style>\n",
       "<table border=\"1\" class=\"dataframe\">\n",
       "  <thead>\n",
       "    <tr style=\"text-align: right;\">\n",
       "      <th></th>\n",
       "      <th>time</th>\n",
       "      <th>function</th>\n",
       "      <th>tech</th>\n",
       "      <th>merged</th>\n",
       "      <th>filename</th>\n",
       "      <th>step</th>\n",
       "      <th>file_mb</th>\n",
       "      <th>row_count</th>\n",
       "      <th>sent_mb</th>\n",
       "      <th>recv_mb</th>\n",
       "      <th>sent_mb_1s</th>\n",
       "      <th>recv_mb_1s</th>\n",
       "      <th>error</th>\n",
       "      <th>data_dir</th>\n",
       "      <th>file_count</th>\n",
       "      <th>datetime</th>\n",
       "      <th>pyxet_version</th>\n",
       "      <th>id</th>\n",
       "    </tr>\n",
       "  </thead>\n",
       "  <tbody>\n",
       "    <tr>\n",
       "      <th>4</th>\n",
       "      <td>2.649432</td>\n",
       "      <td>xethub git</td>\n",
       "      <td>xethub</td>\n",
       "      <td>True</td>\n",
       "      <td>file.csv</td>\n",
       "      <td>0</td>\n",
       "      <td>76.200081</td>\n",
       "      <td>68200</td>\n",
       "      <td>0.037109</td>\n",
       "      <td>0.035156</td>\n",
       "      <td>0.044922</td>\n",
       "      <td>0.071289</td>\n",
       "      <td>None</td>\n",
       "      <td>blog</td>\n",
       "      <td>1</td>\n",
       "      <td>11/08/2023 14:58:57</td>\n",
       "      <td>0.1.1</td>\n",
       "      <td>-8262657030240530286</td>\n",
       "    </tr>\n",
       "    <tr>\n",
       "      <th>5</th>\n",
       "      <td>26.281029</td>\n",
       "      <td>dvc</td>\n",
       "      <td>dvc</td>\n",
       "      <td>True</td>\n",
       "      <td>file.csv</td>\n",
       "      <td>0</td>\n",
       "      <td>76.200081</td>\n",
       "      <td>68200</td>\n",
       "      <td>1.083008</td>\n",
       "      <td>0.739258</td>\n",
       "      <td>0.066406</td>\n",
       "      <td>0.033203</td>\n",
       "      <td>None</td>\n",
       "      <td>blog</td>\n",
       "      <td>1</td>\n",
       "      <td>11/08/2023 14:58:57</td>\n",
       "      <td>0.1.1</td>\n",
       "      <td>-8262657030240530286</td>\n",
       "    </tr>\n",
       "    <tr>\n",
       "      <th>6</th>\n",
       "      <td>4.393438</td>\n",
       "      <td>lfs s3</td>\n",
       "      <td>lfs</td>\n",
       "      <td>True</td>\n",
       "      <td>file.csv</td>\n",
       "      <td>0</td>\n",
       "      <td>76.200081</td>\n",
       "      <td>68200</td>\n",
       "      <td>0.346680</td>\n",
       "      <td>0.232422</td>\n",
       "      <td>0.085938</td>\n",
       "      <td>0.043945</td>\n",
       "      <td>None</td>\n",
       "      <td>blog</td>\n",
       "      <td>1</td>\n",
       "      <td>11/08/2023 14:58:57</td>\n",
       "      <td>0.1.1</td>\n",
       "      <td>-8262657030240530286</td>\n",
       "    </tr>\n",
       "    <tr>\n",
       "      <th>7</th>\n",
       "      <td>10.954656</td>\n",
       "      <td>s3</td>\n",
       "      <td>s3</td>\n",
       "      <td>True</td>\n",
       "      <td>file.csv</td>\n",
       "      <td>0</td>\n",
       "      <td>76.200081</td>\n",
       "      <td>68200</td>\n",
       "      <td>80.182617</td>\n",
       "      <td>2.119141</td>\n",
       "      <td>0.045898</td>\n",
       "      <td>0.105469</td>\n",
       "      <td>None</td>\n",
       "      <td>blog</td>\n",
       "      <td>1</td>\n",
       "      <td>11/08/2023 14:58:57</td>\n",
       "      <td>0.1.1</td>\n",
       "      <td>-8262657030240530286</td>\n",
       "    </tr>\n",
       "    <tr>\n",
       "      <th>8</th>\n",
       "      <td>3.726403</td>\n",
       "      <td>lfs git</td>\n",
       "      <td>lfs</td>\n",
       "      <td>True</td>\n",
       "      <td>file.csv</td>\n",
       "      <td>0</td>\n",
       "      <td>76.200081</td>\n",
       "      <td>68200</td>\n",
       "      <td>0.041016</td>\n",
       "      <td>0.075195</td>\n",
       "      <td>0.000977</td>\n",
       "      <td>0.000977</td>\n",
       "      <td>None</td>\n",
       "      <td>blog</td>\n",
       "      <td>1</td>\n",
       "      <td>11/08/2023 14:58:57</td>\n",
       "      <td>0.1.1</td>\n",
       "      <td>-8262657030240530286</td>\n",
       "    </tr>\n",
       "  </tbody>\n",
       "</table>\n",
       "</div>"
      ],
      "text/plain": [
       "        time    function    tech  merged  filename  step    file_mb  \\\n",
       "4   2.649432  xethub git  xethub    True  file.csv     0  76.200081   \n",
       "5  26.281029         dvc     dvc    True  file.csv     0  76.200081   \n",
       "6   4.393438      lfs s3     lfs    True  file.csv     0  76.200081   \n",
       "7  10.954656          s3      s3    True  file.csv     0  76.200081   \n",
       "8   3.726403     lfs git     lfs    True  file.csv     0  76.200081   \n",
       "\n",
       "   row_count    sent_mb   recv_mb  sent_mb_1s  recv_mb_1s error data_dir  \\\n",
       "4      68200   0.037109  0.035156    0.044922    0.071289  None     blog   \n",
       "5      68200   1.083008  0.739258    0.066406    0.033203  None     blog   \n",
       "6      68200   0.346680  0.232422    0.085938    0.043945  None     blog   \n",
       "7      68200  80.182617  2.119141    0.045898    0.105469  None     blog   \n",
       "8      68200   0.041016  0.075195    0.000977    0.000977  None     blog   \n",
       "\n",
       "   file_count             datetime pyxet_version                   id  \n",
       "4           1  11/08/2023 14:58:57         0.1.1 -8262657030240530286  \n",
       "5           1  11/08/2023 14:58:57         0.1.1 -8262657030240530286  \n",
       "6           1  11/08/2023 14:58:57         0.1.1 -8262657030240530286  \n",
       "7           1  11/08/2023 14:58:57         0.1.1 -8262657030240530286  \n",
       "8           1  11/08/2023 14:58:57         0.1.1 -8262657030240530286  "
      ]
     },
     "execution_count": 155,
     "metadata": {},
     "output_type": "execute_result"
    }
   ],
   "source": [
    "import plotly.graph_objects as go\n",
    "import pandas as pd\n",
    "\n",
    "df = pd.read_csv('../output/results.csv', engine='pyarrow')\n",
    "df = df[df['tech'] != 'm1'] # This is merging files on the laptop\n",
    "df['function'] = df['function'].str.replace('_',' ')\n",
    "df['function'] = df['function'].str.replace(' merged upload','')\n",
    "print(f\"Errors: {set(df['error'].fillna('').values)}\")\n",
    "print(f\"steps count: {df['step'].max()+1}\")\n",
    "df.head()"
   ]
  },
  {
   "cell_type": "code",
   "execution_count": 156,
   "id": "3e30a543-2a4c-4ab0-8a84-972ba191fddd",
   "metadata": {},
   "outputs": [
    {
     "data": {
      "application/vnd.plotly.v1+json": {
       "config": {
        "plotlyServerURL": "https://plot.ly"
       },
       "data": [
        {
         "domain": {
          "x": [
           0,
           1
          ],
          "y": [
           0,
           1
          ]
         },
         "hovertemplate": "function=%{label}<br>time=%{value}<extra></extra>",
         "labels": [
          "dvc",
          "lakefs",
          "lfs git",
          "lfs s3",
          "s3",
          "xethub git",
          "xethub py"
         ],
         "legendgroup": "",
         "name": "",
         "showlegend": true,
         "textinfo": "percent+label",
         "textposition": "inside",
         "type": "pie",
         "values": [
          2269.407623767853,
          1454.2943804264069,
          1873.4544486999512,
          2341.3054761886597,
          1350.9983711242676,
          161.3431625366211,
          2763.5986177921295
         ]
        }
       ],
       "layout": {
        "autosize": true,
        "legend": {
         "tracegroupgap": 0
        },
        "margin": {
         "t": 60
        },
        "template": {
         "data": {
          "bar": [
           {
            "error_x": {
             "color": "#2a3f5f"
            },
            "error_y": {
             "color": "#2a3f5f"
            },
            "marker": {
             "line": {
              "color": "#E5ECF6",
              "width": 0.5
             },
             "pattern": {
              "fillmode": "overlay",
              "size": 10,
              "solidity": 0.2
             }
            },
            "type": "bar"
           }
          ],
          "barpolar": [
           {
            "marker": {
             "line": {
              "color": "#E5ECF6",
              "width": 0.5
             },
             "pattern": {
              "fillmode": "overlay",
              "size": 10,
              "solidity": 0.2
             }
            },
            "type": "barpolar"
           }
          ],
          "carpet": [
           {
            "aaxis": {
             "endlinecolor": "#2a3f5f",
             "gridcolor": "white",
             "linecolor": "white",
             "minorgridcolor": "white",
             "startlinecolor": "#2a3f5f"
            },
            "baxis": {
             "endlinecolor": "#2a3f5f",
             "gridcolor": "white",
             "linecolor": "white",
             "minorgridcolor": "white",
             "startlinecolor": "#2a3f5f"
            },
            "type": "carpet"
           }
          ],
          "choropleth": [
           {
            "colorbar": {
             "outlinewidth": 0,
             "ticks": ""
            },
            "type": "choropleth"
           }
          ],
          "contour": [
           {
            "colorbar": {
             "outlinewidth": 0,
             "ticks": ""
            },
            "colorscale": [
             [
              0,
              "#0d0887"
             ],
             [
              0.1111111111111111,
              "#46039f"
             ],
             [
              0.2222222222222222,
              "#7201a8"
             ],
             [
              0.3333333333333333,
              "#9c179e"
             ],
             [
              0.4444444444444444,
              "#bd3786"
             ],
             [
              0.5555555555555556,
              "#d8576b"
             ],
             [
              0.6666666666666666,
              "#ed7953"
             ],
             [
              0.7777777777777778,
              "#fb9f3a"
             ],
             [
              0.8888888888888888,
              "#fdca26"
             ],
             [
              1,
              "#f0f921"
             ]
            ],
            "type": "contour"
           }
          ],
          "contourcarpet": [
           {
            "colorbar": {
             "outlinewidth": 0,
             "ticks": ""
            },
            "type": "contourcarpet"
           }
          ],
          "heatmap": [
           {
            "colorbar": {
             "outlinewidth": 0,
             "ticks": ""
            },
            "colorscale": [
             [
              0,
              "#0d0887"
             ],
             [
              0.1111111111111111,
              "#46039f"
             ],
             [
              0.2222222222222222,
              "#7201a8"
             ],
             [
              0.3333333333333333,
              "#9c179e"
             ],
             [
              0.4444444444444444,
              "#bd3786"
             ],
             [
              0.5555555555555556,
              "#d8576b"
             ],
             [
              0.6666666666666666,
              "#ed7953"
             ],
             [
              0.7777777777777778,
              "#fb9f3a"
             ],
             [
              0.8888888888888888,
              "#fdca26"
             ],
             [
              1,
              "#f0f921"
             ]
            ],
            "type": "heatmap"
           }
          ],
          "heatmapgl": [
           {
            "colorbar": {
             "outlinewidth": 0,
             "ticks": ""
            },
            "colorscale": [
             [
              0,
              "#0d0887"
             ],
             [
              0.1111111111111111,
              "#46039f"
             ],
             [
              0.2222222222222222,
              "#7201a8"
             ],
             [
              0.3333333333333333,
              "#9c179e"
             ],
             [
              0.4444444444444444,
              "#bd3786"
             ],
             [
              0.5555555555555556,
              "#d8576b"
             ],
             [
              0.6666666666666666,
              "#ed7953"
             ],
             [
              0.7777777777777778,
              "#fb9f3a"
             ],
             [
              0.8888888888888888,
              "#fdca26"
             ],
             [
              1,
              "#f0f921"
             ]
            ],
            "type": "heatmapgl"
           }
          ],
          "histogram": [
           {
            "marker": {
             "pattern": {
              "fillmode": "overlay",
              "size": 10,
              "solidity": 0.2
             }
            },
            "type": "histogram"
           }
          ],
          "histogram2d": [
           {
            "colorbar": {
             "outlinewidth": 0,
             "ticks": ""
            },
            "colorscale": [
             [
              0,
              "#0d0887"
             ],
             [
              0.1111111111111111,
              "#46039f"
             ],
             [
              0.2222222222222222,
              "#7201a8"
             ],
             [
              0.3333333333333333,
              "#9c179e"
             ],
             [
              0.4444444444444444,
              "#bd3786"
             ],
             [
              0.5555555555555556,
              "#d8576b"
             ],
             [
              0.6666666666666666,
              "#ed7953"
             ],
             [
              0.7777777777777778,
              "#fb9f3a"
             ],
             [
              0.8888888888888888,
              "#fdca26"
             ],
             [
              1,
              "#f0f921"
             ]
            ],
            "type": "histogram2d"
           }
          ],
          "histogram2dcontour": [
           {
            "colorbar": {
             "outlinewidth": 0,
             "ticks": ""
            },
            "colorscale": [
             [
              0,
              "#0d0887"
             ],
             [
              0.1111111111111111,
              "#46039f"
             ],
             [
              0.2222222222222222,
              "#7201a8"
             ],
             [
              0.3333333333333333,
              "#9c179e"
             ],
             [
              0.4444444444444444,
              "#bd3786"
             ],
             [
              0.5555555555555556,
              "#d8576b"
             ],
             [
              0.6666666666666666,
              "#ed7953"
             ],
             [
              0.7777777777777778,
              "#fb9f3a"
             ],
             [
              0.8888888888888888,
              "#fdca26"
             ],
             [
              1,
              "#f0f921"
             ]
            ],
            "type": "histogram2dcontour"
           }
          ],
          "mesh3d": [
           {
            "colorbar": {
             "outlinewidth": 0,
             "ticks": ""
            },
            "type": "mesh3d"
           }
          ],
          "parcoords": [
           {
            "line": {
             "colorbar": {
              "outlinewidth": 0,
              "ticks": ""
             }
            },
            "type": "parcoords"
           }
          ],
          "pie": [
           {
            "automargin": true,
            "type": "pie"
           }
          ],
          "scatter": [
           {
            "fillpattern": {
             "fillmode": "overlay",
             "size": 10,
             "solidity": 0.2
            },
            "type": "scatter"
           }
          ],
          "scatter3d": [
           {
            "line": {
             "colorbar": {
              "outlinewidth": 0,
              "ticks": ""
             }
            },
            "marker": {
             "colorbar": {
              "outlinewidth": 0,
              "ticks": ""
             }
            },
            "type": "scatter3d"
           }
          ],
          "scattercarpet": [
           {
            "marker": {
             "colorbar": {
              "outlinewidth": 0,
              "ticks": ""
             }
            },
            "type": "scattercarpet"
           }
          ],
          "scattergeo": [
           {
            "marker": {
             "colorbar": {
              "outlinewidth": 0,
              "ticks": ""
             }
            },
            "type": "scattergeo"
           }
          ],
          "scattergl": [
           {
            "marker": {
             "colorbar": {
              "outlinewidth": 0,
              "ticks": ""
             }
            },
            "type": "scattergl"
           }
          ],
          "scattermapbox": [
           {
            "marker": {
             "colorbar": {
              "outlinewidth": 0,
              "ticks": ""
             }
            },
            "type": "scattermapbox"
           }
          ],
          "scatterpolar": [
           {
            "marker": {
             "colorbar": {
              "outlinewidth": 0,
              "ticks": ""
             }
            },
            "type": "scatterpolar"
           }
          ],
          "scatterpolargl": [
           {
            "marker": {
             "colorbar": {
              "outlinewidth": 0,
              "ticks": ""
             }
            },
            "type": "scatterpolargl"
           }
          ],
          "scatterternary": [
           {
            "marker": {
             "colorbar": {
              "outlinewidth": 0,
              "ticks": ""
             }
            },
            "type": "scatterternary"
           }
          ],
          "surface": [
           {
            "colorbar": {
             "outlinewidth": 0,
             "ticks": ""
            },
            "colorscale": [
             [
              0,
              "#0d0887"
             ],
             [
              0.1111111111111111,
              "#46039f"
             ],
             [
              0.2222222222222222,
              "#7201a8"
             ],
             [
              0.3333333333333333,
              "#9c179e"
             ],
             [
              0.4444444444444444,
              "#bd3786"
             ],
             [
              0.5555555555555556,
              "#d8576b"
             ],
             [
              0.6666666666666666,
              "#ed7953"
             ],
             [
              0.7777777777777778,
              "#fb9f3a"
             ],
             [
              0.8888888888888888,
              "#fdca26"
             ],
             [
              1,
              "#f0f921"
             ]
            ],
            "type": "surface"
           }
          ],
          "table": [
           {
            "cells": {
             "fill": {
              "color": "#EBF0F8"
             },
             "line": {
              "color": "white"
             }
            },
            "header": {
             "fill": {
              "color": "#C8D4E3"
             },
             "line": {
              "color": "white"
             }
            },
            "type": "table"
           }
          ]
         },
         "layout": {
          "annotationdefaults": {
           "arrowcolor": "#2a3f5f",
           "arrowhead": 0,
           "arrowwidth": 1
          },
          "autotypenumbers": "strict",
          "coloraxis": {
           "colorbar": {
            "outlinewidth": 0,
            "ticks": ""
           }
          },
          "colorscale": {
           "diverging": [
            [
             0,
             "#8e0152"
            ],
            [
             0.1,
             "#c51b7d"
            ],
            [
             0.2,
             "#de77ae"
            ],
            [
             0.3,
             "#f1b6da"
            ],
            [
             0.4,
             "#fde0ef"
            ],
            [
             0.5,
             "#f7f7f7"
            ],
            [
             0.6,
             "#e6f5d0"
            ],
            [
             0.7,
             "#b8e186"
            ],
            [
             0.8,
             "#7fbc41"
            ],
            [
             0.9,
             "#4d9221"
            ],
            [
             1,
             "#276419"
            ]
           ],
           "sequential": [
            [
             0,
             "#0d0887"
            ],
            [
             0.1111111111111111,
             "#46039f"
            ],
            [
             0.2222222222222222,
             "#7201a8"
            ],
            [
             0.3333333333333333,
             "#9c179e"
            ],
            [
             0.4444444444444444,
             "#bd3786"
            ],
            [
             0.5555555555555556,
             "#d8576b"
            ],
            [
             0.6666666666666666,
             "#ed7953"
            ],
            [
             0.7777777777777778,
             "#fb9f3a"
            ],
            [
             0.8888888888888888,
             "#fdca26"
            ],
            [
             1,
             "#f0f921"
            ]
           ],
           "sequentialminus": [
            [
             0,
             "#0d0887"
            ],
            [
             0.1111111111111111,
             "#46039f"
            ],
            [
             0.2222222222222222,
             "#7201a8"
            ],
            [
             0.3333333333333333,
             "#9c179e"
            ],
            [
             0.4444444444444444,
             "#bd3786"
            ],
            [
             0.5555555555555556,
             "#d8576b"
            ],
            [
             0.6666666666666666,
             "#ed7953"
            ],
            [
             0.7777777777777778,
             "#fb9f3a"
            ],
            [
             0.8888888888888888,
             "#fdca26"
            ],
            [
             1,
             "#f0f921"
            ]
           ]
          },
          "colorway": [
           "#636efa",
           "#EF553B",
           "#00cc96",
           "#ab63fa",
           "#FFA15A",
           "#19d3f3",
           "#FF6692",
           "#B6E880",
           "#FF97FF",
           "#FECB52"
          ],
          "font": {
           "color": "#2a3f5f"
          },
          "geo": {
           "bgcolor": "white",
           "lakecolor": "white",
           "landcolor": "#E5ECF6",
           "showlakes": true,
           "showland": true,
           "subunitcolor": "white"
          },
          "hoverlabel": {
           "align": "left"
          },
          "hovermode": "closest",
          "mapbox": {
           "style": "light"
          },
          "paper_bgcolor": "white",
          "plot_bgcolor": "#E5ECF6",
          "polar": {
           "angularaxis": {
            "gridcolor": "white",
            "linecolor": "white",
            "ticks": ""
           },
           "bgcolor": "#E5ECF6",
           "radialaxis": {
            "gridcolor": "white",
            "linecolor": "white",
            "ticks": ""
           }
          },
          "scene": {
           "xaxis": {
            "backgroundcolor": "#E5ECF6",
            "gridcolor": "white",
            "gridwidth": 2,
            "linecolor": "white",
            "showbackground": true,
            "ticks": "",
            "zerolinecolor": "white"
           },
           "yaxis": {
            "backgroundcolor": "#E5ECF6",
            "gridcolor": "white",
            "gridwidth": 2,
            "linecolor": "white",
            "showbackground": true,
            "ticks": "",
            "zerolinecolor": "white"
           },
           "zaxis": {
            "backgroundcolor": "#E5ECF6",
            "gridcolor": "white",
            "gridwidth": 2,
            "linecolor": "white",
            "showbackground": true,
            "ticks": "",
            "zerolinecolor": "white"
           }
          },
          "shapedefaults": {
           "line": {
            "color": "#2a3f5f"
           }
          },
          "ternary": {
           "aaxis": {
            "gridcolor": "white",
            "linecolor": "white",
            "ticks": ""
           },
           "baxis": {
            "gridcolor": "white",
            "linecolor": "white",
            "ticks": ""
           },
           "bgcolor": "#E5ECF6",
           "caxis": {
            "gridcolor": "white",
            "linecolor": "white",
            "ticks": ""
           }
          },
          "title": {
           "x": 0.05
          },
          "xaxis": {
           "automargin": true,
           "gridcolor": "white",
           "linecolor": "white",
           "ticks": "",
           "title": {
            "standoff": 15
           },
           "zerolinecolor": "white",
           "zerolinewidth": 2
          },
          "yaxis": {
           "automargin": true,
           "gridcolor": "white",
           "linecolor": "white",
           "ticks": "",
           "title": {
            "standoff": 15
           },
           "zerolinecolor": "white",
           "zerolinewidth": 2
          }
         }
        }
       }
      },
      "image/png": "[encoded data removed]",
      "text/html": [
       "<div>                            <div id=\"f39c7c4d-5203-41c2-97e1-fcb0d1646c92\" class=\"plotly-graph-div\" style=\"height:525px; width:100%;\"></div>            <script type=\"text/javascript\">                require([\"plotly\"], function(Plotly) {                    window.PLOTLYENV=window.PLOTLYENV || {};                                    if (document.getElementById(\"f39c7c4d-5203-41c2-97e1-fcb0d1646c92\")) {                    Plotly.newPlot(                        \"f39c7c4d-5203-41c2-97e1-fcb0d1646c92\",                        [{\"domain\":{\"x\":[0.0,1.0],\"y\":[0.0,1.0]},\"hovertemplate\":\"function=%{label}\\u003cbr\\u003etime=%{value}\\u003cextra\\u003e\\u003c\\u002fextra\\u003e\",\"labels\":[\"dvc\",\"lakefs\",\"lfs git\",\"lfs s3\",\"s3\",\"xethub git\",\"xethub py\"],\"legendgroup\":\"\",\"name\":\"\",\"showlegend\":true,\"values\":[2269.407623767853,1454.2943804264069,1873.4544486999512,2341.3054761886597,1350.9983711242676,161.3431625366211,2763.5986177921295],\"type\":\"pie\",\"textinfo\":\"percent+label\",\"textposition\":\"inside\"}],                        {\"template\":{\"data\":{\"histogram2dcontour\":[{\"type\":\"histogram2dcontour\",\"colorbar\":{\"outlinewidth\":0,\"ticks\":\"\"},\"colorscale\":[[0.0,\"#0d0887\"],[0.1111111111111111,\"#46039f\"],[0.2222222222222222,\"#7201a8\"],[0.3333333333333333,\"#9c179e\"],[0.4444444444444444,\"#bd3786\"],[0.5555555555555556,\"#d8576b\"],[0.6666666666666666,\"#ed7953\"],[0.7777777777777778,\"#fb9f3a\"],[0.8888888888888888,\"#fdca26\"],[1.0,\"#f0f921\"]]}],\"choropleth\":[{\"type\":\"choropleth\",\"colorbar\":{\"outlinewidth\":0,\"ticks\":\"\"}}],\"histogram2d\":[{\"type\":\"histogram2d\",\"colorbar\":{\"outlinewidth\":0,\"ticks\":\"\"},\"colorscale\":[[0.0,\"#0d0887\"],[0.1111111111111111,\"#46039f\"],[0.2222222222222222,\"#7201a8\"],[0.3333333333333333,\"#9c179e\"],[0.4444444444444444,\"#bd3786\"],[0.5555555555555556,\"#d8576b\"],[0.6666666666666666,\"#ed7953\"],[0.7777777777777778,\"#fb9f3a\"],[0.8888888888888888,\"#fdca26\"],[1.0,\"#f0f921\"]]}],\"heatmap\":[{\"type\":\"heatmap\",\"colorbar\":{\"outlinewidth\":0,\"ticks\":\"\"},\"colorscale\":[[0.0,\"#0d0887\"],[0.1111111111111111,\"#46039f\"],[0.2222222222222222,\"#7201a8\"],[0.3333333333333333,\"#9c179e\"],[0.4444444444444444,\"#bd3786\"],[0.5555555555555556,\"#d8576b\"],[0.6666666666666666,\"#ed7953\"],[0.7777777777777778,\"#fb9f3a\"],[0.8888888888888888,\"#fdca26\"],[1.0,\"#f0f921\"]]}],\"heatmapgl\":[{\"type\":\"heatmapgl\",\"colorbar\":{\"outlinewidth\":0,\"ticks\":\"\"},\"colorscale\":[[0.0,\"#0d0887\"],[0.1111111111111111,\"#46039f\"],[0.2222222222222222,\"#7201a8\"],[0.3333333333333333,\"#9c179e\"],[0.4444444444444444,\"#bd3786\"],[0.5555555555555556,\"#d8576b\"],[0.6666666666666666,\"#ed7953\"],[0.7777777777777778,\"#fb9f3a\"],[0.8888888888888888,\"#fdca26\"],[1.0,\"#f0f921\"]]}],\"contourcarpet\":[{\"type\":\"contourcarpet\",\"colorbar\":{\"outlinewidth\":0,\"ticks\":\"\"}}],\"contour\":[{\"type\":\"contour\",\"colorbar\":{\"outlinewidth\":0,\"ticks\":\"\"},\"colorscale\":[[0.0,\"#0d0887\"],[0.1111111111111111,\"#46039f\"],[0.2222222222222222,\"#7201a8\"],[0.3333333333333333,\"#9c179e\"],[0.4444444444444444,\"#bd3786\"],[0.5555555555555556,\"#d8576b\"],[0.6666666666666666,\"#ed7953\"],[0.7777777777777778,\"#fb9f3a\"],[0.8888888888888888,\"#fdca26\"],[1.0,\"#f0f921\"]]}],\"surface\":[{\"type\":\"surface\",\"colorbar\":{\"outlinewidth\":0,\"ticks\":\"\"},\"colorscale\":[[0.0,\"#0d0887\"],[0.1111111111111111,\"#46039f\"],[0.2222222222222222,\"#7201a8\"],[0.3333333333333333,\"#9c179e\"],[0.4444444444444444,\"#bd3786\"],[0.5555555555555556,\"#d8576b\"],[0.6666666666666666,\"#ed7953\"],[0.7777777777777778,\"#fb9f3a\"],[0.8888888888888888,\"#fdca26\"],[1.0,\"#f0f921\"]]}],\"mesh3d\":[{\"type\":\"mesh3d\",\"colorbar\":{\"outlinewidth\":0,\"ticks\":\"\"}}],\"scatter\":[{\"fillpattern\":{\"fillmode\":\"overlay\",\"size\":10,\"solidity\":0.2},\"type\":\"scatter\"}],\"parcoords\":[{\"type\":\"parcoords\",\"line\":{\"colorbar\":{\"outlinewidth\":0,\"ticks\":\"\"}}}],\"scatterpolargl\":[{\"type\":\"scatterpolargl\",\"marker\":{\"colorbar\":{\"outlinewidth\":0,\"ticks\":\"\"}}}],\"bar\":[{\"error_x\":{\"color\":\"#2a3f5f\"},\"error_y\":{\"color\":\"#2a3f5f\"},\"marker\":{\"line\":{\"color\":\"#E5ECF6\",\"width\":0.5},\"pattern\":{\"fillmode\":\"overlay\",\"size\":10,\"solidity\":0.2}},\"type\":\"bar\"}],\"scattergeo\":[{\"type\":\"scattergeo\",\"marker\":{\"colorbar\":{\"outlinewidth\":0,\"ticks\":\"\"}}}],\"scatterpolar\":[{\"type\":\"scatterpolar\",\"marker\":{\"colorbar\":{\"outlinewidth\":0,\"ticks\":\"\"}}}],\"histogram\":[{\"marker\":{\"pattern\":{\"fillmode\":\"overlay\",\"size\":10,\"solidity\":0.2}},\"type\":\"histogram\"}],\"scattergl\":[{\"type\":\"scattergl\",\"marker\":{\"colorbar\":{\"outlinewidth\":0,\"ticks\":\"\"}}}],\"scatter3d\":[{\"type\":\"scatter3d\",\"line\":{\"colorbar\":{\"outlinewidth\":0,\"ticks\":\"\"}},\"marker\":{\"colorbar\":{\"outlinewidth\":0,\"ticks\":\"\"}}}],\"scattermapbox\":[{\"type\":\"scattermapbox\",\"marker\":{\"colorbar\":{\"outlinewidth\":0,\"ticks\":\"\"}}}],\"scatterternary\":[{\"type\":\"scatterternary\",\"marker\":{\"colorbar\":{\"outlinewidth\":0,\"ticks\":\"\"}}}],\"scattercarpet\":[{\"type\":\"scattercarpet\",\"marker\":{\"colorbar\":{\"outlinewidth\":0,\"ticks\":\"\"}}}],\"carpet\":[{\"aaxis\":{\"endlinecolor\":\"#2a3f5f\",\"gridcolor\":\"white\",\"linecolor\":\"white\",\"minorgridcolor\":\"white\",\"startlinecolor\":\"#2a3f5f\"},\"baxis\":{\"endlinecolor\":\"#2a3f5f\",\"gridcolor\":\"white\",\"linecolor\":\"white\",\"minorgridcolor\":\"white\",\"startlinecolor\":\"#2a3f5f\"},\"type\":\"carpet\"}],\"table\":[{\"cells\":{\"fill\":{\"color\":\"#EBF0F8\"},\"line\":{\"color\":\"white\"}},\"header\":{\"fill\":{\"color\":\"#C8D4E3\"},\"line\":{\"color\":\"white\"}},\"type\":\"table\"}],\"barpolar\":[{\"marker\":{\"line\":{\"color\":\"#E5ECF6\",\"width\":0.5},\"pattern\":{\"fillmode\":\"overlay\",\"size\":10,\"solidity\":0.2}},\"type\":\"barpolar\"}],\"pie\":[{\"automargin\":true,\"type\":\"pie\"}]},\"layout\":{\"autotypenumbers\":\"strict\",\"colorway\":[\"#636efa\",\"#EF553B\",\"#00cc96\",\"#ab63fa\",\"#FFA15A\",\"#19d3f3\",\"#FF6692\",\"#B6E880\",\"#FF97FF\",\"#FECB52\"],\"font\":{\"color\":\"#2a3f5f\"},\"hovermode\":\"closest\",\"hoverlabel\":{\"align\":\"left\"},\"paper_bgcolor\":\"white\",\"plot_bgcolor\":\"#E5ECF6\",\"polar\":{\"bgcolor\":\"#E5ECF6\",\"angularaxis\":{\"gridcolor\":\"white\",\"linecolor\":\"white\",\"ticks\":\"\"},\"radialaxis\":{\"gridcolor\":\"white\",\"linecolor\":\"white\",\"ticks\":\"\"}},\"ternary\":{\"bgcolor\":\"#E5ECF6\",\"aaxis\":{\"gridcolor\":\"white\",\"linecolor\":\"white\",\"ticks\":\"\"},\"baxis\":{\"gridcolor\":\"white\",\"linecolor\":\"white\",\"ticks\":\"\"},\"caxis\":{\"gridcolor\":\"white\",\"linecolor\":\"white\",\"ticks\":\"\"}},\"coloraxis\":{\"colorbar\":{\"outlinewidth\":0,\"ticks\":\"\"}},\"colorscale\":{\"sequential\":[[0.0,\"#0d0887\"],[0.1111111111111111,\"#46039f\"],[0.2222222222222222,\"#7201a8\"],[0.3333333333333333,\"#9c179e\"],[0.4444444444444444,\"#bd3786\"],[0.5555555555555556,\"#d8576b\"],[0.6666666666666666,\"#ed7953\"],[0.7777777777777778,\"#fb9f3a\"],[0.8888888888888888,\"#fdca26\"],[1.0,\"#f0f921\"]],\"sequentialminus\":[[0.0,\"#0d0887\"],[0.1111111111111111,\"#46039f\"],[0.2222222222222222,\"#7201a8\"],[0.3333333333333333,\"#9c179e\"],[0.4444444444444444,\"#bd3786\"],[0.5555555555555556,\"#d8576b\"],[0.6666666666666666,\"#ed7953\"],[0.7777777777777778,\"#fb9f3a\"],[0.8888888888888888,\"#fdca26\"],[1.0,\"#f0f921\"]],\"diverging\":[[0,\"#8e0152\"],[0.1,\"#c51b7d\"],[0.2,\"#de77ae\"],[0.3,\"#f1b6da\"],[0.4,\"#fde0ef\"],[0.5,\"#f7f7f7\"],[0.6,\"#e6f5d0\"],[0.7,\"#b8e186\"],[0.8,\"#7fbc41\"],[0.9,\"#4d9221\"],[1,\"#276419\"]]},\"xaxis\":{\"gridcolor\":\"white\",\"linecolor\":\"white\",\"ticks\":\"\",\"title\":{\"standoff\":15},\"zerolinecolor\":\"white\",\"automargin\":true,\"zerolinewidth\":2},\"yaxis\":{\"gridcolor\":\"white\",\"linecolor\":\"white\",\"ticks\":\"\",\"title\":{\"standoff\":15},\"zerolinecolor\":\"white\",\"automargin\":true,\"zerolinewidth\":2},\"scene\":{\"xaxis\":{\"backgroundcolor\":\"#E5ECF6\",\"gridcolor\":\"white\",\"linecolor\":\"white\",\"showbackground\":true,\"ticks\":\"\",\"zerolinecolor\":\"white\",\"gridwidth\":2},\"yaxis\":{\"backgroundcolor\":\"#E5ECF6\",\"gridcolor\":\"white\",\"linecolor\":\"white\",\"showbackground\":true,\"ticks\":\"\",\"zerolinecolor\":\"white\",\"gridwidth\":2},\"zaxis\":{\"backgroundcolor\":\"#E5ECF6\",\"gridcolor\":\"white\",\"linecolor\":\"white\",\"showbackground\":true,\"ticks\":\"\",\"zerolinecolor\":\"white\",\"gridwidth\":2}},\"shapedefaults\":{\"line\":{\"color\":\"#2a3f5f\"}},\"annotationdefaults\":{\"arrowcolor\":\"#2a3f5f\",\"arrowhead\":0,\"arrowwidth\":1},\"geo\":{\"bgcolor\":\"white\",\"landcolor\":\"#E5ECF6\",\"subunitcolor\":\"white\",\"showland\":true,\"showlakes\":true,\"lakecolor\":\"white\"},\"title\":{\"x\":0.05},\"mapbox\":{\"style\":\"light\"}}},\"legend\":{\"tracegroupgap\":0},\"margin\":{\"t\":60}},                        {\"responsive\": true}                    ).then(function(){\n",
       "                            \n",
       "var gd = document.getElementById('f39c7c4d-5203-41c2-97e1-fcb0d1646c92');\n",
       "var x = new MutationObserver(function (mutations, observer) {{\n",
       "        var display = window.getComputedStyle(gd).display;\n",
       "        if (!display || display === 'none') {{\n",
       "            console.log([gd, 'removed!']);\n",
       "            Plotly.purge(gd);\n",
       "            observer.disconnect();\n",
       "        }}\n",
       "}});\n",
       "\n",
       "// Listen for the removal of the full notebook cells\n",
       "var notebookContainer = gd.closest('#notebook-container');\n",
       "if (notebookContainer) {{\n",
       "    x.observe(notebookContainer, {childList: true});\n",
       "}}\n",
       "\n",
       "// Listen for the clearing of the current output cell\n",
       "var outputEl = gd.closest('.output');\n",
       "if (outputEl) {{\n",
       "    x.observe(outputEl, {childList: true});\n",
       "}}\n",
       "\n",
       "                        })                };                });            </script>        </div>"
      ]
     },
     "metadata": {},
     "output_type": "display_data"
    },
    {
     "data": {
      "application/vnd.plotly.v1+json": {
       "config": {
        "plotlyServerURL": "https://plot.ly"
       },
       "data": [
        {
         "hovertemplate": "function=xethub git<br>step=%{x}<br>cumulative_time=%{y}<extra></extra>",
         "legendgroup": "xethub git",
         "line": {
          "color": "#636efa",
          "dash": "solid"
         },
         "marker": {
          "symbol": "circle"
         },
         "mode": "lines",
         "name": "xethub git",
         "orientation": "v",
         "showlegend": true,
         "type": "scatter",
         "x": [
          0,
          1,
          2,
          3,
          4,
          5,
          6,
          7,
          8,
          9,
          10,
          11,
          12,
          13,
          14,
          15,
          16,
          17,
          18,
          19,
          20,
          21,
          22,
          23,
          24,
          25,
          26,
          27,
          28,
          29,
          30,
          31,
          32,
          33,
          34,
          35,
          36,
          37,
          38,
          39,
          40,
          41,
          42,
          43,
          44,
          45,
          46,
          47,
          48,
          49,
          50,
          51,
          52,
          53,
          54,
          55,
          56,
          57,
          58,
          59,
          60,
          61,
          62,
          63,
          64,
          65,
          66,
          67,
          68,
          69,
          70,
          71,
          72,
          73,
          74,
          75,
          76,
          77,
          78,
          79,
          80,
          81,
          82,
          83,
          84,
          85,
          86,
          87,
          88,
          89,
          90,
          91,
          92,
          93,
          94,
          95,
          96,
          97,
          98,
          99
         ],
         "xaxis": "x",
         "y": [
          2.6494319438934326,
          4.377758979797363,
          6.2017457485198975,
          8.007681608200073,
          9.909929513931274,
          11.765496253967285,
          13.40223741531372,
          14.903875350952148,
          16.6357684135437,
          18.43200922012329,
          19.94849419593811,
          21.738373279571533,
          23.43372130393982,
          25.485431671142578,
          27.245316743850708,
          28.86013889312744,
          30.597771883010864,
          32.354074001312256,
          33.94430184364319,
          35.61162567138672,
          37.305418491363525,
          38.85717535018921,
          40.50731039047241,
          42.08457112312317,
          43.73080921173096,
          45.30558204650879,
          46.83885884284973,
          48.34696078300476,
          49.826021909713745,
          51.53840470314026,
          53.30646300315857,
          54.84095215797424,
          56.44774889945984,
          58.02153420448303,
          59.499855041503906,
          61.11448287963867,
          62.80736994743347,
          64.44149494171143,
          65.95238709449768,
          67.35146713256836,
          68.88674426078796,
          70.40589618682861,
          71.96292018890381,
          73.59810423851013,
          75.09360027313232,
          76.55866026878357,
          78.06952905654907,
          79.56611609458923,
          81.0879909992218,
          82.57726573944092,
          84.13578987121582,
          85.56431674957275,
          87.15730285644531,
          88.86544394493103,
          90.4244110584259,
          91.90646481513977,
          93.54502391815186,
          95.13879489898682,
          96.77466177940369,
          98.30638480186462,
          99.92161273956299,
          101.73278450965881,
          103.26449871063232,
          104.93390560150146,
          106.46573162078857,
          108.03344249725342,
          109.5557291507721,
          111.05636429786682,
          112.67508625984192,
          114.25475645065308,
          115.79283428192139,
          117.35266709327698,
          118.94899415969849,
          120.40209317207336,
          122.11642527580261,
          123.77018737792969,
          125.28819036483765,
          126.85395431518555,
          128.46733617782593,
          130.0153980255127,
          131.58822226524353,
          133.11494827270508,
          134.6286563873291,
          136.10901641845703,
          137.65143728256226,
          139.12365555763245,
          140.70608162879944,
          142.22153854370117,
          143.6857304573059,
          145.23868823051453,
          146.7549431324005,
          148.36076712608337,
          150.10466122627258,
          151.7053210735321,
          153.44461297988892,
          155.00898003578186,
          156.44668078422546,
          157.98259854316711,
          159.6483175754547,
          161.3431625366211
         ],
         "yaxis": "y"
        },
        {
         "hovertemplate": "function=dvc<br>step=%{x}<br>cumulative_time=%{y}<extra></extra>",
         "legendgroup": "dvc",
         "line": {
          "color": "#EF553B",
          "dash": "solid"
         },
         "marker": {
          "symbol": "circle"
         },
         "mode": "lines",
         "name": "dvc",
         "orientation": "v",
         "showlegend": true,
         "type": "scatter",
         "x": [
          0,
          1,
          2,
          3,
          4,
          5,
          6,
          7,
          8,
          9,
          10,
          11,
          12,
          13,
          14,
          15,
          16,
          17,
          18,
          19,
          20,
          21,
          22,
          23,
          24,
          25,
          26,
          27,
          28,
          29,
          30,
          31,
          32,
          33,
          34,
          35,
          36,
          37,
          38,
          39,
          40,
          41,
          42,
          43,
          44,
          45,
          46,
          47,
          48,
          49,
          50,
          51,
          52,
          53,
          54,
          55,
          56,
          57,
          58,
          59,
          60,
          61,
          62,
          63,
          64,
          65,
          66,
          67,
          68,
          69,
          70,
          71,
          72,
          73,
          74,
          75,
          76,
          77,
          78,
          79,
          80,
          81,
          82,
          83,
          84,
          85,
          86,
          87,
          88,
          89,
          90,
          91,
          92,
          93,
          94,
          95,
          96,
          97,
          98,
          99
         ],
         "xaxis": "x",
         "y": [
          26.281028747558594,
          52.74557590484619,
          79.14322471618652,
          104.76878476142883,
          130.66181993484497,
          156.60199785232544,
          171.11766386032104,
          197.08784866333008,
          211.66553735733032,
          237.37751126289368,
          263.2704961299896,
          287.0135660171509,
          301.57090616226196,
          327.6714029312134,
          357.07118797302246,
          382.8851978778839,
          407.03753209114075,
          431.03859281539917,
          456.9270739555359,
          482.7228310108185,
          508.76338505744934,
          534.65886926651,
          563.0256114006042,
          588.6557731628418,
          603.0016272068024,
          628.6386470794678,
          654.1352620124817,
          679.44238114357,
          704.9293711185455,
          729.0498661994934,
          761.591863155365,
          776.2924273014069,
          802.2277002334595,
          826.3550324440002,
          852.462161064148,
          878.592579126358,
          904.5185804367065,
          930.393351316452,
          956.319776058197,
          970.7203159332275,
          996.1316750049591,
          1010.5564687252045,
          1024.7701888084412,
          1064.7428648471832,
          1090.442442893982,
          1104.690850019455,
          1130.267729997635,
          1144.7245790958405,
          1170.6111900806427,
          1185.2173800468445,
          1209.071329832077,
          1242.6283888816833,
          1257.098098039627,
          1287.722608089447,
          1311.318792104721,
          1336.6993403434753,
          1351.423199415207,
          1366.014980316162,
          1381.0462093353271,
          1404.811327457428,
          1428.6762325763702,
          1443.0547213554382,
          1466.9426183700562,
          1493.0752172470093,
          1518.9296712875366,
          1544.8815002441406,
          1570.5332903862,
          1596.0410385131836,
          1622.1316583156586,
          1636.6057493686676,
          1662.4959964752197,
          1687.9837174415588,
          1702.0845804214478,
          1727.8366134166718,
          1753.4645433425903,
          1779.0934991836548,
          1802.933913230896,
          1828.8807232379913,
          1854.395679950714,
          1869.2166798114777,
          1883.8340487480164,
          1898.648768901825,
          1924.53884100914,
          1948.5105240345001,
          1962.984354019165,
          1987.0022900104523,
          2011.004812002182,
          2036.9666862487793,
          2062.6330263614655,
          2077.365844488144,
          2092.7383937835693,
          2118.670120716095,
          2133.094749689102,
          2148.120272874832,
          2162.853167772293,
          2177.3942646980286,
          2202.910790681839,
          2228.772880554199,
          2254.6407096385956,
          2269.407623767853
         ],
         "yaxis": "y"
        },
        {
         "hovertemplate": "function=lfs s3<br>step=%{x}<br>cumulative_time=%{y}<extra></extra>",
         "legendgroup": "lfs s3",
         "line": {
          "color": "#00cc96",
          "dash": "solid"
         },
         "marker": {
          "symbol": "circle"
         },
         "mode": "lines",
         "name": "lfs s3",
         "orientation": "v",
         "showlegend": true,
         "type": "scatter",
         "x": [
          0,
          1,
          2,
          3,
          4,
          5,
          6,
          7,
          8,
          9,
          10,
          11,
          12,
          13,
          14,
          15,
          16,
          17,
          18,
          19,
          20,
          21,
          22,
          23,
          24,
          25,
          26,
          27,
          28,
          29,
          30,
          31,
          32,
          33,
          34,
          35,
          36,
          37,
          38,
          39,
          40,
          41,
          42,
          43,
          44,
          45,
          46,
          47,
          48,
          49,
          50,
          51,
          52,
          53,
          54,
          55,
          56,
          57,
          58,
          59,
          60,
          61,
          62,
          63,
          64,
          65,
          66,
          67,
          68,
          69,
          70,
          71,
          72,
          73,
          74,
          75,
          76,
          77,
          78,
          79,
          80,
          81,
          82,
          83,
          84,
          85,
          86,
          87,
          88,
          89,
          90,
          91,
          92,
          93,
          94,
          95,
          96,
          97,
          98,
          99
         ],
         "xaxis": "x",
         "y": [
          4.39343786239624,
          28.79268479347229,
          51.31296968460083,
          75.3773787021637,
          99.36281251907349,
          123.30457854270935,
          147.37103152275085,
          169.70364475250244,
          193.63336563110352,
          217.7197983264923,
          241.70063948631287,
          264.32423758506775,
          286.58557653427124,
          310.8191993236542,
          334.6391444206238,
          357.2893786430359,
          381.07331466674805,
          404.96501779556274,
          436.2330198287964,
          459.82501578330994,
          484.74520897865295,
          509.03147292137146,
          532.8179078102112,
          554.7792475223541,
          578.5041666030884,
          600.9781656265259,
          614.6095566749573,
          638.5534567832947,
          660.872321844101,
          684.634655714035,
          708.6173405647278,
          732.6577594280243,
          756.8143873214722,
          779.0882353782654,
          801.5360612869263,
          825.1375794410706,
          847.6435256004333,
          877.4308025836945,
          901.4760406017303,
          925.1743335723877,
          948.6860885620117,
          972.5699505805969,
          986.2656726837158,
          1009.1462898254395,
          1032.8588099479675,
          1056.8035895824432,
          1080.7924914360046,
          1111.4715626239777,
          1135.3672227859497,
          1159.2516586780548,
          1181.7415747642517,
          1205.8064489364624,
          1228.175082206726,
          1252.0429940223694,
          1265.550606250763,
          1289.2997751235962,
          1313.0744154453278,
          1338.4497051239014,
          1362.3827998638153,
          1376.6174428462982,
          1398.9626951217651,
          1423.0453259944916,
          1446.8059208393097,
          1478.1113357543945,
          1502.452637910843,
          1524.835321187973,
          1548.9074311256409,
          1572.8029072284698,
          1595.078012228012,
          1618.695336341858,
          1642.4439625740051,
          1666.3103065490723,
          1691.678023815155,
          1715.7677240371704,
          1737.9517171382904,
          1771.9079291820526,
          1794.3743193149567,
          1826.9089653491974,
          1849.2075712680817,
          1877.1856591701508,
          1901.0420961380005,
          1924.8470058441162,
          1948.460650920868,
          1973.231167793274,
          1995.4407048225403,
          2017.7849128246307,
          2041.8424108028412,
          2065.6644735336304,
          2088.3896045684814,
          2112.2918236255646,
          2136.011912584305,
          2158.411340713501,
          2183.547269821167,
          2198.150275707245,
          2222.1701798439026,
          2247.263981819153,
          2271.2510290145874,
          2293.290769815445,
          2317.364389181137,
          2341.3054761886597
         ],
         "yaxis": "y"
        },
        {
         "hovertemplate": "function=s3<br>step=%{x}<br>cumulative_time=%{y}<extra></extra>",
         "legendgroup": "s3",
         "line": {
          "color": "#ab63fa",
          "dash": "solid"
         },
         "marker": {
          "symbol": "circle"
         },
         "mode": "lines",
         "name": "s3",
         "orientation": "v",
         "showlegend": true,
         "type": "scatter",
         "x": [
          0,
          1,
          2,
          3,
          4,
          5,
          6,
          7,
          8,
          9,
          10,
          11,
          12,
          13,
          14,
          15,
          16,
          17,
          18,
          19,
          20,
          21,
          22,
          23,
          24,
          25,
          26,
          27,
          28,
          29,
          30,
          31,
          32,
          33,
          34,
          35,
          36,
          37,
          38,
          39,
          40,
          41,
          42,
          43,
          44,
          45,
          46,
          47,
          48,
          49,
          50,
          51,
          52,
          53,
          54,
          55,
          56,
          57,
          58,
          59,
          60,
          61,
          62,
          63,
          64,
          65,
          66,
          67,
          68,
          69,
          70,
          71,
          72,
          73,
          74,
          75,
          76,
          77,
          78,
          79,
          80,
          81,
          82,
          83,
          84,
          85,
          86,
          87,
          88,
          89,
          90,
          91,
          92,
          93,
          94,
          95,
          96,
          97,
          98,
          99
         ],
         "xaxis": "x",
         "y": [
          10.95465612411499,
          26.776751041412354,
          37.130319118499756,
          52.18087911605835,
          66.24403405189514,
          81.43003797531128,
          91.5231831073761,
          101.78040814399719,
          116.84325098991394,
          131.8778202533722,
          146.8667070865631,
          161.92470693588257,
          176.95937609672546,
          187.11074423789978,
          202.14541125297546,
          212.36015439033508,
          227.55299019813538,
          237.55929946899414,
          252.666508436203,
          263.1556634902954,
          278.24040961265564,
          293.29717659950256,
          303.45888662338257,
          318.4102985858917,
          328.6322977542877,
          343.651163816452,
          358.52917981147766,
          373.4636459350586,
          388.5196018218994,
          398.51672983169556,
          408.88899517059326,
          423.8280198574066,
          437.3610987663269,
          447.3573064804077,
          462.4386954307556,
          477.62520027160645,
          492.50387024879456,
          507.67185735702515,
          522.6750252246857,
          536.7125861644745,
          546.959290266037,
          562.0013270378113,
          577.2533340454102,
          594.6510372161865,
          604.692024230957,
          619.80810713768,
          630.1003551483154,
          645.3147120475769,
          655.5054969787598,
          670.6912558078766,
          680.7517569065094,
          690.7463848590851,
          708.9282586574554,
          723.9603095054626,
          734.1728165149689,
          749.4562304019928,
          764.7512784004211,
          779.9798123836517,
          795.1756181716919,
          810.207426071167,
          825.2954058647156,
          840.3914918899536,
          850.5569748878479,
          865.6748969554901,
          875.7689201831818,
          890.9740753173828,
          905.9676992893219,
          920.9759254455566,
          936.1180994510651,
          946.1241064071655,
          956.299768447876,
          971.3163123130798,
          981.5585193634033,
          996.6315140724182,
          1011.7518281936646,
          1027.4660682678223,
          1037.4802181720734,
          1052.5368094444275,
          1067.8330986499786,
          1082.9201354980469,
          1093.1679935455322,
          1103.3611903190613,
          1118.373850107193,
          1128.8921718597412,
          1144.0000040531158,
          1159.2332639694214,
          1169.4043300151825,
          1184.4609599113464,
          1199.6081700325012,
          1214.7783539295197,
          1229.816838979721,
          1244.947201013565,
          1254.9880619049072,
          1270.1731750965118,
          1285.317142009735,
          1300.3636481761932,
          1315.428185224533,
          1325.490050315857,
          1340.5326652526855,
          1350.9983711242676
         ],
         "yaxis": "y"
        },
        {
         "hovertemplate": "function=lfs git<br>step=%{x}<br>cumulative_time=%{y}<extra></extra>",
         "legendgroup": "lfs git",
         "line": {
          "color": "#FFA15A",
          "dash": "solid"
         },
         "marker": {
          "symbol": "circle"
         },
         "mode": "lines",
         "name": "lfs git",
         "orientation": "v",
         "showlegend": true,
         "type": "scatter",
         "x": [
          0,
          1,
          2,
          3,
          4,
          5,
          6,
          7,
          8,
          9,
          10,
          11,
          12,
          13,
          14,
          15,
          16,
          17,
          18,
          19,
          20,
          21,
          22,
          23,
          24,
          25,
          26,
          27,
          28,
          29,
          30,
          31,
          32,
          33,
          34,
          35,
          36,
          37,
          38,
          39,
          40,
          41,
          42,
          43,
          44,
          45,
          46,
          47,
          48,
          49,
          50,
          51,
          52,
          53,
          54,
          55,
          56,
          57,
          58,
          59,
          60,
          61,
          62,
          63,
          64,
          65,
          66,
          67,
          68,
          69,
          70,
          71,
          72,
          73,
          74,
          75,
          76,
          77,
          78,
          79,
          80,
          81,
          82,
          83,
          84,
          85,
          86,
          87,
          88,
          89,
          90,
          91,
          92,
          93,
          94,
          95,
          96,
          97,
          98,
          99
         ],
         "xaxis": "x",
         "y": [
          3.72640323638916,
          15.419553995132446,
          27.12158703804016,
          58.89098119735718,
          80.75575995445251,
          92.42491793632507,
          114.27213621139526,
          126.12520098686218,
          138.1422040462494,
          149.79769206047058,
          171.13414192199707,
          193.02995896339417,
          204.67269587516785,
          226.5178940296173,
          248.19959902763367,
          269.9400782585144,
          292.04414319992065,
          314.79321026802063,
          336.2665424346924,
          347.9332344532013,
          369.9730875492096,
          391.7609145641327,
          403.44131565093994,
          425.5717794895172,
          447.5733654499054,
          459.1476535797119,
          480.6253705024719,
          502.7485854625702,
          524.6652526855469,
          536.1248404979706,
          547.6818845272064,
          569.5680246353149,
          591.0230424404144,
          612.6807246208191,
          634.5619106292725,
          702.2427296638489,
          724.6106729507446,
          746.5335190296173,
          768.5290710926056,
          789.9974992275238,
          811.6344273090363,
          833.463983297348,
          844.987377166748,
          866.9730212688446,
          888.5608456134796,
          909.6016116142273,
          931.3005065917969,
          953.8190097808838,
          965.4593708515167,
          977.4416778087616,
          988.8644616603851,
          1000.4299428462982,
          1022.1582808494568,
          1044.30907869339,
          1065.6633627414703,
          1086.430386543274,
          1098.0141835212708,
          1119.8257517814636,
          1140.779316663742,
          1162.831518650055,
          1174.2593743801117,
          1196.164885520935,
          1218.9654183387756,
          1240.7646424770355,
          1252.863689661026,
          1264.3229415416718,
          1275.93230342865,
          1287.6443903446198,
          1299.1113605499268,
          1310.9813005924225,
          1333.1121413707733,
          1344.904732465744,
          1356.3674764633179,
          1367.8546395301819,
          1389.5630266666412,
          1411.205368757248,
          1433.2135150432587,
          1455.2457139492035,
          1466.8817999362946,
          1488.51726603508,
          1510.2030169963837,
          1532.8475840091705,
          1544.3443830013275,
          1556.1284642219543,
          1577.8793332576752,
          1599.6920373439789,
          1621.6267313957214,
          1643.6921796798706,
          1665.507580757141,
          1686.9753880500793,
          1708.423176765442,
          1720.2865207195282,
          1731.7890815734863,
          1752.8566982746124,
          1764.5411550998688,
          1786.1410250663757,
          1807.7554891109467,
          1829.5857968330383,
          1851.5261068344116,
          1873.4544486999512
         ],
         "yaxis": "y"
        },
        {
         "hovertemplate": "function=xethub py<br>step=%{x}<br>cumulative_time=%{y}<extra></extra>",
         "legendgroup": "xethub py",
         "line": {
          "color": "#19d3f3",
          "dash": "solid"
         },
         "marker": {
          "symbol": "circle"
         },
         "mode": "lines",
         "name": "xethub py",
         "orientation": "v",
         "showlegend": true,
         "type": "scatter",
         "x": [
          0,
          1,
          2,
          3,
          4,
          5,
          6,
          7,
          8,
          9,
          10,
          11,
          12,
          13,
          14,
          15,
          16,
          17,
          18,
          19,
          20,
          21,
          22,
          23,
          24,
          25,
          26,
          27,
          28,
          29,
          30,
          31,
          32,
          33,
          34,
          35,
          36,
          37,
          38,
          39,
          40,
          41,
          42,
          43,
          44,
          45,
          46,
          47,
          48,
          49,
          50,
          51,
          52,
          53,
          54,
          55,
          56,
          57,
          58,
          59,
          60,
          61,
          62,
          63,
          64,
          65,
          66,
          67,
          68,
          69,
          70,
          71,
          72,
          73,
          74,
          75,
          76,
          77,
          78,
          79,
          80,
          81,
          82,
          83,
          84,
          85,
          86,
          87,
          88,
          89,
          90,
          91,
          92,
          93,
          94,
          95,
          96,
          97,
          98,
          99
         ],
         "xaxis": "x",
         "y": [
          18.57864809036255,
          54.64010190963745,
          83.7100419998169,
          119.6808180809021,
          142.06482410430908,
          161.13189816474915,
          192.49784231185913,
          219.49287700653076,
          236.4974091053009,
          269.3225860595703,
          302.21477818489075,
          329.5887701511383,
          360.05849528312683,
          396.1228942871094,
          423.8157522678375,
          444.0778353214264,
          476.5282492637634,
          497.0347502231598,
          515.1094682216644,
          533.5329551696777,
          556.5065581798553,
          573.1051771640778,
          601.0937583446503,
          626.428323507309,
          656.4734315872192,
          683.650440454483,
          709.9422116279602,
          731.7605955600739,
          761.0697114467621,
          785.0644221305847,
          806.9612669944763,
          842.0223817825317,
          874.7162096500397,
          892.3042545318604,
          923.7354197502136,
          942.6855738162994,
          976.1481280326843,
          1004.3465008735657,
          1021.9771549701691,
          1044.0347001552582,
          1065.4437322616577,
          1085.0436174869537,
          1120.3524854183197,
          1156.9586074352264,
          1184.9166345596313,
          1218.4471683502197,
          1246.156274318695,
          1274.6452124118805,
          1303.784788608551,
          1337.3383405208588,
          1365.5675494670868,
          1384.7590563297272,
          1416.9703953266144,
          1438.8403685092926,
          1456.7035417556763,
          1483.234299659729,
          1506.752406835556,
          1542.589523077011,
          1575.9287538528442,
          1599.123953819275,
          1630.9072527885437,
          1651.6641068458557,
          1689.0582847595215,
          1722.581518650055,
          1746.2687995433807,
          1765.1359124183655,
          1799.0653755664825,
          1834.5329678058624,
          1863.856479883194,
          1896.3609127998352,
          1928.4486298561096,
          1959.8080220222473,
          1977.0440213680267,
          2000.022542476654,
          2038.5672035217285,
          2063.275997400284,
          2094.4684913158417,
          2115.231850385666,
          2141.3394033908844,
          2172.9971265792847,
          2207.178915500641,
          2242.60587143898,
          2280.41463637352,
          2314.5111832618713,
          2345.076196193695,
          2379.5314753055573,
          2412.1236469745636,
          2449.2986147403717,
          2474.6541097164154,
          2502.6773738861084,
          2528.0514039993286,
          2558.507276058197,
          2575.047676086426,
          2608.1058959960938,
          2625.89115691185,
          2655.0897159576416,
          2686.7635519504547,
          2706.3923959732056,
          2741.0491099357605,
          2763.5986177921295
         ],
         "yaxis": "y"
        },
        {
         "hovertemplate": "function=lakefs<br>step=%{x}<br>cumulative_time=%{y}<extra></extra>",
         "legendgroup": "lakefs",
         "line": {
          "color": "#FF6692",
          "dash": "solid"
         },
         "marker": {
          "symbol": "circle"
         },
         "mode": "lines",
         "name": "lakefs",
         "orientation": "v",
         "showlegend": true,
         "type": "scatter",
         "x": [
          0,
          1,
          2,
          3,
          4,
          5,
          6,
          7,
          8,
          9,
          10,
          11,
          12,
          13,
          14,
          15,
          16,
          17,
          18,
          19,
          20,
          21,
          22,
          23,
          24,
          25,
          26,
          27,
          28,
          29,
          30,
          31,
          32,
          33,
          34,
          35,
          36,
          37,
          38,
          39,
          40,
          41,
          42,
          43,
          44,
          45,
          46,
          47,
          48,
          49,
          50,
          51,
          52,
          53,
          54,
          55,
          56,
          57,
          58,
          59,
          60,
          61,
          62,
          63,
          64,
          65,
          66,
          67,
          68,
          69,
          70,
          71,
          72,
          73,
          74,
          75,
          76,
          77,
          78,
          79,
          80,
          81,
          82,
          83,
          84,
          85,
          86,
          87,
          88,
          89,
          90,
          91,
          92,
          93,
          94,
          95,
          96,
          97,
          98,
          99
         ],
         "xaxis": "x",
         "y": [
          9.995609760284424,
          26.208564519882202,
          36.22485971450806,
          53.06803488731384,
          69.65781474113464,
          79.74229574203491,
          96.10002779960632,
          112.70467472076416,
          122.79215884208679,
          139.52165484428406,
          155.81461882591248,
          172.53473901748657,
          182.31840705871582,
          192.15668320655823,
          209.14686036109924,
          221.98663330078125,
          231.97719430923462,
          241.90914940834045,
          253.09365844726562,
          263.17819356918335,
          279.2666184902191,
          289.0946183204651,
          305.78644037246704,
          315.8156063556671,
          332.1765055656433,
          349.0252847671509,
          365.329715013504,
          381.7669982910156,
          398.14894127845764,
          414.1005902290344,
          430.7799723148346,
          446.9609022140503,
          456.89935421943665,
          473.44003319740295,
          484.075275182724,
          500.6837890148163,
          517.3161661624908,
          533.6256189346313,
          543.5737679004669,
          560.0571992397308,
          576.5435891151428,
          592.8106772899628,
          616.4419941902161,
          629.5856642723083,
          648.1817309856415,
          664.4895367622375,
          681.3053689002991,
          697.6084280014038,
          710.9380888938904,
          727.5430178642273,
          737.4346170425415,
          747.0355551242828,
          765.3997564315796,
          781.4644374847412,
          797.9334814548492,
          815.4058232307434,
          832.3074872493744,
          842.1868631839752,
          858.9888381958008,
          875.0875754356384,
          884.9891901016235,
          895.1455111503601,
          911.7672820091248,
          922.9279139041901,
          946.408992767334,
          962.5134046077728,
          979.0087814331055,
          995.9678244590759,
          1012.3813495635986,
          1022.1775074005127,
          1031.8860964775085,
          1048.0704877376556,
          1064.8064715862274,
          1081.2828204631805,
          1097.683075428009,
          1120.6966083049774,
          1130.24796128273,
          1146.4866013526917,
          1163.2236423492432,
          1173.252138376236,
          1183.33118724823,
          1199.854817390442,
          1209.7686431407928,
          1219.6588752269745,
          1230.8195793628693,
          1247.0595211982727,
          1257.0163052082062,
          1274.2152502536774,
          1283.8298060894012,
          1300.2832119464874,
          1316.659304857254,
          1333.6874618530273,
          1343.8247878551483,
          1360.4289638996124,
          1377.043539762497,
          1394.096787929535,
          1410.9211692810059,
          1427.4534571170807,
          1437.6586751937866,
          1454.2943804264069
         ],
         "yaxis": "y"
        }
       ],
       "layout": {
        "autosize": true,
        "legend": {
         "title": {
          "text": "function"
         },
         "tracegroupgap": 0
        },
        "margin": {
         "t": 60
        },
        "template": {
         "data": {
          "bar": [
           {
            "error_x": {
             "color": "#2a3f5f"
            },
            "error_y": {
             "color": "#2a3f5f"
            },
            "marker": {
             "line": {
              "color": "#E5ECF6",
              "width": 0.5
             },
             "pattern": {
              "fillmode": "overlay",
              "size": 10,
              "solidity": 0.2
             }
            },
            "type": "bar"
           }
          ],
          "barpolar": [
           {
            "marker": {
             "line": {
              "color": "#E5ECF6",
              "width": 0.5
             },
             "pattern": {
              "fillmode": "overlay",
              "size": 10,
              "solidity": 0.2
             }
            },
            "type": "barpolar"
           }
          ],
          "carpet": [
           {
            "aaxis": {
             "endlinecolor": "#2a3f5f",
             "gridcolor": "white",
             "linecolor": "white",
             "minorgridcolor": "white",
             "startlinecolor": "#2a3f5f"
            },
            "baxis": {
             "endlinecolor": "#2a3f5f",
             "gridcolor": "white",
             "linecolor": "white",
             "minorgridcolor": "white",
             "startlinecolor": "#2a3f5f"
            },
            "type": "carpet"
           }
          ],
          "choropleth": [
           {
            "colorbar": {
             "outlinewidth": 0,
             "ticks": ""
            },
            "type": "choropleth"
           }
          ],
          "contour": [
           {
            "colorbar": {
             "outlinewidth": 0,
             "ticks": ""
            },
            "colorscale": [
             [
              0,
              "#0d0887"
             ],
             [
              0.1111111111111111,
              "#46039f"
             ],
             [
              0.2222222222222222,
              "#7201a8"
             ],
             [
              0.3333333333333333,
              "#9c179e"
             ],
             [
              0.4444444444444444,
              "#bd3786"
             ],
             [
              0.5555555555555556,
              "#d8576b"
             ],
             [
              0.6666666666666666,
              "#ed7953"
             ],
             [
              0.7777777777777778,
              "#fb9f3a"
             ],
             [
              0.8888888888888888,
              "#fdca26"
             ],
             [
              1,
              "#f0f921"
             ]
            ],
            "type": "contour"
           }
          ],
          "contourcarpet": [
           {
            "colorbar": {
             "outlinewidth": 0,
             "ticks": ""
            },
            "type": "contourcarpet"
           }
          ],
          "heatmap": [
           {
            "colorbar": {
             "outlinewidth": 0,
             "ticks": ""
            },
            "colorscale": [
             [
              0,
              "#0d0887"
             ],
             [
              0.1111111111111111,
              "#46039f"
             ],
             [
              0.2222222222222222,
              "#7201a8"
             ],
             [
              0.3333333333333333,
              "#9c179e"
             ],
             [
              0.4444444444444444,
              "#bd3786"
             ],
             [
              0.5555555555555556,
              "#d8576b"
             ],
             [
              0.6666666666666666,
              "#ed7953"
             ],
             [
              0.7777777777777778,
              "#fb9f3a"
             ],
             [
              0.8888888888888888,
              "#fdca26"
             ],
             [
              1,
              "#f0f921"
             ]
            ],
            "type": "heatmap"
           }
          ],
          "heatmapgl": [
           {
            "colorbar": {
             "outlinewidth": 0,
             "ticks": ""
            },
            "colorscale": [
             [
              0,
              "#0d0887"
             ],
             [
              0.1111111111111111,
              "#46039f"
             ],
             [
              0.2222222222222222,
              "#7201a8"
             ],
             [
              0.3333333333333333,
              "#9c179e"
             ],
             [
              0.4444444444444444,
              "#bd3786"
             ],
             [
              0.5555555555555556,
              "#d8576b"
             ],
             [
              0.6666666666666666,
              "#ed7953"
             ],
             [
              0.7777777777777778,
              "#fb9f3a"
             ],
             [
              0.8888888888888888,
              "#fdca26"
             ],
             [
              1,
              "#f0f921"
             ]
            ],
            "type": "heatmapgl"
           }
          ],
          "histogram": [
           {
            "marker": {
             "pattern": {
              "fillmode": "overlay",
              "size": 10,
              "solidity": 0.2
             }
            },
            "type": "histogram"
           }
          ],
          "histogram2d": [
           {
            "colorbar": {
             "outlinewidth": 0,
             "ticks": ""
            },
            "colorscale": [
             [
              0,
              "#0d0887"
             ],
             [
              0.1111111111111111,
              "#46039f"
             ],
             [
              0.2222222222222222,
              "#7201a8"
             ],
             [
              0.3333333333333333,
              "#9c179e"
             ],
             [
              0.4444444444444444,
              "#bd3786"
             ],
             [
              0.5555555555555556,
              "#d8576b"
             ],
             [
              0.6666666666666666,
              "#ed7953"
             ],
             [
              0.7777777777777778,
              "#fb9f3a"
             ],
             [
              0.8888888888888888,
              "#fdca26"
             ],
             [
              1,
              "#f0f921"
             ]
            ],
            "type": "histogram2d"
           }
          ],
          "histogram2dcontour": [
           {
            "colorbar": {
             "outlinewidth": 0,
             "ticks": ""
            },
            "colorscale": [
             [
              0,
              "#0d0887"
             ],
             [
              0.1111111111111111,
              "#46039f"
             ],
             [
              0.2222222222222222,
              "#7201a8"
             ],
             [
              0.3333333333333333,
              "#9c179e"
             ],
             [
              0.4444444444444444,
              "#bd3786"
             ],
             [
              0.5555555555555556,
              "#d8576b"
             ],
             [
              0.6666666666666666,
              "#ed7953"
             ],
             [
              0.7777777777777778,
              "#fb9f3a"
             ],
             [
              0.8888888888888888,
              "#fdca26"
             ],
             [
              1,
              "#f0f921"
             ]
            ],
            "type": "histogram2dcontour"
           }
          ],
          "mesh3d": [
           {
            "colorbar": {
             "outlinewidth": 0,
             "ticks": ""
            },
            "type": "mesh3d"
           }
          ],
          "parcoords": [
           {
            "line": {
             "colorbar": {
              "outlinewidth": 0,
              "ticks": ""
             }
            },
            "type": "parcoords"
           }
          ],
          "pie": [
           {
            "automargin": true,
            "type": "pie"
           }
          ],
          "scatter": [
           {
            "fillpattern": {
             "fillmode": "overlay",
             "size": 10,
             "solidity": 0.2
            },
            "type": "scatter"
           }
          ],
          "scatter3d": [
           {
            "line": {
             "colorbar": {
              "outlinewidth": 0,
              "ticks": ""
             }
            },
            "marker": {
             "colorbar": {
              "outlinewidth": 0,
              "ticks": ""
             }
            },
            "type": "scatter3d"
           }
          ],
          "scattercarpet": [
           {
            "marker": {
             "colorbar": {
              "outlinewidth": 0,
              "ticks": ""
             }
            },
            "type": "scattercarpet"
           }
          ],
          "scattergeo": [
           {
            "marker": {
             "colorbar": {
              "outlinewidth": 0,
              "ticks": ""
             }
            },
            "type": "scattergeo"
           }
          ],
          "scattergl": [
           {
            "marker": {
             "colorbar": {
              "outlinewidth": 0,
              "ticks": ""
             }
            },
            "type": "scattergl"
           }
          ],
          "scattermapbox": [
           {
            "marker": {
             "colorbar": {
              "outlinewidth": 0,
              "ticks": ""
             }
            },
            "type": "scattermapbox"
           }
          ],
          "scatterpolar": [
           {
            "marker": {
             "colorbar": {
              "outlinewidth": 0,
              "ticks": ""
             }
            },
            "type": "scatterpolar"
           }
          ],
          "scatterpolargl": [
           {
            "marker": {
             "colorbar": {
              "outlinewidth": 0,
              "ticks": ""
             }
            },
            "type": "scatterpolargl"
           }
          ],
          "scatterternary": [
           {
            "marker": {
             "colorbar": {
              "outlinewidth": 0,
              "ticks": ""
             }
            },
            "type": "scatterternary"
           }
          ],
          "surface": [
           {
            "colorbar": {
             "outlinewidth": 0,
             "ticks": ""
            },
            "colorscale": [
             [
              0,
              "#0d0887"
             ],
             [
              0.1111111111111111,
              "#46039f"
             ],
             [
              0.2222222222222222,
              "#7201a8"
             ],
             [
              0.3333333333333333,
              "#9c179e"
             ],
             [
              0.4444444444444444,
              "#bd3786"
             ],
             [
              0.5555555555555556,
              "#d8576b"
             ],
             [
              0.6666666666666666,
              "#ed7953"
             ],
             [
              0.7777777777777778,
              "#fb9f3a"
             ],
             [
              0.8888888888888888,
              "#fdca26"
             ],
             [
              1,
              "#f0f921"
             ]
            ],
            "type": "surface"
           }
          ],
          "table": [
           {
            "cells": {
             "fill": {
              "color": "#EBF0F8"
             },
             "line": {
              "color": "white"
             }
            },
            "header": {
             "fill": {
              "color": "#C8D4E3"
             },
             "line": {
              "color": "white"
             }
            },
            "type": "table"
           }
          ]
         },
         "layout": {
          "annotationdefaults": {
           "arrowcolor": "#2a3f5f",
           "arrowhead": 0,
           "arrowwidth": 1
          },
          "autotypenumbers": "strict",
          "coloraxis": {
           "colorbar": {
            "outlinewidth": 0,
            "ticks": ""
           }
          },
          "colorscale": {
           "diverging": [
            [
             0,
             "#8e0152"
            ],
            [
             0.1,
             "#c51b7d"
            ],
            [
             0.2,
             "#de77ae"
            ],
            [
             0.3,
             "#f1b6da"
            ],
            [
             0.4,
             "#fde0ef"
            ],
            [
             0.5,
             "#f7f7f7"
            ],
            [
             0.6,
             "#e6f5d0"
            ],
            [
             0.7,
             "#b8e186"
            ],
            [
             0.8,
             "#7fbc41"
            ],
            [
             0.9,
             "#4d9221"
            ],
            [
             1,
             "#276419"
            ]
           ],
           "sequential": [
            [
             0,
             "#0d0887"
            ],
            [
             0.1111111111111111,
             "#46039f"
            ],
            [
             0.2222222222222222,
             "#7201a8"
            ],
            [
             0.3333333333333333,
             "#9c179e"
            ],
            [
             0.4444444444444444,
             "#bd3786"
            ],
            [
             0.5555555555555556,
             "#d8576b"
            ],
            [
             0.6666666666666666,
             "#ed7953"
            ],
            [
             0.7777777777777778,
             "#fb9f3a"
            ],
            [
             0.8888888888888888,
             "#fdca26"
            ],
            [
             1,
             "#f0f921"
            ]
           ],
           "sequentialminus": [
            [
             0,
             "#0d0887"
            ],
            [
             0.1111111111111111,
             "#46039f"
            ],
            [
             0.2222222222222222,
             "#7201a8"
            ],
            [
             0.3333333333333333,
             "#9c179e"
            ],
            [
             0.4444444444444444,
             "#bd3786"
            ],
            [
             0.5555555555555556,
             "#d8576b"
            ],
            [
             0.6666666666666666,
             "#ed7953"
            ],
            [
             0.7777777777777778,
             "#fb9f3a"
            ],
            [
             0.8888888888888888,
             "#fdca26"
            ],
            [
             1,
             "#f0f921"
            ]
           ]
          },
          "colorway": [
           "#636efa",
           "#EF553B",
           "#00cc96",
           "#ab63fa",
           "#FFA15A",
           "#19d3f3",
           "#FF6692",
           "#B6E880",
           "#FF97FF",
           "#FECB52"
          ],
          "font": {
           "color": "#2a3f5f"
          },
          "geo": {
           "bgcolor": "white",
           "lakecolor": "white",
           "landcolor": "#E5ECF6",
           "showlakes": true,
           "showland": true,
           "subunitcolor": "white"
          },
          "hoverlabel": {
           "align": "left"
          },
          "hovermode": "closest",
          "mapbox": {
           "style": "light"
          },
          "paper_bgcolor": "white",
          "plot_bgcolor": "#E5ECF6",
          "polar": {
           "angularaxis": {
            "gridcolor": "white",
            "linecolor": "white",
            "ticks": ""
           },
           "bgcolor": "#E5ECF6",
           "radialaxis": {
            "gridcolor": "white",
            "linecolor": "white",
            "ticks": ""
           }
          },
          "scene": {
           "xaxis": {
            "backgroundcolor": "#E5ECF6",
            "gridcolor": "white",
            "gridwidth": 2,
            "linecolor": "white",
            "showbackground": true,
            "ticks": "",
            "zerolinecolor": "white"
           },
           "yaxis": {
            "backgroundcolor": "#E5ECF6",
            "gridcolor": "white",
            "gridwidth": 2,
            "linecolor": "white",
            "showbackground": true,
            "ticks": "",
            "zerolinecolor": "white"
           },
           "zaxis": {
            "backgroundcolor": "#E5ECF6",
            "gridcolor": "white",
            "gridwidth": 2,
            "linecolor": "white",
            "showbackground": true,
            "ticks": "",
            "zerolinecolor": "white"
           }
          },
          "shapedefaults": {
           "line": {
            "color": "#2a3f5f"
           }
          },
          "ternary": {
           "aaxis": {
            "gridcolor": "white",
            "linecolor": "white",
            "ticks": ""
           },
           "baxis": {
            "gridcolor": "white",
            "linecolor": "white",
            "ticks": ""
           },
           "bgcolor": "#E5ECF6",
           "caxis": {
            "gridcolor": "white",
            "linecolor": "white",
            "ticks": ""
           }
          },
          "title": {
           "x": 0.05
          },
          "xaxis": {
           "automargin": true,
           "gridcolor": "white",
           "linecolor": "white",
           "ticks": "",
           "title": {
            "standoff": 15
           },
           "zerolinecolor": "white",
           "zerolinewidth": 2
          },
          "yaxis": {
           "automargin": true,
           "gridcolor": "white",
           "linecolor": "white",
           "ticks": "",
           "title": {
            "standoff": 15
           },
           "zerolinecolor": "white",
           "zerolinewidth": 2
          }
         }
        },
        "title": {
         "text": "Cumulative Lines of Time per Steps"
        },
        "xaxis": {
         "anchor": "y",
         "autorange": true,
         "domain": [
          0,
          1
         ],
         "range": [
          0,
          99
         ],
         "title": {
          "text": "Steps"
         },
         "type": "linear"
        },
        "yaxis": {
         "anchor": "x",
         "autorange": true,
         "domain": [
          0,
          1
         ],
         "range": [
          -150.73663393656412,
          2916.984683672587
         ],
         "title": {
          "text": "Cumulative Time"
         },
         "type": "linear"
        }
       }
      },
      "image/png": "[encoded data removed]",
      "text/html": [
       "<div>                            <div id=\"b94f172a-b3de-4043-b748-356ec5e9016b\" class=\"plotly-graph-div\" style=\"height:525px; width:100%;\"></div>            <script type=\"text/javascript\">                require([\"plotly\"], function(Plotly) {                    window.PLOTLYENV=window.PLOTLYENV || {};                                    if (document.getElementById(\"b94f172a-b3de-4043-b748-356ec5e9016b\")) {                    Plotly.newPlot(                        \"b94f172a-b3de-4043-b748-356ec5e9016b\",                        [{\"hovertemplate\":\"function=xethub git\\u003cbr\\u003estep=%{x}\\u003cbr\\u003ecumulative_time=%{y}\\u003cextra\\u003e\\u003c\\u002fextra\\u003e\",\"legendgroup\":\"xethub git\",\"line\":{\"color\":\"#636efa\",\"dash\":\"solid\"},\"marker\":{\"symbol\":\"circle\"},\"mode\":\"lines\",\"name\":\"xethub git\",\"orientation\":\"v\",\"showlegend\":true,\"x\":[0,1,2,3,4,5,6,7,8,9,10,11,12,13,14,15,16,17,18,19,20,21,22,23,24,25,26,27,28,29,30,31,32,33,34,35,36,37,38,39,40,41,42,43,44,45,46,47,48,49,50,51,52,53,54,55,56,57,58,59,60,61,62,63,64,65,66,67,68,69,70,71,72,73,74,75,76,77,78,79,80,81,82,83,84,85,86,87,88,89,90,91,92,93,94,95,96,97,98,99],\"xaxis\":\"x\",\"y\":[2.6494319438934326,4.377758979797363,6.2017457485198975,8.007681608200073,9.909929513931274,11.765496253967285,13.40223741531372,14.903875350952148,16.6357684135437,18.43200922012329,19.94849419593811,21.738373279571533,23.43372130393982,25.485431671142578,27.245316743850708,28.86013889312744,30.597771883010864,32.354074001312256,33.94430184364319,35.61162567138672,37.305418491363525,38.85717535018921,40.50731039047241,42.08457112312317,43.73080921173096,45.30558204650879,46.83885884284973,48.34696078300476,49.826021909713745,51.53840470314026,53.30646300315857,54.84095215797424,56.44774889945984,58.02153420448303,59.499855041503906,61.11448287963867,62.80736994743347,64.44149494171143,65.95238709449768,67.35146713256836,68.88674426078796,70.40589618682861,71.96292018890381,73.59810423851013,75.09360027313232,76.55866026878357,78.06952905654907,79.56611609458923,81.0879909992218,82.57726573944092,84.13578987121582,85.56431674957275,87.15730285644531,88.86544394493103,90.4244110584259,91.90646481513977,93.54502391815186,95.13879489898682,96.77466177940369,98.30638480186462,99.92161273956299,101.73278450965881,103.26449871063232,104.93390560150146,106.46573162078857,108.03344249725342,109.5557291507721,111.05636429786682,112.67508625984192,114.25475645065308,115.79283428192139,117.35266709327698,118.94899415969849,120.40209317207336,122.11642527580261,123.77018737792969,125.28819036483765,126.85395431518555,128.46733617782593,130.0153980255127,131.58822226524353,133.11494827270508,134.6286563873291,136.10901641845703,137.65143728256226,139.12365555763245,140.70608162879944,142.22153854370117,143.6857304573059,145.23868823051453,146.7549431324005,148.36076712608337,150.10466122627258,151.7053210735321,153.44461297988892,155.00898003578186,156.44668078422546,157.98259854316711,159.6483175754547,161.3431625366211],\"yaxis\":\"y\",\"type\":\"scatter\"},{\"hovertemplate\":\"function=dvc\\u003cbr\\u003estep=%{x}\\u003cbr\\u003ecumulative_time=%{y}\\u003cextra\\u003e\\u003c\\u002fextra\\u003e\",\"legendgroup\":\"dvc\",\"line\":{\"color\":\"#EF553B\",\"dash\":\"solid\"},\"marker\":{\"symbol\":\"circle\"},\"mode\":\"lines\",\"name\":\"dvc\",\"orientation\":\"v\",\"showlegend\":true,\"x\":[0,1,2,3,4,5,6,7,8,9,10,11,12,13,14,15,16,17,18,19,20,21,22,23,24,25,26,27,28,29,30,31,32,33,34,35,36,37,38,39,40,41,42,43,44,45,46,47,48,49,50,51,52,53,54,55,56,57,58,59,60,61,62,63,64,65,66,67,68,69,70,71,72,73,74,75,76,77,78,79,80,81,82,83,84,85,86,87,88,89,90,91,92,93,94,95,96,97,98,99],\"xaxis\":\"x\",\"y\":[26.281028747558594,52.74557590484619,79.14322471618652,104.76878476142883,130.66181993484497,156.60199785232544,171.11766386032104,197.08784866333008,211.66553735733032,237.37751126289368,263.2704961299896,287.0135660171509,301.57090616226196,327.6714029312134,357.07118797302246,382.8851978778839,407.03753209114075,431.03859281539917,456.9270739555359,482.7228310108185,508.76338505744934,534.65886926651,563.0256114006042,588.6557731628418,603.0016272068024,628.6386470794678,654.1352620124817,679.44238114357,704.9293711185455,729.0498661994934,761.591863155365,776.2924273014069,802.2277002334595,826.3550324440002,852.462161064148,878.592579126358,904.5185804367065,930.393351316452,956.319776058197,970.7203159332275,996.1316750049591,1010.5564687252045,1024.7701888084412,1064.7428648471832,1090.442442893982,1104.690850019455,1130.267729997635,1144.7245790958405,1170.6111900806427,1185.2173800468445,1209.071329832077,1242.6283888816833,1257.098098039627,1287.722608089447,1311.318792104721,1336.6993403434753,1351.423199415207,1366.014980316162,1381.0462093353271,1404.811327457428,1428.6762325763702,1443.0547213554382,1466.9426183700562,1493.0752172470093,1518.9296712875366,1544.8815002441406,1570.5332903862,1596.0410385131836,1622.1316583156586,1636.6057493686676,1662.4959964752197,1687.9837174415588,1702.0845804214478,1727.8366134166718,1753.4645433425903,1779.0934991836548,1802.933913230896,1828.8807232379913,1854.395679950714,1869.2166798114777,1883.8340487480164,1898.648768901825,1924.53884100914,1948.5105240345001,1962.984354019165,1987.0022900104523,2011.004812002182,2036.9666862487793,2062.6330263614655,2077.365844488144,2092.7383937835693,2118.670120716095,2133.094749689102,2148.120272874832,2162.853167772293,2177.3942646980286,2202.910790681839,2228.772880554199,2254.6407096385956,2269.407623767853],\"yaxis\":\"y\",\"type\":\"scatter\"},{\"hovertemplate\":\"function=lfs s3\\u003cbr\\u003estep=%{x}\\u003cbr\\u003ecumulative_time=%{y}\\u003cextra\\u003e\\u003c\\u002fextra\\u003e\",\"legendgroup\":\"lfs s3\",\"line\":{\"color\":\"#00cc96\",\"dash\":\"solid\"},\"marker\":{\"symbol\":\"circle\"},\"mode\":\"lines\",\"name\":\"lfs s3\",\"orientation\":\"v\",\"showlegend\":true,\"x\":[0,1,2,3,4,5,6,7,8,9,10,11,12,13,14,15,16,17,18,19,20,21,22,23,24,25,26,27,28,29,30,31,32,33,34,35,36,37,38,39,40,41,42,43,44,45,46,47,48,49,50,51,52,53,54,55,56,57,58,59,60,61,62,63,64,65,66,67,68,69,70,71,72,73,74,75,76,77,78,79,80,81,82,83,84,85,86,87,88,89,90,91,92,93,94,95,96,97,98,99],\"xaxis\":\"x\",\"y\":[4.39343786239624,28.79268479347229,51.31296968460083,75.3773787021637,99.36281251907349,123.30457854270935,147.37103152275085,169.70364475250244,193.63336563110352,217.7197983264923,241.70063948631287,264.32423758506775,286.58557653427124,310.8191993236542,334.6391444206238,357.2893786430359,381.07331466674805,404.96501779556274,436.2330198287964,459.82501578330994,484.74520897865295,509.03147292137146,532.8179078102112,554.7792475223541,578.5041666030884,600.9781656265259,614.6095566749573,638.5534567832947,660.872321844101,684.634655714035,708.6173405647278,732.6577594280243,756.8143873214722,779.0882353782654,801.5360612869263,825.1375794410706,847.6435256004333,877.4308025836945,901.4760406017303,925.1743335723877,948.6860885620117,972.5699505805969,986.2656726837158,1009.1462898254395,1032.8588099479675,1056.8035895824432,1080.7924914360046,1111.4715626239777,1135.3672227859497,1159.2516586780548,1181.7415747642517,1205.8064489364624,1228.175082206726,1252.0429940223694,1265.550606250763,1289.2997751235962,1313.0744154453278,1338.4497051239014,1362.3827998638153,1376.6174428462982,1398.9626951217651,1423.0453259944916,1446.8059208393097,1478.1113357543945,1502.452637910843,1524.835321187973,1548.9074311256409,1572.8029072284698,1595.078012228012,1618.695336341858,1642.4439625740051,1666.3103065490723,1691.678023815155,1715.7677240371704,1737.9517171382904,1771.9079291820526,1794.3743193149567,1826.9089653491974,1849.2075712680817,1877.1856591701508,1901.0420961380005,1924.8470058441162,1948.460650920868,1973.231167793274,1995.4407048225403,2017.7849128246307,2041.8424108028412,2065.6644735336304,2088.3896045684814,2112.2918236255646,2136.011912584305,2158.411340713501,2183.547269821167,2198.150275707245,2222.1701798439026,2247.263981819153,2271.2510290145874,2293.290769815445,2317.364389181137,2341.3054761886597],\"yaxis\":\"y\",\"type\":\"scatter\"},{\"hovertemplate\":\"function=s3\\u003cbr\\u003estep=%{x}\\u003cbr\\u003ecumulative_time=%{y}\\u003cextra\\u003e\\u003c\\u002fextra\\u003e\",\"legendgroup\":\"s3\",\"line\":{\"color\":\"#ab63fa\",\"dash\":\"solid\"},\"marker\":{\"symbol\":\"circle\"},\"mode\":\"lines\",\"name\":\"s3\",\"orientation\":\"v\",\"showlegend\":true,\"x\":[0,1,2,3,4,5,6,7,8,9,10,11,12,13,14,15,16,17,18,19,20,21,22,23,24,25,26,27,28,29,30,31,32,33,34,35,36,37,38,39,40,41,42,43,44,45,46,47,48,49,50,51,52,53,54,55,56,57,58,59,60,61,62,63,64,65,66,67,68,69,70,71,72,73,74,75,76,77,78,79,80,81,82,83,84,85,86,87,88,89,90,91,92,93,94,95,96,97,98,99],\"xaxis\":\"x\",\"y\":[10.95465612411499,26.776751041412354,37.130319118499756,52.18087911605835,66.24403405189514,81.43003797531128,91.5231831073761,101.78040814399719,116.84325098991394,131.8778202533722,146.8667070865631,161.92470693588257,176.95937609672546,187.11074423789978,202.14541125297546,212.36015439033508,227.55299019813538,237.55929946899414,252.666508436203,263.1556634902954,278.24040961265564,293.29717659950256,303.45888662338257,318.4102985858917,328.6322977542877,343.651163816452,358.52917981147766,373.4636459350586,388.5196018218994,398.51672983169556,408.88899517059326,423.8280198574066,437.3610987663269,447.3573064804077,462.4386954307556,477.62520027160645,492.50387024879456,507.67185735702515,522.6750252246857,536.7125861644745,546.959290266037,562.0013270378113,577.2533340454102,594.6510372161865,604.692024230957,619.80810713768,630.1003551483154,645.3147120475769,655.5054969787598,670.6912558078766,680.7517569065094,690.7463848590851,708.9282586574554,723.9603095054626,734.1728165149689,749.4562304019928,764.7512784004211,779.9798123836517,795.1756181716919,810.207426071167,825.2954058647156,840.3914918899536,850.5569748878479,865.6748969554901,875.7689201831818,890.9740753173828,905.9676992893219,920.9759254455566,936.1180994510651,946.1241064071655,956.299768447876,971.3163123130798,981.5585193634033,996.6315140724182,1011.7518281936646,1027.4660682678223,1037.4802181720734,1052.5368094444275,1067.8330986499786,1082.9201354980469,1093.1679935455322,1103.3611903190613,1118.373850107193,1128.8921718597412,1144.0000040531158,1159.2332639694214,1169.4043300151825,1184.4609599113464,1199.6081700325012,1214.7783539295197,1229.816838979721,1244.947201013565,1254.9880619049072,1270.1731750965118,1285.317142009735,1300.3636481761932,1315.428185224533,1325.490050315857,1340.5326652526855,1350.9983711242676],\"yaxis\":\"y\",\"type\":\"scatter\"},{\"hovertemplate\":\"function=lfs git\\u003cbr\\u003estep=%{x}\\u003cbr\\u003ecumulative_time=%{y}\\u003cextra\\u003e\\u003c\\u002fextra\\u003e\",\"legendgroup\":\"lfs git\",\"line\":{\"color\":\"#FFA15A\",\"dash\":\"solid\"},\"marker\":{\"symbol\":\"circle\"},\"mode\":\"lines\",\"name\":\"lfs git\",\"orientation\":\"v\",\"showlegend\":true,\"x\":[0,1,2,3,4,5,6,7,8,9,10,11,12,13,14,15,16,17,18,19,20,21,22,23,24,25,26,27,28,29,30,31,32,33,34,35,36,37,38,39,40,41,42,43,44,45,46,47,48,49,50,51,52,53,54,55,56,57,58,59,60,61,62,63,64,65,66,67,68,69,70,71,72,73,74,75,76,77,78,79,80,81,82,83,84,85,86,87,88,89,90,91,92,93,94,95,96,97,98,99],\"xaxis\":\"x\",\"y\":[3.72640323638916,15.419553995132446,27.12158703804016,58.89098119735718,80.75575995445251,92.42491793632507,114.27213621139526,126.12520098686218,138.1422040462494,149.79769206047058,171.13414192199707,193.02995896339417,204.67269587516785,226.5178940296173,248.19959902763367,269.9400782585144,292.04414319992065,314.79321026802063,336.2665424346924,347.9332344532013,369.9730875492096,391.7609145641327,403.44131565093994,425.5717794895172,447.5733654499054,459.1476535797119,480.6253705024719,502.7485854625702,524.6652526855469,536.1248404979706,547.6818845272064,569.5680246353149,591.0230424404144,612.6807246208191,634.5619106292725,702.2427296638489,724.6106729507446,746.5335190296173,768.5290710926056,789.9974992275238,811.6344273090363,833.463983297348,844.987377166748,866.9730212688446,888.5608456134796,909.6016116142273,931.3005065917969,953.8190097808838,965.4593708515167,977.4416778087616,988.8644616603851,1000.4299428462982,1022.1582808494568,1044.30907869339,1065.6633627414703,1086.430386543274,1098.0141835212708,1119.8257517814636,1140.779316663742,1162.831518650055,1174.2593743801117,1196.164885520935,1218.9654183387756,1240.7646424770355,1252.863689661026,1264.3229415416718,1275.93230342865,1287.6443903446198,1299.1113605499268,1310.9813005924225,1333.1121413707733,1344.904732465744,1356.3674764633179,1367.8546395301819,1389.5630266666412,1411.205368757248,1433.2135150432587,1455.2457139492035,1466.8817999362946,1488.51726603508,1510.2030169963837,1532.8475840091705,1544.3443830013275,1556.1284642219543,1577.8793332576752,1599.6920373439789,1621.6267313957214,1643.6921796798706,1665.507580757141,1686.9753880500793,1708.423176765442,1720.2865207195282,1731.7890815734863,1752.8566982746124,1764.5411550998688,1786.1410250663757,1807.7554891109467,1829.5857968330383,1851.5261068344116,1873.4544486999512],\"yaxis\":\"y\",\"type\":\"scatter\"},{\"hovertemplate\":\"function=xethub py\\u003cbr\\u003estep=%{x}\\u003cbr\\u003ecumulative_time=%{y}\\u003cextra\\u003e\\u003c\\u002fextra\\u003e\",\"legendgroup\":\"xethub py\",\"line\":{\"color\":\"#19d3f3\",\"dash\":\"solid\"},\"marker\":{\"symbol\":\"circle\"},\"mode\":\"lines\",\"name\":\"xethub py\",\"orientation\":\"v\",\"showlegend\":true,\"x\":[0,1,2,3,4,5,6,7,8,9,10,11,12,13,14,15,16,17,18,19,20,21,22,23,24,25,26,27,28,29,30,31,32,33,34,35,36,37,38,39,40,41,42,43,44,45,46,47,48,49,50,51,52,53,54,55,56,57,58,59,60,61,62,63,64,65,66,67,68,69,70,71,72,73,74,75,76,77,78,79,80,81,82,83,84,85,86,87,88,89,90,91,92,93,94,95,96,97,98,99],\"xaxis\":\"x\",\"y\":[18.57864809036255,54.64010190963745,83.7100419998169,119.6808180809021,142.06482410430908,161.13189816474915,192.49784231185913,219.49287700653076,236.4974091053009,269.3225860595703,302.21477818489075,329.5887701511383,360.05849528312683,396.1228942871094,423.8157522678375,444.0778353214264,476.5282492637634,497.0347502231598,515.1094682216644,533.5329551696777,556.5065581798553,573.1051771640778,601.0937583446503,626.428323507309,656.4734315872192,683.650440454483,709.9422116279602,731.7605955600739,761.0697114467621,785.0644221305847,806.9612669944763,842.0223817825317,874.7162096500397,892.3042545318604,923.7354197502136,942.6855738162994,976.1481280326843,1004.3465008735657,1021.9771549701691,1044.0347001552582,1065.4437322616577,1085.0436174869537,1120.3524854183197,1156.9586074352264,1184.9166345596313,1218.4471683502197,1246.156274318695,1274.6452124118805,1303.784788608551,1337.3383405208588,1365.5675494670868,1384.7590563297272,1416.9703953266144,1438.8403685092926,1456.7035417556763,1483.234299659729,1506.752406835556,1542.589523077011,1575.9287538528442,1599.123953819275,1630.9072527885437,1651.6641068458557,1689.0582847595215,1722.581518650055,1746.2687995433807,1765.1359124183655,1799.0653755664825,1834.5329678058624,1863.856479883194,1896.3609127998352,1928.4486298561096,1959.8080220222473,1977.0440213680267,2000.022542476654,2038.5672035217285,2063.275997400284,2094.4684913158417,2115.231850385666,2141.3394033908844,2172.9971265792847,2207.178915500641,2242.60587143898,2280.41463637352,2314.5111832618713,2345.076196193695,2379.5314753055573,2412.1236469745636,2449.2986147403717,2474.6541097164154,2502.6773738861084,2528.0514039993286,2558.507276058197,2575.047676086426,2608.1058959960938,2625.89115691185,2655.0897159576416,2686.7635519504547,2706.3923959732056,2741.0491099357605,2763.5986177921295],\"yaxis\":\"y\",\"type\":\"scatter\"},{\"hovertemplate\":\"function=lakefs\\u003cbr\\u003estep=%{x}\\u003cbr\\u003ecumulative_time=%{y}\\u003cextra\\u003e\\u003c\\u002fextra\\u003e\",\"legendgroup\":\"lakefs\",\"line\":{\"color\":\"#FF6692\",\"dash\":\"solid\"},\"marker\":{\"symbol\":\"circle\"},\"mode\":\"lines\",\"name\":\"lakefs\",\"orientation\":\"v\",\"showlegend\":true,\"x\":[0,1,2,3,4,5,6,7,8,9,10,11,12,13,14,15,16,17,18,19,20,21,22,23,24,25,26,27,28,29,30,31,32,33,34,35,36,37,38,39,40,41,42,43,44,45,46,47,48,49,50,51,52,53,54,55,56,57,58,59,60,61,62,63,64,65,66,67,68,69,70,71,72,73,74,75,76,77,78,79,80,81,82,83,84,85,86,87,88,89,90,91,92,93,94,95,96,97,98,99],\"xaxis\":\"x\",\"y\":[9.995609760284424,26.208564519882202,36.22485971450806,53.06803488731384,69.65781474113464,79.74229574203491,96.10002779960632,112.70467472076416,122.79215884208679,139.52165484428406,155.81461882591248,172.53473901748657,182.31840705871582,192.15668320655823,209.14686036109924,221.98663330078125,231.97719430923462,241.90914940834045,253.09365844726562,263.17819356918335,279.2666184902191,289.0946183204651,305.78644037246704,315.8156063556671,332.1765055656433,349.0252847671509,365.329715013504,381.7669982910156,398.14894127845764,414.1005902290344,430.7799723148346,446.9609022140503,456.89935421943665,473.44003319740295,484.075275182724,500.6837890148163,517.3161661624908,533.6256189346313,543.5737679004669,560.0571992397308,576.5435891151428,592.8106772899628,616.4419941902161,629.5856642723083,648.1817309856415,664.4895367622375,681.3053689002991,697.6084280014038,710.9380888938904,727.5430178642273,737.4346170425415,747.0355551242828,765.3997564315796,781.4644374847412,797.9334814548492,815.4058232307434,832.3074872493744,842.1868631839752,858.9888381958008,875.0875754356384,884.9891901016235,895.1455111503601,911.7672820091248,922.9279139041901,946.408992767334,962.5134046077728,979.0087814331055,995.9678244590759,1012.3813495635986,1022.1775074005127,1031.8860964775085,1048.0704877376556,1064.8064715862274,1081.2828204631805,1097.683075428009,1120.6966083049774,1130.24796128273,1146.4866013526917,1163.2236423492432,1173.252138376236,1183.33118724823,1199.854817390442,1209.7686431407928,1219.6588752269745,1230.8195793628693,1247.0595211982727,1257.0163052082062,1274.2152502536774,1283.8298060894012,1300.2832119464874,1316.659304857254,1333.6874618530273,1343.8247878551483,1360.4289638996124,1377.043539762497,1394.096787929535,1410.9211692810059,1427.4534571170807,1437.6586751937866,1454.2943804264069],\"yaxis\":\"y\",\"type\":\"scatter\"}],                        {\"template\":{\"data\":{\"histogram2dcontour\":[{\"type\":\"histogram2dcontour\",\"colorbar\":{\"outlinewidth\":0,\"ticks\":\"\"},\"colorscale\":[[0.0,\"#0d0887\"],[0.1111111111111111,\"#46039f\"],[0.2222222222222222,\"#7201a8\"],[0.3333333333333333,\"#9c179e\"],[0.4444444444444444,\"#bd3786\"],[0.5555555555555556,\"#d8576b\"],[0.6666666666666666,\"#ed7953\"],[0.7777777777777778,\"#fb9f3a\"],[0.8888888888888888,\"#fdca26\"],[1.0,\"#f0f921\"]]}],\"choropleth\":[{\"type\":\"choropleth\",\"colorbar\":{\"outlinewidth\":0,\"ticks\":\"\"}}],\"histogram2d\":[{\"type\":\"histogram2d\",\"colorbar\":{\"outlinewidth\":0,\"ticks\":\"\"},\"colorscale\":[[0.0,\"#0d0887\"],[0.1111111111111111,\"#46039f\"],[0.2222222222222222,\"#7201a8\"],[0.3333333333333333,\"#9c179e\"],[0.4444444444444444,\"#bd3786\"],[0.5555555555555556,\"#d8576b\"],[0.6666666666666666,\"#ed7953\"],[0.7777777777777778,\"#fb9f3a\"],[0.8888888888888888,\"#fdca26\"],[1.0,\"#f0f921\"]]}],\"heatmap\":[{\"type\":\"heatmap\",\"colorbar\":{\"outlinewidth\":0,\"ticks\":\"\"},\"colorscale\":[[0.0,\"#0d0887\"],[0.1111111111111111,\"#46039f\"],[0.2222222222222222,\"#7201a8\"],[0.3333333333333333,\"#9c179e\"],[0.4444444444444444,\"#bd3786\"],[0.5555555555555556,\"#d8576b\"],[0.6666666666666666,\"#ed7953\"],[0.7777777777777778,\"#fb9f3a\"],[0.8888888888888888,\"#fdca26\"],[1.0,\"#f0f921\"]]}],\"heatmapgl\":[{\"type\":\"heatmapgl\",\"colorbar\":{\"outlinewidth\":0,\"ticks\":\"\"},\"colorscale\":[[0.0,\"#0d0887\"],[0.1111111111111111,\"#46039f\"],[0.2222222222222222,\"#7201a8\"],[0.3333333333333333,\"#9c179e\"],[0.4444444444444444,\"#bd3786\"],[0.5555555555555556,\"#d8576b\"],[0.6666666666666666,\"#ed7953\"],[0.7777777777777778,\"#fb9f3a\"],[0.8888888888888888,\"#fdca26\"],[1.0,\"#f0f921\"]]}],\"contourcarpet\":[{\"type\":\"contourcarpet\",\"colorbar\":{\"outlinewidth\":0,\"ticks\":\"\"}}],\"contour\":[{\"type\":\"contour\",\"colorbar\":{\"outlinewidth\":0,\"ticks\":\"\"},\"colorscale\":[[0.0,\"#0d0887\"],[0.1111111111111111,\"#46039f\"],[0.2222222222222222,\"#7201a8\"],[0.3333333333333333,\"#9c179e\"],[0.4444444444444444,\"#bd3786\"],[0.5555555555555556,\"#d8576b\"],[0.6666666666666666,\"#ed7953\"],[0.7777777777777778,\"#fb9f3a\"],[0.8888888888888888,\"#fdca26\"],[1.0,\"#f0f921\"]]}],\"surface\":[{\"type\":\"surface\",\"colorbar\":{\"outlinewidth\":0,\"ticks\":\"\"},\"colorscale\":[[0.0,\"#0d0887\"],[0.1111111111111111,\"#46039f\"],[0.2222222222222222,\"#7201a8\"],[0.3333333333333333,\"#9c179e\"],[0.4444444444444444,\"#bd3786\"],[0.5555555555555556,\"#d8576b\"],[0.6666666666666666,\"#ed7953\"],[0.7777777777777778,\"#fb9f3a\"],[0.8888888888888888,\"#fdca26\"],[1.0,\"#f0f921\"]]}],\"mesh3d\":[{\"type\":\"mesh3d\",\"colorbar\":{\"outlinewidth\":0,\"ticks\":\"\"}}],\"scatter\":[{\"fillpattern\":{\"fillmode\":\"overlay\",\"size\":10,\"solidity\":0.2},\"type\":\"scatter\"}],\"parcoords\":[{\"type\":\"parcoords\",\"line\":{\"colorbar\":{\"outlinewidth\":0,\"ticks\":\"\"}}}],\"scatterpolargl\":[{\"type\":\"scatterpolargl\",\"marker\":{\"colorbar\":{\"outlinewidth\":0,\"ticks\":\"\"}}}],\"bar\":[{\"error_x\":{\"color\":\"#2a3f5f\"},\"error_y\":{\"color\":\"#2a3f5f\"},\"marker\":{\"line\":{\"color\":\"#E5ECF6\",\"width\":0.5},\"pattern\":{\"fillmode\":\"overlay\",\"size\":10,\"solidity\":0.2}},\"type\":\"bar\"}],\"scattergeo\":[{\"type\":\"scattergeo\",\"marker\":{\"colorbar\":{\"outlinewidth\":0,\"ticks\":\"\"}}}],\"scatterpolar\":[{\"type\":\"scatterpolar\",\"marker\":{\"colorbar\":{\"outlinewidth\":0,\"ticks\":\"\"}}}],\"histogram\":[{\"marker\":{\"pattern\":{\"fillmode\":\"overlay\",\"size\":10,\"solidity\":0.2}},\"type\":\"histogram\"}],\"scattergl\":[{\"type\":\"scattergl\",\"marker\":{\"colorbar\":{\"outlinewidth\":0,\"ticks\":\"\"}}}],\"scatter3d\":[{\"type\":\"scatter3d\",\"line\":{\"colorbar\":{\"outlinewidth\":0,\"ticks\":\"\"}},\"marker\":{\"colorbar\":{\"outlinewidth\":0,\"ticks\":\"\"}}}],\"scattermapbox\":[{\"type\":\"scattermapbox\",\"marker\":{\"colorbar\":{\"outlinewidth\":0,\"ticks\":\"\"}}}],\"scatterternary\":[{\"type\":\"scatterternary\",\"marker\":{\"colorbar\":{\"outlinewidth\":0,\"ticks\":\"\"}}}],\"scattercarpet\":[{\"type\":\"scattercarpet\",\"marker\":{\"colorbar\":{\"outlinewidth\":0,\"ticks\":\"\"}}}],\"carpet\":[{\"aaxis\":{\"endlinecolor\":\"#2a3f5f\",\"gridcolor\":\"white\",\"linecolor\":\"white\",\"minorgridcolor\":\"white\",\"startlinecolor\":\"#2a3f5f\"},\"baxis\":{\"endlinecolor\":\"#2a3f5f\",\"gridcolor\":\"white\",\"linecolor\":\"white\",\"minorgridcolor\":\"white\",\"startlinecolor\":\"#2a3f5f\"},\"type\":\"carpet\"}],\"table\":[{\"cells\":{\"fill\":{\"color\":\"#EBF0F8\"},\"line\":{\"color\":\"white\"}},\"header\":{\"fill\":{\"color\":\"#C8D4E3\"},\"line\":{\"color\":\"white\"}},\"type\":\"table\"}],\"barpolar\":[{\"marker\":{\"line\":{\"color\":\"#E5ECF6\",\"width\":0.5},\"pattern\":{\"fillmode\":\"overlay\",\"size\":10,\"solidity\":0.2}},\"type\":\"barpolar\"}],\"pie\":[{\"automargin\":true,\"type\":\"pie\"}]},\"layout\":{\"autotypenumbers\":\"strict\",\"colorway\":[\"#636efa\",\"#EF553B\",\"#00cc96\",\"#ab63fa\",\"#FFA15A\",\"#19d3f3\",\"#FF6692\",\"#B6E880\",\"#FF97FF\",\"#FECB52\"],\"font\":{\"color\":\"#2a3f5f\"},\"hovermode\":\"closest\",\"hoverlabel\":{\"align\":\"left\"},\"paper_bgcolor\":\"white\",\"plot_bgcolor\":\"#E5ECF6\",\"polar\":{\"bgcolor\":\"#E5ECF6\",\"angularaxis\":{\"gridcolor\":\"white\",\"linecolor\":\"white\",\"ticks\":\"\"},\"radialaxis\":{\"gridcolor\":\"white\",\"linecolor\":\"white\",\"ticks\":\"\"}},\"ternary\":{\"bgcolor\":\"#E5ECF6\",\"aaxis\":{\"gridcolor\":\"white\",\"linecolor\":\"white\",\"ticks\":\"\"},\"baxis\":{\"gridcolor\":\"white\",\"linecolor\":\"white\",\"ticks\":\"\"},\"caxis\":{\"gridcolor\":\"white\",\"linecolor\":\"white\",\"ticks\":\"\"}},\"coloraxis\":{\"colorbar\":{\"outlinewidth\":0,\"ticks\":\"\"}},\"colorscale\":{\"sequential\":[[0.0,\"#0d0887\"],[0.1111111111111111,\"#46039f\"],[0.2222222222222222,\"#7201a8\"],[0.3333333333333333,\"#9c179e\"],[0.4444444444444444,\"#bd3786\"],[0.5555555555555556,\"#d8576b\"],[0.6666666666666666,\"#ed7953\"],[0.7777777777777778,\"#fb9f3a\"],[0.8888888888888888,\"#fdca26\"],[1.0,\"#f0f921\"]],\"sequentialminus\":[[0.0,\"#0d0887\"],[0.1111111111111111,\"#46039f\"],[0.2222222222222222,\"#7201a8\"],[0.3333333333333333,\"#9c179e\"],[0.4444444444444444,\"#bd3786\"],[0.5555555555555556,\"#d8576b\"],[0.6666666666666666,\"#ed7953\"],[0.7777777777777778,\"#fb9f3a\"],[0.8888888888888888,\"#fdca26\"],[1.0,\"#f0f921\"]],\"diverging\":[[0,\"#8e0152\"],[0.1,\"#c51b7d\"],[0.2,\"#de77ae\"],[0.3,\"#f1b6da\"],[0.4,\"#fde0ef\"],[0.5,\"#f7f7f7\"],[0.6,\"#e6f5d0\"],[0.7,\"#b8e186\"],[0.8,\"#7fbc41\"],[0.9,\"#4d9221\"],[1,\"#276419\"]]},\"xaxis\":{\"gridcolor\":\"white\",\"linecolor\":\"white\",\"ticks\":\"\",\"title\":{\"standoff\":15},\"zerolinecolor\":\"white\",\"automargin\":true,\"zerolinewidth\":2},\"yaxis\":{\"gridcolor\":\"white\",\"linecolor\":\"white\",\"ticks\":\"\",\"title\":{\"standoff\":15},\"zerolinecolor\":\"white\",\"automargin\":true,\"zerolinewidth\":2},\"scene\":{\"xaxis\":{\"backgroundcolor\":\"#E5ECF6\",\"gridcolor\":\"white\",\"linecolor\":\"white\",\"showbackground\":true,\"ticks\":\"\",\"zerolinecolor\":\"white\",\"gridwidth\":2},\"yaxis\":{\"backgroundcolor\":\"#E5ECF6\",\"gridcolor\":\"white\",\"linecolor\":\"white\",\"showbackground\":true,\"ticks\":\"\",\"zerolinecolor\":\"white\",\"gridwidth\":2},\"zaxis\":{\"backgroundcolor\":\"#E5ECF6\",\"gridcolor\":\"white\",\"linecolor\":\"white\",\"showbackground\":true,\"ticks\":\"\",\"zerolinecolor\":\"white\",\"gridwidth\":2}},\"shapedefaults\":{\"line\":{\"color\":\"#2a3f5f\"}},\"annotationdefaults\":{\"arrowcolor\":\"#2a3f5f\",\"arrowhead\":0,\"arrowwidth\":1},\"geo\":{\"bgcolor\":\"white\",\"landcolor\":\"#E5ECF6\",\"subunitcolor\":\"white\",\"showland\":true,\"showlakes\":true,\"lakecolor\":\"white\"},\"title\":{\"x\":0.05},\"mapbox\":{\"style\":\"light\"}}},\"xaxis\":{\"anchor\":\"y\",\"domain\":[0.0,1.0],\"title\":{\"text\":\"Steps\"}},\"yaxis\":{\"anchor\":\"x\",\"domain\":[0.0,1.0],\"title\":{\"text\":\"Cumulative Time\"}},\"legend\":{\"title\":{\"text\":\"function\"},\"tracegroupgap\":0},\"margin\":{\"t\":60},\"title\":{\"text\":\"Cumulative Lines of Time per Steps\"}},                        {\"responsive\": true}                    ).then(function(){\n",
       "                            \n",
       "var gd = document.getElementById('b94f172a-b3de-4043-b748-356ec5e9016b');\n",
       "var x = new MutationObserver(function (mutations, observer) {{\n",
       "        var display = window.getComputedStyle(gd).display;\n",
       "        if (!display || display === 'none') {{\n",
       "            console.log([gd, 'removed!']);\n",
       "            Plotly.purge(gd);\n",
       "            observer.disconnect();\n",
       "        }}\n",
       "}});\n",
       "\n",
       "// Listen for the removal of the full notebook cells\n",
       "var notebookContainer = gd.closest('#notebook-container');\n",
       "if (notebookContainer) {{\n",
       "    x.observe(notebookContainer, {childList: true});\n",
       "}}\n",
       "\n",
       "// Listen for the clearing of the current output cell\n",
       "var outputEl = gd.closest('.output');\n",
       "if (outputEl) {{\n",
       "    x.observe(outputEl, {childList: true});\n",
       "}}\n",
       "\n",
       "                        })                };                });            </script>        </div>"
      ]
     },
     "metadata": {},
     "output_type": "display_data"
    },
    {
     "data": {
      "application/vnd.plotly.v1+json": {
       "config": {
        "plotlyServerURL": "https://plot.ly"
       },
       "data": [
        {
         "mode": "lines",
         "name": "dvc",
         "type": "scatter",
         "x": [
          0,
          1,
          2,
          3,
          4,
          5,
          6,
          7,
          8,
          9,
          10,
          11,
          12,
          13,
          14,
          15,
          16,
          17,
          18,
          19,
          20,
          21,
          22,
          23,
          24,
          25,
          26,
          27,
          28,
          29,
          30,
          31,
          32,
          33,
          34,
          35,
          36,
          37,
          38,
          39,
          40,
          41,
          42,
          43,
          44,
          45,
          46,
          47,
          48,
          49,
          50,
          51,
          52,
          53,
          54,
          55,
          56,
          57,
          58,
          59,
          60,
          61,
          62,
          63,
          64,
          65,
          66,
          67,
          68,
          69,
          70,
          71,
          72,
          73,
          74,
          75,
          76,
          77,
          78,
          79,
          80,
          81,
          82,
          83,
          84,
          85,
          86,
          87,
          88,
          89,
          90,
          91,
          92,
          93,
          94,
          95,
          96,
          97,
          98,
          99
         ],
         "y": [
          26.281028747558594,
          26.464547157287598,
          26.397648811340332,
          25.62556004524231,
          25.893035173416138,
          25.94017791748047,
          14.515666007995605,
          25.970184803009033,
          14.577688694000244,
          25.711973905563354,
          25.892984867095947,
          23.743069887161255,
          14.557340145111084,
          26.100496768951416,
          29.399785041809082,
          25.81400990486145,
          24.152334213256836,
          24.001060724258423,
          25.88848114013672,
          25.795757055282593,
          26.04055404663086,
          25.89548420906067,
          28.36674213409424,
          25.63016176223755,
          14.345854043960571,
          25.637019872665405,
          25.496614933013916,
          25.307119131088257,
          25.486989974975586,
          24.120495080947876,
          32.54199695587158,
          14.70056414604187,
          25.935272932052612,
          24.12733221054077,
          26.107128620147705,
          26.130418062210083,
          25.92600131034851,
          25.874770879745483,
          25.926424741744995,
          14.400539875030518,
          25.411359071731567,
          14.424793720245361,
          14.213720083236694,
          39.972676038742065,
          25.699578046798706,
          14.248407125473022,
          25.57687997817993,
          14.456849098205566,
          25.886610984802246,
          14.606189966201782,
          23.853949785232544,
          33.55705904960632,
          14.469709157943726,
          30.624510049819946,
          23.596184015274048,
          25.380548238754272,
          14.723859071731567,
          14.5917809009552,
          15.031229019165039,
          23.76511812210083,
          23.86490511894226,
          14.378488779067993,
          23.88789701461792,
          26.132598876953125,
          25.854454040527344,
          25.951828956604004,
          25.651790142059326,
          25.507748126983643,
          26.090619802474976,
          14.474091053009033,
          25.890247106552124,
          25.48772096633911,
          14.100862979888916,
          25.752032995224,
          25.62792992591858,
          25.628955841064453,
          23.84041404724121,
          25.946810007095337,
          25.51495671272278,
          14.82099986076355,
          14.617368936538696,
          14.814720153808594,
          25.890072107315063,
          23.971683025360107,
          14.473829984664917,
          24.01793599128723,
          24.002521991729736,
          25.96187424659729,
          25.666340112686157,
          14.732818126678467,
          15.372549295425415,
          25.931726932525635,
          14.424628973007202,
          15.02552318572998,
          14.732894897460938,
          14.541096925735474,
          25.516525983810425,
          25.86208987236023,
          25.867829084396362,
          14.766914129257202
         ]
        },
        {
         "mode": "lines",
         "name": "lakefs",
         "type": "scatter",
         "x": [
          0,
          1,
          2,
          3,
          4,
          5,
          6,
          7,
          8,
          9,
          10,
          11,
          12,
          13,
          14,
          15,
          16,
          17,
          18,
          19,
          20,
          21,
          22,
          23,
          24,
          25,
          26,
          27,
          28,
          29,
          30,
          31,
          32,
          33,
          34,
          35,
          36,
          37,
          38,
          39,
          40,
          41,
          42,
          43,
          44,
          45,
          46,
          47,
          48,
          49,
          50,
          51,
          52,
          53,
          54,
          55,
          56,
          57,
          58,
          59,
          60,
          61,
          62,
          63,
          64,
          65,
          66,
          67,
          68,
          69,
          70,
          71,
          72,
          73,
          74,
          75,
          76,
          77,
          78,
          79,
          80,
          81,
          82,
          83,
          84,
          85,
          86,
          87,
          88,
          89,
          90,
          91,
          92,
          93,
          94,
          95,
          96,
          97,
          98,
          99
         ],
         "y": [
          9.995609760284424,
          16.21295475959778,
          10.016295194625854,
          16.843175172805786,
          16.5897798538208,
          10.084481000900269,
          16.35773205757141,
          16.604646921157837,
          10.087484121322632,
          16.729496002197266,
          16.292963981628418,
          16.720120191574097,
          9.783668041229248,
          9.838276147842407,
          16.990177154541016,
          12.839772939682007,
          9.99056100845337,
          9.931955099105835,
          11.184509038925171,
          10.084535121917725,
          16.088424921035767,
          9.827999830245972,
          16.691822052001953,
          10.029165983200073,
          16.360899209976196,
          16.84877920150757,
          16.30443024635315,
          16.437283277511597,
          16.381942987442017,
          15.951648950576782,
          16.67938208580017,
          16.1809298992157,
          9.938452005386353,
          16.54067897796631,
          10.635241985321045,
          16.608513832092285,
          16.63237714767456,
          16.309452772140503,
          9.948148965835571,
          16.483431339263916,
          16.486389875411987,
          16.267088174819946,
          23.631316900253296,
          13.143670082092285,
          18.59606671333313,
          16.30780577659607,
          16.815832138061523,
          16.303059101104736,
          13.329660892486572,
          16.604928970336914,
          9.891599178314209,
          9.600938081741333,
          18.364201307296753,
          16.06468105316162,
          16.469043970108032,
          17.472341775894165,
          16.90166401863098,
          9.87937593460083,
          16.80197501182556,
          16.098737239837646,
          9.901614665985107,
          10.156321048736572,
          16.62177085876465,
          11.160631895065308,
          23.48107886314392,
          16.104411840438843,
          16.49537682533264,
          16.95904302597046,
          16.413525104522705,
          9.796157836914062,
          9.70858907699585,
          16.184391260147095,
          16.735983848571777,
          16.476348876953125,
          16.40025496482849,
          23.013532876968384,
          9.551352977752686,
          16.238640069961548,
          16.737040996551514,
          10.028496026992798,
          10.079048871994019,
          16.523630142211914,
          9.913825750350952,
          9.89023208618164,
          11.160704135894775,
          16.239941835403442,
          9.956784009933472,
          17.19894504547119,
          9.614555835723877,
          16.45340585708618,
          16.3760929107666,
          17.028156995773315,
          10.137326002120972,
          16.60417604446411,
          16.61457586288452,
          17.053248167037964,
          16.824381351470947,
          16.53228783607483,
          10.205218076705933,
          16.63570523262024
         ]
        },
        {
         "mode": "lines",
         "name": "lfs git",
         "type": "scatter",
         "x": [
          0,
          1,
          2,
          3,
          4,
          5,
          6,
          7,
          8,
          9,
          10,
          11,
          12,
          13,
          14,
          15,
          16,
          17,
          18,
          19,
          20,
          21,
          22,
          23,
          24,
          25,
          26,
          27,
          28,
          29,
          30,
          31,
          32,
          33,
          34,
          35,
          36,
          37,
          38,
          39,
          40,
          41,
          42,
          43,
          44,
          45,
          46,
          47,
          48,
          49,
          50,
          51,
          52,
          53,
          54,
          55,
          56,
          57,
          58,
          59,
          60,
          61,
          62,
          63,
          64,
          65,
          66,
          67,
          68,
          69,
          70,
          71,
          72,
          73,
          74,
          75,
          76,
          77,
          78,
          79,
          80,
          81,
          82,
          83,
          84,
          85,
          86,
          87,
          88,
          89,
          90,
          91,
          92,
          93,
          94,
          95,
          96,
          97,
          98,
          99
         ],
         "y": [
          3.72640323638916,
          11.693150758743286,
          11.702033042907715,
          31.769394159317017,
          21.864778757095337,
          11.669157981872559,
          21.84721827507019,
          11.853064775466919,
          12.017003059387207,
          11.655488014221191,
          21.33644986152649,
          21.895817041397095,
          11.642736911773682,
          21.845198154449463,
          21.681704998016357,
          21.740479230880737,
          22.10406494140625,
          22.749067068099976,
          21.473332166671753,
          11.666692018508911,
          22.0398530960083,
          21.787827014923096,
          11.680401086807251,
          22.13046383857727,
          22.001585960388184,
          11.574288129806519,
          21.47771692276001,
          22.123214960098267,
          21.916667222976685,
          11.459587812423706,
          11.55704402923584,
          21.88614010810852,
          21.455017805099487,
          21.657682180404663,
          21.88118600845337,
          67.68081903457642,
          22.367943286895752,
          21.92284607887268,
          21.99555206298828,
          21.468428134918213,
          21.63692808151245,
          21.829555988311768,
          11.523393869400024,
          21.985644102096558,
          21.58782434463501,
          21.04076600074768,
          21.69889497756958,
          22.518503189086914,
          11.640361070632935,
          11.982306957244873,
          11.422783851623535,
          11.565481185913086,
          21.72833800315857,
          22.150797843933105,
          21.354284048080444,
          20.76702380180359,
          11.583796977996826,
          21.81156826019287,
          20.953564882278442,
          22.052201986312866,
          11.427855730056763,
          21.905511140823364,
          22.800532817840576,
          21.799224138259888,
          12.099047183990479,
          11.459251880645752,
          11.60936188697815,
          11.712086915969849,
          11.466970205307007,
          11.869940042495728,
          22.13084077835083,
          11.792591094970703,
          11.462743997573853,
          11.487163066864014,
          21.70838713645935,
          21.64234209060669,
          22.008146286010742,
          22.032198905944824,
          11.636085987091064,
          21.6354660987854,
          21.68575096130371,
          22.644567012786865,
          11.496798992156982,
          11.784081220626831,
          21.750869035720825,
          21.81270408630371,
          21.934694051742554,
          22.06544828414917,
          21.815401077270508,
          21.467807292938232,
          21.44778871536255,
          11.863343954086304,
          11.50256085395813,
          21.0676167011261,
          11.684456825256348,
          21.599869966506958,
          21.614464044570923,
          21.830307722091675,
          21.94031000137329,
          21.92834186553955
         ]
        },
        {
         "mode": "lines",
         "name": "lfs s3",
         "type": "scatter",
         "x": [
          0,
          1,
          2,
          3,
          4,
          5,
          6,
          7,
          8,
          9,
          10,
          11,
          12,
          13,
          14,
          15,
          16,
          17,
          18,
          19,
          20,
          21,
          22,
          23,
          24,
          25,
          26,
          27,
          28,
          29,
          30,
          31,
          32,
          33,
          34,
          35,
          36,
          37,
          38,
          39,
          40,
          41,
          42,
          43,
          44,
          45,
          46,
          47,
          48,
          49,
          50,
          51,
          52,
          53,
          54,
          55,
          56,
          57,
          58,
          59,
          60,
          61,
          62,
          63,
          64,
          65,
          66,
          67,
          68,
          69,
          70,
          71,
          72,
          73,
          74,
          75,
          76,
          77,
          78,
          79,
          80,
          81,
          82,
          83,
          84,
          85,
          86,
          87,
          88,
          89,
          90,
          91,
          92,
          93,
          94,
          95,
          96,
          97,
          98,
          99
         ],
         "y": [
          4.39343786239624,
          24.39924693107605,
          22.52028489112854,
          24.064409017562866,
          23.98543381690979,
          23.941766023635864,
          24.066452980041504,
          22.332613229751587,
          23.929720878601074,
          24.086432695388794,
          23.980841159820557,
          22.623598098754883,
          22.26133894920349,
          24.233622789382935,
          23.819945096969604,
          22.65023422241211,
          23.783936023712158,
          23.891703128814697,
          31.268002033233643,
          23.59199595451355,
          24.920193195343018,
          24.286263942718506,
          23.78643488883972,
          21.961339712142944,
          23.724919080734253,
          22.4739990234375,
          13.631391048431396,
          23.943900108337402,
          22.318865060806274,
          23.762333869934082,
          23.98268485069275,
          24.04041886329651,
          24.156627893447876,
          22.273848056793213,
          22.44782590866089,
          23.601518154144287,
          22.505946159362793,
          29.78727698326111,
          24.04523801803589,
          23.69829297065735,
          23.511754989624023,
          23.883862018585205,
          13.695722103118896,
          22.880617141723633,
          23.712520122528076,
          23.944779634475708,
          23.9889018535614,
          30.679071187973022,
          23.895660161972046,
          23.884435892105103,
          22.4899160861969,
          24.064874172210693,
          22.368633270263672,
          23.86791181564331,
          13.507612228393555,
          23.749168872833252,
          23.774640321731567,
          25.37528967857361,
          23.93309473991394,
          14.23464298248291,
          22.34525227546692,
          24.08263087272644,
          23.760594844818115,
          31.30541491508484,
          24.341302156448364,
          22.382683277130127,
          24.072109937667847,
          23.89547610282898,
          22.275104999542236,
          23.617324113845825,
          23.748626232147217,
          23.86634397506714,
          25.367717266082764,
          24.08970022201538,
          22.183993101119995,
          33.95621204376221,
          22.466390132904053,
          32.53464603424072,
          22.298605918884277,
          27.978087902069092,
          23.85643696784973,
          23.804909706115723,
          23.61364507675171,
          24.770516872406006,
          22.209537029266357,
          22.344208002090454,
          24.05749797821045,
          23.822062730789185,
          22.725131034851074,
          23.90221905708313,
          23.720088958740234,
          22.399428129196167,
          25.135929107666016,
          14.60300588607788,
          24.019904136657715,
          25.093801975250244,
          23.98704719543457,
          22.039740800857544,
          24.07361936569214,
          23.941087007522583
         ]
        },
        {
         "mode": "lines",
         "name": "s3",
         "type": "scatter",
         "x": [
          0,
          1,
          2,
          3,
          4,
          5,
          6,
          7,
          8,
          9,
          10,
          11,
          12,
          13,
          14,
          15,
          16,
          17,
          18,
          19,
          20,
          21,
          22,
          23,
          24,
          25,
          26,
          27,
          28,
          29,
          30,
          31,
          32,
          33,
          34,
          35,
          36,
          37,
          38,
          39,
          40,
          41,
          42,
          43,
          44,
          45,
          46,
          47,
          48,
          49,
          50,
          51,
          52,
          53,
          54,
          55,
          56,
          57,
          58,
          59,
          60,
          61,
          62,
          63,
          64,
          65,
          66,
          67,
          68,
          69,
          70,
          71,
          72,
          73,
          74,
          75,
          76,
          77,
          78,
          79,
          80,
          81,
          82,
          83,
          84,
          85,
          86,
          87,
          88,
          89,
          90,
          91,
          92,
          93,
          94,
          95,
          96,
          97,
          98,
          99
         ],
         "y": [
          10.95465612411499,
          15.822094917297363,
          10.353568077087402,
          15.050559997558594,
          14.063154935836792,
          15.186003923416138,
          10.09314513206482,
          10.257225036621094,
          15.062842845916748,
          15.034569263458252,
          14.988886833190918,
          15.057999849319458,
          15.034669160842896,
          10.151368141174316,
          15.034667015075684,
          10.21474313735962,
          15.192835807800293,
          10.006309270858765,
          15.107208967208862,
          10.489155054092407,
          15.08474612236023,
          15.056766986846924,
          10.161710023880005,
          14.951411962509155,
          10.221999168395996,
          15.018866062164307,
          14.878015995025635,
          14.934466123580933,
          15.05595588684082,
          9.997128009796143,
          10.372265338897705,
          14.939024686813354,
          13.533078908920288,
          9.99620771408081,
          15.0813889503479,
          15.18650484085083,
          14.87866997718811,
          15.16798710823059,
          15.003167867660522,
          14.037560939788818,
          10.2467041015625,
          15.042036771774292,
          15.252007007598877,
          17.397703170776367,
          10.040987014770508,
          15.116082906723022,
          10.292248010635376,
          15.214356899261475,
          10.190784931182861,
          15.185758829116821,
          10.060501098632812,
          9.994627952575684,
          18.18187379837036,
          15.032050848007202,
          10.212507009506226,
          15.283413887023926,
          15.295047998428345,
          15.22853398323059,
          15.195805788040161,
          15.031807899475098,
          15.087979793548584,
          15.096086025238037,
          10.165482997894287,
          15.117922067642212,
          10.09402322769165,
          15.20515513420105,
          14.993623971939087,
          15.008226156234741,
          15.142174005508423,
          10.006006956100464,
          10.17566204071045,
          15.016543865203857,
          10.242207050323486,
          15.072994709014893,
          15.120314121246338,
          15.714240074157715,
          10.014149904251099,
          15.056591272354126,
          15.296289205551147,
          15.087036848068237,
          10.247858047485352,
          10.193196773529053,
          15.012659788131714,
          10.518321752548218,
          15.107832193374634,
          15.233259916305542,
          10.171066045761108,
          15.05662989616394,
          15.147210121154785,
          15.170183897018433,
          15.038485050201416,
          15.130362033843994,
          10.040860891342163,
          15.185113191604614,
          15.143966913223267,
          15.04650616645813,
          15.064537048339844,
          10.061865091323853,
          15.042614936828613,
          10.465705871582031
         ]
        },
        {
         "mode": "lines",
         "name": "xethub git",
         "type": "scatter",
         "x": [
          0,
          1,
          2,
          3,
          4,
          5,
          6,
          7,
          8,
          9,
          10,
          11,
          12,
          13,
          14,
          15,
          16,
          17,
          18,
          19,
          20,
          21,
          22,
          23,
          24,
          25,
          26,
          27,
          28,
          29,
          30,
          31,
          32,
          33,
          34,
          35,
          36,
          37,
          38,
          39,
          40,
          41,
          42,
          43,
          44,
          45,
          46,
          47,
          48,
          49,
          50,
          51,
          52,
          53,
          54,
          55,
          56,
          57,
          58,
          59,
          60,
          61,
          62,
          63,
          64,
          65,
          66,
          67,
          68,
          69,
          70,
          71,
          72,
          73,
          74,
          75,
          76,
          77,
          78,
          79,
          80,
          81,
          82,
          83,
          84,
          85,
          86,
          87,
          88,
          89,
          90,
          91,
          92,
          93,
          94,
          95,
          96,
          97,
          98,
          99
         ],
         "y": [
          2.6494319438934326,
          1.7283270359039307,
          1.8239867687225342,
          1.8059358596801758,
          1.9022479057312012,
          1.8555667400360107,
          1.6367411613464355,
          1.5016379356384277,
          1.7318930625915527,
          1.7962408065795898,
          1.5164849758148193,
          1.7898790836334229,
          1.6953480243682861,
          2.051710367202759,
          1.7598850727081299,
          1.6148221492767334,
          1.7376329898834229,
          1.7563021183013916,
          1.5902278423309326,
          1.6673238277435303,
          1.6937928199768066,
          1.5517568588256836,
          1.6501350402832031,
          1.5772607326507568,
          1.646238088607788,
          1.574772834777832,
          1.5332767963409424,
          1.5081019401550293,
          1.4790611267089844,
          1.7123827934265137,
          1.7680583000183105,
          1.5344891548156738,
          1.6067967414855957,
          1.5737853050231934,
          1.478320837020874,
          1.6146278381347656,
          1.6928870677947998,
          1.634124994277954,
          1.5108921527862549,
          1.3990800380706787,
          1.5352771282196045,
          1.5191519260406494,
          1.5570240020751953,
          1.6351840496063232,
          1.4954960346221924,
          1.4650599956512451,
          1.510868787765503,
          1.4965870380401611,
          1.5218749046325684,
          1.4892747402191162,
          1.5585241317749023,
          1.4285268783569336,
          1.5929861068725586,
          1.7081410884857178,
          1.558967113494873,
          1.4820537567138672,
          1.638559103012085,
          1.593770980834961,
          1.6358668804168701,
          1.5317230224609375,
          1.6152279376983643,
          1.8111717700958252,
          1.5317142009735107,
          1.6694068908691406,
          1.5318260192871094,
          1.5677108764648438,
          1.5222866535186768,
          1.5006351470947266,
          1.6187219619750977,
          1.5796701908111572,
          1.5380778312683105,
          1.5598328113555908,
          1.5963270664215088,
          1.453099012374878,
          1.714332103729248,
          1.6537621021270752,
          1.518002986907959,
          1.5657639503479004,
          1.6133818626403809,
          1.5480618476867676,
          1.572824239730835,
          1.5267260074615479,
          1.5137081146240234,
          1.4803600311279297,
          1.5424208641052246,
          1.4722182750701904,
          1.5824260711669922,
          1.5154569149017334,
          1.4641919136047363,
          1.5529577732086182,
          1.5162549018859863,
          1.6058239936828613,
          1.743894100189209,
          1.6006598472595215,
          1.7392919063568115,
          1.5643670558929443,
          1.4377007484436035,
          1.5359177589416504,
          1.6657190322875977,
          1.6948449611663818
         ]
        },
        {
         "mode": "lines",
         "name": "xethub py",
         "type": "scatter",
         "x": [
          0,
          1,
          2,
          3,
          4,
          5,
          6,
          7,
          8,
          9,
          10,
          11,
          12,
          13,
          14,
          15,
          16,
          17,
          18,
          19,
          20,
          21,
          22,
          23,
          24,
          25,
          26,
          27,
          28,
          29,
          30,
          31,
          32,
          33,
          34,
          35,
          36,
          37,
          38,
          39,
          40,
          41,
          42,
          43,
          44,
          45,
          46,
          47,
          48,
          49,
          50,
          51,
          52,
          53,
          54,
          55,
          56,
          57,
          58,
          59,
          60,
          61,
          62,
          63,
          64,
          65,
          66,
          67,
          68,
          69,
          70,
          71,
          72,
          73,
          74,
          75,
          76,
          77,
          78,
          79,
          80,
          81,
          82,
          83,
          84,
          85,
          86,
          87,
          88,
          89,
          90,
          91,
          92,
          93,
          94,
          95,
          96,
          97,
          98,
          99
         ],
         "y": [
          18.57864809036255,
          36.0614538192749,
          29.069940090179443,
          35.970776081085205,
          22.384006023406982,
          19.067074060440063,
          31.365944147109985,
          26.99503469467163,
          17.00453209877014,
          32.82517695426941,
          32.892192125320435,
          27.37399196624756,
          30.469725131988525,
          36.064399003982544,
          27.69285798072815,
          20.262083053588867,
          32.450413942337036,
          20.506500959396362,
          18.07471799850464,
          18.423486948013306,
          22.973603010177612,
          16.598618984222412,
          27.98858118057251,
          25.33456516265869,
          30.04510807991028,
          27.177008867263794,
          26.291771173477173,
          21.818383932113647,
          29.309115886688232,
          23.994710683822632,
          21.8968448638916,
          35.06111478805542,
          32.693827867507935,
          17.58804488182068,
          31.43116521835327,
          18.950154066085815,
          33.46255421638489,
          28.198372840881348,
          17.630654096603394,
          22.05754518508911,
          21.409032106399536,
          19.59988522529602,
          35.30886793136597,
          36.60612201690674,
          27.958027124404907,
          33.53053379058838,
          27.709105968475342,
          28.488938093185425,
          29.139576196670532,
          33.55355191230774,
          28.229208946228027,
          19.19150686264038,
          32.21133899688721,
          21.869973182678223,
          17.863173246383667,
          26.530757904052734,
          23.518107175827026,
          35.83711624145508,
          33.33923077583313,
          23.195199966430664,
          31.7832989692688,
          20.75685405731201,
          37.39417791366577,
          33.52323389053345,
          23.687280893325806,
          18.86711287498474,
          33.929463148117065,
          35.46759223937988,
          29.323512077331543,
          32.504432916641235,
          32.087717056274414,
          31.359392166137695,
          17.23599934577942,
          22.97852110862732,
          38.54466104507446,
          24.708793878555298,
          31.19249391555786,
          20.76335906982422,
          26.107553005218506,
          31.65772318840027,
          34.1817889213562,
          35.42695593833923,
          37.808764934539795,
          34.09654688835144,
          30.56501293182373,
          34.45527911186218,
          32.59217166900635,
          37.174967765808105,
          25.3554949760437,
          28.023264169692993,
          25.374030113220215,
          30.455872058868408,
          16.54040002822876,
          33.05821990966797,
          17.785260915756226,
          29.198559045791626,
          31.67383599281311,
          19.628844022750854,
          34.65671396255493,
          22.54950785636902
         ]
        }
       ],
       "layout": {
        "autosize": true,
        "template": {
         "data": {
          "bar": [
           {
            "error_x": {
             "color": "#2a3f5f"
            },
            "error_y": {
             "color": "#2a3f5f"
            },
            "marker": {
             "line": {
              "color": "#E5ECF6",
              "width": 0.5
             },
             "pattern": {
              "fillmode": "overlay",
              "size": 10,
              "solidity": 0.2
             }
            },
            "type": "bar"
           }
          ],
          "barpolar": [
           {
            "marker": {
             "line": {
              "color": "#E5ECF6",
              "width": 0.5
             },
             "pattern": {
              "fillmode": "overlay",
              "size": 10,
              "solidity": 0.2
             }
            },
            "type": "barpolar"
           }
          ],
          "carpet": [
           {
            "aaxis": {
             "endlinecolor": "#2a3f5f",
             "gridcolor": "white",
             "linecolor": "white",
             "minorgridcolor": "white",
             "startlinecolor": "#2a3f5f"
            },
            "baxis": {
             "endlinecolor": "#2a3f5f",
             "gridcolor": "white",
             "linecolor": "white",
             "minorgridcolor": "white",
             "startlinecolor": "#2a3f5f"
            },
            "type": "carpet"
           }
          ],
          "choropleth": [
           {
            "colorbar": {
             "outlinewidth": 0,
             "ticks": ""
            },
            "type": "choropleth"
           }
          ],
          "contour": [
           {
            "colorbar": {
             "outlinewidth": 0,
             "ticks": ""
            },
            "colorscale": [
             [
              0,
              "#0d0887"
             ],
             [
              0.1111111111111111,
              "#46039f"
             ],
             [
              0.2222222222222222,
              "#7201a8"
             ],
             [
              0.3333333333333333,
              "#9c179e"
             ],
             [
              0.4444444444444444,
              "#bd3786"
             ],
             [
              0.5555555555555556,
              "#d8576b"
             ],
             [
              0.6666666666666666,
              "#ed7953"
             ],
             [
              0.7777777777777778,
              "#fb9f3a"
             ],
             [
              0.8888888888888888,
              "#fdca26"
             ],
             [
              1,
              "#f0f921"
             ]
            ],
            "type": "contour"
           }
          ],
          "contourcarpet": [
           {
            "colorbar": {
             "outlinewidth": 0,
             "ticks": ""
            },
            "type": "contourcarpet"
           }
          ],
          "heatmap": [
           {
            "colorbar": {
             "outlinewidth": 0,
             "ticks": ""
            },
            "colorscale": [
             [
              0,
              "#0d0887"
             ],
             [
              0.1111111111111111,
              "#46039f"
             ],
             [
              0.2222222222222222,
              "#7201a8"
             ],
             [
              0.3333333333333333,
              "#9c179e"
             ],
             [
              0.4444444444444444,
              "#bd3786"
             ],
             [
              0.5555555555555556,
              "#d8576b"
             ],
             [
              0.6666666666666666,
              "#ed7953"
             ],
             [
              0.7777777777777778,
              "#fb9f3a"
             ],
             [
              0.8888888888888888,
              "#fdca26"
             ],
             [
              1,
              "#f0f921"
             ]
            ],
            "type": "heatmap"
           }
          ],
          "heatmapgl": [
           {
            "colorbar": {
             "outlinewidth": 0,
             "ticks": ""
            },
            "colorscale": [
             [
              0,
              "#0d0887"
             ],
             [
              0.1111111111111111,
              "#46039f"
             ],
             [
              0.2222222222222222,
              "#7201a8"
             ],
             [
              0.3333333333333333,
              "#9c179e"
             ],
             [
              0.4444444444444444,
              "#bd3786"
             ],
             [
              0.5555555555555556,
              "#d8576b"
             ],
             [
              0.6666666666666666,
              "#ed7953"
             ],
             [
              0.7777777777777778,
              "#fb9f3a"
             ],
             [
              0.8888888888888888,
              "#fdca26"
             ],
             [
              1,
              "#f0f921"
             ]
            ],
            "type": "heatmapgl"
           }
          ],
          "histogram": [
           {
            "marker": {
             "pattern": {
              "fillmode": "overlay",
              "size": 10,
              "solidity": 0.2
             }
            },
            "type": "histogram"
           }
          ],
          "histogram2d": [
           {
            "colorbar": {
             "outlinewidth": 0,
             "ticks": ""
            },
            "colorscale": [
             [
              0,
              "#0d0887"
             ],
             [
              0.1111111111111111,
              "#46039f"
             ],
             [
              0.2222222222222222,
              "#7201a8"
             ],
             [
              0.3333333333333333,
              "#9c179e"
             ],
             [
              0.4444444444444444,
              "#bd3786"
             ],
             [
              0.5555555555555556,
              "#d8576b"
             ],
             [
              0.6666666666666666,
              "#ed7953"
             ],
             [
              0.7777777777777778,
              "#fb9f3a"
             ],
             [
              0.8888888888888888,
              "#fdca26"
             ],
             [
              1,
              "#f0f921"
             ]
            ],
            "type": "histogram2d"
           }
          ],
          "histogram2dcontour": [
           {
            "colorbar": {
             "outlinewidth": 0,
             "ticks": ""
            },
            "colorscale": [
             [
              0,
              "#0d0887"
             ],
             [
              0.1111111111111111,
              "#46039f"
             ],
             [
              0.2222222222222222,
              "#7201a8"
             ],
             [
              0.3333333333333333,
              "#9c179e"
             ],
             [
              0.4444444444444444,
              "#bd3786"
             ],
             [
              0.5555555555555556,
              "#d8576b"
             ],
             [
              0.6666666666666666,
              "#ed7953"
             ],
             [
              0.7777777777777778,
              "#fb9f3a"
             ],
             [
              0.8888888888888888,
              "#fdca26"
             ],
             [
              1,
              "#f0f921"
             ]
            ],
            "type": "histogram2dcontour"
           }
          ],
          "mesh3d": [
           {
            "colorbar": {
             "outlinewidth": 0,
             "ticks": ""
            },
            "type": "mesh3d"
           }
          ],
          "parcoords": [
           {
            "line": {
             "colorbar": {
              "outlinewidth": 0,
              "ticks": ""
             }
            },
            "type": "parcoords"
           }
          ],
          "pie": [
           {
            "automargin": true,
            "type": "pie"
           }
          ],
          "scatter": [
           {
            "fillpattern": {
             "fillmode": "overlay",
             "size": 10,
             "solidity": 0.2
            },
            "type": "scatter"
           }
          ],
          "scatter3d": [
           {
            "line": {
             "colorbar": {
              "outlinewidth": 0,
              "ticks": ""
             }
            },
            "marker": {
             "colorbar": {
              "outlinewidth": 0,
              "ticks": ""
             }
            },
            "type": "scatter3d"
           }
          ],
          "scattercarpet": [
           {
            "marker": {
             "colorbar": {
              "outlinewidth": 0,
              "ticks": ""
             }
            },
            "type": "scattercarpet"
           }
          ],
          "scattergeo": [
           {
            "marker": {
             "colorbar": {
              "outlinewidth": 0,
              "ticks": ""
             }
            },
            "type": "scattergeo"
           }
          ],
          "scattergl": [
           {
            "marker": {
             "colorbar": {
              "outlinewidth": 0,
              "ticks": ""
             }
            },
            "type": "scattergl"
           }
          ],
          "scattermapbox": [
           {
            "marker": {
             "colorbar": {
              "outlinewidth": 0,
              "ticks": ""
             }
            },
            "type": "scattermapbox"
           }
          ],
          "scatterpolar": [
           {
            "marker": {
             "colorbar": {
              "outlinewidth": 0,
              "ticks": ""
             }
            },
            "type": "scatterpolar"
           }
          ],
          "scatterpolargl": [
           {
            "marker": {
             "colorbar": {
              "outlinewidth": 0,
              "ticks": ""
             }
            },
            "type": "scatterpolargl"
           }
          ],
          "scatterternary": [
           {
            "marker": {
             "colorbar": {
              "outlinewidth": 0,
              "ticks": ""
             }
            },
            "type": "scatterternary"
           }
          ],
          "surface": [
           {
            "colorbar": {
             "outlinewidth": 0,
             "ticks": ""
            },
            "colorscale": [
             [
              0,
              "#0d0887"
             ],
             [
              0.1111111111111111,
              "#46039f"
             ],
             [
              0.2222222222222222,
              "#7201a8"
             ],
             [
              0.3333333333333333,
              "#9c179e"
             ],
             [
              0.4444444444444444,
              "#bd3786"
             ],
             [
              0.5555555555555556,
              "#d8576b"
             ],
             [
              0.6666666666666666,
              "#ed7953"
             ],
             [
              0.7777777777777778,
              "#fb9f3a"
             ],
             [
              0.8888888888888888,
              "#fdca26"
             ],
             [
              1,
              "#f0f921"
             ]
            ],
            "type": "surface"
           }
          ],
          "table": [
           {
            "cells": {
             "fill": {
              "color": "#EBF0F8"
             },
             "line": {
              "color": "white"
             }
            },
            "header": {
             "fill": {
              "color": "#C8D4E3"
             },
             "line": {
              "color": "white"
             }
            },
            "type": "table"
           }
          ]
         },
         "layout": {
          "annotationdefaults": {
           "arrowcolor": "#2a3f5f",
           "arrowhead": 0,
           "arrowwidth": 1
          },
          "autotypenumbers": "strict",
          "coloraxis": {
           "colorbar": {
            "outlinewidth": 0,
            "ticks": ""
           }
          },
          "colorscale": {
           "diverging": [
            [
             0,
             "#8e0152"
            ],
            [
             0.1,
             "#c51b7d"
            ],
            [
             0.2,
             "#de77ae"
            ],
            [
             0.3,
             "#f1b6da"
            ],
            [
             0.4,
             "#fde0ef"
            ],
            [
             0.5,
             "#f7f7f7"
            ],
            [
             0.6,
             "#e6f5d0"
            ],
            [
             0.7,
             "#b8e186"
            ],
            [
             0.8,
             "#7fbc41"
            ],
            [
             0.9,
             "#4d9221"
            ],
            [
             1,
             "#276419"
            ]
           ],
           "sequential": [
            [
             0,
             "#0d0887"
            ],
            [
             0.1111111111111111,
             "#46039f"
            ],
            [
             0.2222222222222222,
             "#7201a8"
            ],
            [
             0.3333333333333333,
             "#9c179e"
            ],
            [
             0.4444444444444444,
             "#bd3786"
            ],
            [
             0.5555555555555556,
             "#d8576b"
            ],
            [
             0.6666666666666666,
             "#ed7953"
            ],
            [
             0.7777777777777778,
             "#fb9f3a"
            ],
            [
             0.8888888888888888,
             "#fdca26"
            ],
            [
             1,
             "#f0f921"
            ]
           ],
           "sequentialminus": [
            [
             0,
             "#0d0887"
            ],
            [
             0.1111111111111111,
             "#46039f"
            ],
            [
             0.2222222222222222,
             "#7201a8"
            ],
            [
             0.3333333333333333,
             "#9c179e"
            ],
            [
             0.4444444444444444,
             "#bd3786"
            ],
            [
             0.5555555555555556,
             "#d8576b"
            ],
            [
             0.6666666666666666,
             "#ed7953"
            ],
            [
             0.7777777777777778,
             "#fb9f3a"
            ],
            [
             0.8888888888888888,
             "#fdca26"
            ],
            [
             1,
             "#f0f921"
            ]
           ]
          },
          "colorway": [
           "#636efa",
           "#EF553B",
           "#00cc96",
           "#ab63fa",
           "#FFA15A",
           "#19d3f3",
           "#FF6692",
           "#B6E880",
           "#FF97FF",
           "#FECB52"
          ],
          "font": {
           "color": "#2a3f5f"
          },
          "geo": {
           "bgcolor": "white",
           "lakecolor": "white",
           "landcolor": "#E5ECF6",
           "showlakes": true,
           "showland": true,
           "subunitcolor": "white"
          },
          "hoverlabel": {
           "align": "left"
          },
          "hovermode": "closest",
          "mapbox": {
           "style": "light"
          },
          "paper_bgcolor": "white",
          "plot_bgcolor": "#E5ECF6",
          "polar": {
           "angularaxis": {
            "gridcolor": "white",
            "linecolor": "white",
            "ticks": ""
           },
           "bgcolor": "#E5ECF6",
           "radialaxis": {
            "gridcolor": "white",
            "linecolor": "white",
            "ticks": ""
           }
          },
          "scene": {
           "xaxis": {
            "backgroundcolor": "#E5ECF6",
            "gridcolor": "white",
            "gridwidth": 2,
            "linecolor": "white",
            "showbackground": true,
            "ticks": "",
            "zerolinecolor": "white"
           },
           "yaxis": {
            "backgroundcolor": "#E5ECF6",
            "gridcolor": "white",
            "gridwidth": 2,
            "linecolor": "white",
            "showbackground": true,
            "ticks": "",
            "zerolinecolor": "white"
           },
           "zaxis": {
            "backgroundcolor": "#E5ECF6",
            "gridcolor": "white",
            "gridwidth": 2,
            "linecolor": "white",
            "showbackground": true,
            "ticks": "",
            "zerolinecolor": "white"
           }
          },
          "shapedefaults": {
           "line": {
            "color": "#2a3f5f"
           }
          },
          "ternary": {
           "aaxis": {
            "gridcolor": "white",
            "linecolor": "white",
            "ticks": ""
           },
           "baxis": {
            "gridcolor": "white",
            "linecolor": "white",
            "ticks": ""
           },
           "bgcolor": "#E5ECF6",
           "caxis": {
            "gridcolor": "white",
            "linecolor": "white",
            "ticks": ""
           }
          },
          "title": {
           "x": 0.05
          },
          "xaxis": {
           "automargin": true,
           "gridcolor": "white",
           "linecolor": "white",
           "ticks": "",
           "title": {
            "standoff": 15
           },
           "zerolinecolor": "white",
           "zerolinewidth": 2
          },
          "yaxis": {
           "automargin": true,
           "gridcolor": "white",
           "linecolor": "white",
           "ticks": "",
           "title": {
            "standoff": 15
           },
           "zerolinecolor": "white",
           "zerolinewidth": 2
          }
         }
        },
        "xaxis": {
         "autorange": true,
         "range": [
          0,
          99
         ],
         "title": {
          "text": "Step"
         },
         "type": "linear"
        },
        "yaxis": {
         "autorange": true,
         "range": [
          -2.2832387950685287,
          71.36313786771562
         ],
         "title": {
          "text": "Time"
         },
         "type": "linear"
        }
       }
      },
      "image/png": "[encoded data removed]",
      "text/html": [
       "<div>                            <div id=\"20c15437-8133-40b9-a31d-f2b3ae6f6ce3\" class=\"plotly-graph-div\" style=\"height:525px; width:100%;\"></div>            <script type=\"text/javascript\">                require([\"plotly\"], function(Plotly) {                    window.PLOTLYENV=window.PLOTLYENV || {};                                    if (document.getElementById(\"20c15437-8133-40b9-a31d-f2b3ae6f6ce3\")) {                    Plotly.newPlot(                        \"20c15437-8133-40b9-a31d-f2b3ae6f6ce3\",                        [{\"mode\":\"lines\",\"name\":\"dvc\",\"x\":[0,1,2,3,4,5,6,7,8,9,10,11,12,13,14,15,16,17,18,19,20,21,22,23,24,25,26,27,28,29,30,31,32,33,34,35,36,37,38,39,40,41,42,43,44,45,46,47,48,49,50,51,52,53,54,55,56,57,58,59,60,61,62,63,64,65,66,67,68,69,70,71,72,73,74,75,76,77,78,79,80,81,82,83,84,85,86,87,88,89,90,91,92,93,94,95,96,97,98,99],\"y\":[26.281028747558594,26.464547157287598,26.397648811340332,25.62556004524231,25.893035173416138,25.94017791748047,14.515666007995605,25.970184803009033,14.577688694000244,25.711973905563354,25.892984867095947,23.743069887161255,14.557340145111084,26.100496768951416,29.399785041809082,25.81400990486145,24.152334213256836,24.001060724258423,25.88848114013672,25.795757055282593,26.04055404663086,25.89548420906067,28.36674213409424,25.63016176223755,14.345854043960571,25.637019872665405,25.496614933013916,25.307119131088257,25.486989974975586,24.120495080947876,32.54199695587158,14.70056414604187,25.935272932052612,24.12733221054077,26.107128620147705,26.130418062210083,25.92600131034851,25.874770879745483,25.926424741744995,14.400539875030518,25.411359071731567,14.424793720245361,14.213720083236694,39.972676038742065,25.699578046798706,14.248407125473022,25.57687997817993,14.456849098205566,25.886610984802246,14.606189966201782,23.853949785232544,33.55705904960632,14.469709157943726,30.624510049819946,23.596184015274048,25.380548238754272,14.723859071731567,14.5917809009552,15.031229019165039,23.76511812210083,23.86490511894226,14.378488779067993,23.88789701461792,26.132598876953125,25.854454040527344,25.951828956604004,25.651790142059326,25.507748126983643,26.090619802474976,14.474091053009033,25.890247106552124,25.48772096633911,14.100862979888916,25.752032995224,25.62792992591858,25.628955841064453,23.84041404724121,25.946810007095337,25.51495671272278,14.82099986076355,14.617368936538696,14.814720153808594,25.890072107315063,23.971683025360107,14.473829984664917,24.01793599128723,24.002521991729736,25.96187424659729,25.666340112686157,14.732818126678467,15.372549295425415,25.931726932525635,14.424628973007202,15.02552318572998,14.732894897460938,14.541096925735474,25.516525983810425,25.86208987236023,25.867829084396362,14.766914129257202],\"type\":\"scatter\"},{\"mode\":\"lines\",\"name\":\"lakefs\",\"x\":[0,1,2,3,4,5,6,7,8,9,10,11,12,13,14,15,16,17,18,19,20,21,22,23,24,25,26,27,28,29,30,31,32,33,34,35,36,37,38,39,40,41,42,43,44,45,46,47,48,49,50,51,52,53,54,55,56,57,58,59,60,61,62,63,64,65,66,67,68,69,70,71,72,73,74,75,76,77,78,79,80,81,82,83,84,85,86,87,88,89,90,91,92,93,94,95,96,97,98,99],\"y\":[9.995609760284424,16.21295475959778,10.016295194625854,16.843175172805786,16.5897798538208,10.084481000900269,16.35773205757141,16.604646921157837,10.087484121322632,16.729496002197266,16.292963981628418,16.720120191574097,9.783668041229248,9.838276147842407,16.990177154541016,12.839772939682007,9.99056100845337,9.931955099105835,11.184509038925171,10.084535121917725,16.088424921035767,9.827999830245972,16.691822052001953,10.029165983200073,16.360899209976196,16.84877920150757,16.30443024635315,16.437283277511597,16.381942987442017,15.951648950576782,16.67938208580017,16.1809298992157,9.938452005386353,16.54067897796631,10.635241985321045,16.608513832092285,16.63237714767456,16.309452772140503,9.948148965835571,16.483431339263916,16.486389875411987,16.267088174819946,23.631316900253296,13.143670082092285,18.59606671333313,16.30780577659607,16.815832138061523,16.303059101104736,13.329660892486572,16.604928970336914,9.891599178314209,9.600938081741333,18.364201307296753,16.06468105316162,16.469043970108032,17.472341775894165,16.90166401863098,9.87937593460083,16.80197501182556,16.098737239837646,9.901614665985107,10.156321048736572,16.62177085876465,11.160631895065308,23.48107886314392,16.104411840438843,16.49537682533264,16.95904302597046,16.413525104522705,9.796157836914062,9.70858907699585,16.184391260147095,16.735983848571777,16.476348876953125,16.40025496482849,23.013532876968384,9.551352977752686,16.238640069961548,16.737040996551514,10.028496026992798,10.079048871994019,16.523630142211914,9.913825750350952,9.89023208618164,11.160704135894775,16.239941835403442,9.956784009933472,17.19894504547119,9.614555835723877,16.45340585708618,16.3760929107666,17.028156995773315,10.137326002120972,16.60417604446411,16.61457586288452,17.053248167037964,16.824381351470947,16.53228783607483,10.205218076705933,16.63570523262024],\"type\":\"scatter\"},{\"mode\":\"lines\",\"name\":\"lfs git\",\"x\":[0,1,2,3,4,5,6,7,8,9,10,11,12,13,14,15,16,17,18,19,20,21,22,23,24,25,26,27,28,29,30,31,32,33,34,35,36,37,38,39,40,41,42,43,44,45,46,47,48,49,50,51,52,53,54,55,56,57,58,59,60,61,62,63,64,65,66,67,68,69,70,71,72,73,74,75,76,77,78,79,80,81,82,83,84,85,86,87,88,89,90,91,92,93,94,95,96,97,98,99],\"y\":[3.72640323638916,11.693150758743286,11.702033042907715,31.769394159317017,21.864778757095337,11.669157981872559,21.84721827507019,11.853064775466919,12.017003059387207,11.655488014221191,21.33644986152649,21.895817041397095,11.642736911773682,21.845198154449463,21.681704998016357,21.740479230880737,22.10406494140625,22.749067068099976,21.473332166671753,11.666692018508911,22.0398530960083,21.787827014923096,11.680401086807251,22.13046383857727,22.001585960388184,11.574288129806519,21.47771692276001,22.123214960098267,21.916667222976685,11.459587812423706,11.55704402923584,21.88614010810852,21.455017805099487,21.657682180404663,21.88118600845337,67.68081903457642,22.367943286895752,21.92284607887268,21.99555206298828,21.468428134918213,21.63692808151245,21.829555988311768,11.523393869400024,21.985644102096558,21.58782434463501,21.04076600074768,21.69889497756958,22.518503189086914,11.640361070632935,11.982306957244873,11.422783851623535,11.565481185913086,21.72833800315857,22.150797843933105,21.354284048080444,20.76702380180359,11.583796977996826,21.81156826019287,20.953564882278442,22.052201986312866,11.427855730056763,21.905511140823364,22.800532817840576,21.799224138259888,12.099047183990479,11.459251880645752,11.60936188697815,11.712086915969849,11.466970205307007,11.869940042495728,22.13084077835083,11.792591094970703,11.462743997573853,11.487163066864014,21.70838713645935,21.64234209060669,22.008146286010742,22.032198905944824,11.636085987091064,21.6354660987854,21.68575096130371,22.644567012786865,11.496798992156982,11.784081220626831,21.750869035720825,21.81270408630371,21.934694051742554,22.06544828414917,21.815401077270508,21.467807292938232,21.44778871536255,11.863343954086304,11.50256085395813,21.0676167011261,11.684456825256348,21.599869966506958,21.614464044570923,21.830307722091675,21.94031000137329,21.92834186553955],\"type\":\"scatter\"},{\"mode\":\"lines\",\"name\":\"lfs s3\",\"x\":[0,1,2,3,4,5,6,7,8,9,10,11,12,13,14,15,16,17,18,19,20,21,22,23,24,25,26,27,28,29,30,31,32,33,34,35,36,37,38,39,40,41,42,43,44,45,46,47,48,49,50,51,52,53,54,55,56,57,58,59,60,61,62,63,64,65,66,67,68,69,70,71,72,73,74,75,76,77,78,79,80,81,82,83,84,85,86,87,88,89,90,91,92,93,94,95,96,97,98,99],\"y\":[4.39343786239624,24.39924693107605,22.52028489112854,24.064409017562866,23.98543381690979,23.941766023635864,24.066452980041504,22.332613229751587,23.929720878601074,24.086432695388794,23.980841159820557,22.623598098754883,22.26133894920349,24.233622789382935,23.819945096969604,22.65023422241211,23.783936023712158,23.891703128814697,31.268002033233643,23.59199595451355,24.920193195343018,24.286263942718506,23.78643488883972,21.961339712142944,23.724919080734253,22.4739990234375,13.631391048431396,23.943900108337402,22.318865060806274,23.762333869934082,23.98268485069275,24.04041886329651,24.156627893447876,22.273848056793213,22.44782590866089,23.601518154144287,22.505946159362793,29.78727698326111,24.04523801803589,23.69829297065735,23.511754989624023,23.883862018585205,13.695722103118896,22.880617141723633,23.712520122528076,23.944779634475708,23.9889018535614,30.679071187973022,23.895660161972046,23.884435892105103,22.4899160861969,24.064874172210693,22.368633270263672,23.86791181564331,13.507612228393555,23.749168872833252,23.774640321731567,25.37528967857361,23.93309473991394,14.23464298248291,22.34525227546692,24.08263087272644,23.760594844818115,31.30541491508484,24.341302156448364,22.382683277130127,24.072109937667847,23.89547610282898,22.275104999542236,23.617324113845825,23.748626232147217,23.86634397506714,25.367717266082764,24.08970022201538,22.183993101119995,33.95621204376221,22.466390132904053,32.53464603424072,22.298605918884277,27.978087902069092,23.85643696784973,23.804909706115723,23.61364507675171,24.770516872406006,22.209537029266357,22.344208002090454,24.05749797821045,23.822062730789185,22.725131034851074,23.90221905708313,23.720088958740234,22.399428129196167,25.135929107666016,14.60300588607788,24.019904136657715,25.093801975250244,23.98704719543457,22.039740800857544,24.07361936569214,23.941087007522583],\"type\":\"scatter\"},{\"mode\":\"lines\",\"name\":\"s3\",\"x\":[0,1,2,3,4,5,6,7,8,9,10,11,12,13,14,15,16,17,18,19,20,21,22,23,24,25,26,27,28,29,30,31,32,33,34,35,36,37,38,39,40,41,42,43,44,45,46,47,48,49,50,51,52,53,54,55,56,57,58,59,60,61,62,63,64,65,66,67,68,69,70,71,72,73,74,75,76,77,78,79,80,81,82,83,84,85,86,87,88,89,90,91,92,93,94,95,96,97,98,99],\"y\":[10.95465612411499,15.822094917297363,10.353568077087402,15.050559997558594,14.063154935836792,15.186003923416138,10.09314513206482,10.257225036621094,15.062842845916748,15.034569263458252,14.988886833190918,15.057999849319458,15.034669160842896,10.151368141174316,15.034667015075684,10.21474313735962,15.192835807800293,10.006309270858765,15.107208967208862,10.489155054092407,15.08474612236023,15.056766986846924,10.161710023880005,14.951411962509155,10.221999168395996,15.018866062164307,14.878015995025635,14.934466123580933,15.05595588684082,9.997128009796143,10.372265338897705,14.939024686813354,13.533078908920288,9.99620771408081,15.0813889503479,15.18650484085083,14.87866997718811,15.16798710823059,15.003167867660522,14.037560939788818,10.2467041015625,15.042036771774292,15.252007007598877,17.397703170776367,10.040987014770508,15.116082906723022,10.292248010635376,15.214356899261475,10.190784931182861,15.185758829116821,10.060501098632812,9.994627952575684,18.18187379837036,15.032050848007202,10.212507009506226,15.283413887023926,15.295047998428345,15.22853398323059,15.195805788040161,15.031807899475098,15.087979793548584,15.096086025238037,10.165482997894287,15.117922067642212,10.09402322769165,15.20515513420105,14.993623971939087,15.008226156234741,15.142174005508423,10.006006956100464,10.17566204071045,15.016543865203857,10.242207050323486,15.072994709014893,15.120314121246338,15.714240074157715,10.014149904251099,15.056591272354126,15.296289205551147,15.087036848068237,10.247858047485352,10.193196773529053,15.012659788131714,10.518321752548218,15.107832193374634,15.233259916305542,10.171066045761108,15.05662989616394,15.147210121154785,15.170183897018433,15.038485050201416,15.130362033843994,10.040860891342163,15.185113191604614,15.143966913223267,15.04650616645813,15.064537048339844,10.061865091323853,15.042614936828613,10.465705871582031],\"type\":\"scatter\"},{\"mode\":\"lines\",\"name\":\"xethub git\",\"x\":[0,1,2,3,4,5,6,7,8,9,10,11,12,13,14,15,16,17,18,19,20,21,22,23,24,25,26,27,28,29,30,31,32,33,34,35,36,37,38,39,40,41,42,43,44,45,46,47,48,49,50,51,52,53,54,55,56,57,58,59,60,61,62,63,64,65,66,67,68,69,70,71,72,73,74,75,76,77,78,79,80,81,82,83,84,85,86,87,88,89,90,91,92,93,94,95,96,97,98,99],\"y\":[2.6494319438934326,1.7283270359039307,1.8239867687225342,1.8059358596801758,1.9022479057312012,1.8555667400360107,1.6367411613464355,1.5016379356384277,1.7318930625915527,1.7962408065795898,1.5164849758148193,1.7898790836334229,1.6953480243682861,2.051710367202759,1.7598850727081299,1.6148221492767334,1.7376329898834229,1.7563021183013916,1.5902278423309326,1.6673238277435303,1.6937928199768066,1.5517568588256836,1.6501350402832031,1.5772607326507568,1.646238088607788,1.574772834777832,1.5332767963409424,1.5081019401550293,1.4790611267089844,1.7123827934265137,1.7680583000183105,1.5344891548156738,1.6067967414855957,1.5737853050231934,1.478320837020874,1.6146278381347656,1.6928870677947998,1.634124994277954,1.5108921527862549,1.3990800380706787,1.5352771282196045,1.5191519260406494,1.5570240020751953,1.6351840496063232,1.4954960346221924,1.4650599956512451,1.510868787765503,1.4965870380401611,1.5218749046325684,1.4892747402191162,1.5585241317749023,1.4285268783569336,1.5929861068725586,1.7081410884857178,1.558967113494873,1.4820537567138672,1.638559103012085,1.593770980834961,1.6358668804168701,1.5317230224609375,1.6152279376983643,1.8111717700958252,1.5317142009735107,1.6694068908691406,1.5318260192871094,1.5677108764648438,1.5222866535186768,1.5006351470947266,1.6187219619750977,1.5796701908111572,1.5380778312683105,1.5598328113555908,1.5963270664215088,1.453099012374878,1.714332103729248,1.6537621021270752,1.518002986907959,1.5657639503479004,1.6133818626403809,1.5480618476867676,1.572824239730835,1.5267260074615479,1.5137081146240234,1.4803600311279297,1.5424208641052246,1.4722182750701904,1.5824260711669922,1.5154569149017334,1.4641919136047363,1.5529577732086182,1.5162549018859863,1.6058239936828613,1.743894100189209,1.6006598472595215,1.7392919063568115,1.5643670558929443,1.4377007484436035,1.5359177589416504,1.6657190322875977,1.6948449611663818],\"type\":\"scatter\"},{\"mode\":\"lines\",\"name\":\"xethub py\",\"x\":[0,1,2,3,4,5,6,7,8,9,10,11,12,13,14,15,16,17,18,19,20,21,22,23,24,25,26,27,28,29,30,31,32,33,34,35,36,37,38,39,40,41,42,43,44,45,46,47,48,49,50,51,52,53,54,55,56,57,58,59,60,61,62,63,64,65,66,67,68,69,70,71,72,73,74,75,76,77,78,79,80,81,82,83,84,85,86,87,88,89,90,91,92,93,94,95,96,97,98,99],\"y\":[18.57864809036255,36.0614538192749,29.069940090179443,35.970776081085205,22.384006023406982,19.067074060440063,31.365944147109985,26.99503469467163,17.00453209877014,32.82517695426941,32.892192125320435,27.37399196624756,30.469725131988525,36.064399003982544,27.69285798072815,20.262083053588867,32.450413942337036,20.506500959396362,18.07471799850464,18.423486948013306,22.973603010177612,16.598618984222412,27.98858118057251,25.33456516265869,30.04510807991028,27.177008867263794,26.291771173477173,21.818383932113647,29.309115886688232,23.994710683822632,21.8968448638916,35.06111478805542,32.693827867507935,17.58804488182068,31.43116521835327,18.950154066085815,33.46255421638489,28.198372840881348,17.630654096603394,22.05754518508911,21.409032106399536,19.59988522529602,35.30886793136597,36.60612201690674,27.958027124404907,33.53053379058838,27.709105968475342,28.488938093185425,29.139576196670532,33.55355191230774,28.229208946228027,19.19150686264038,32.21133899688721,21.869973182678223,17.863173246383667,26.530757904052734,23.518107175827026,35.83711624145508,33.33923077583313,23.195199966430664,31.7832989692688,20.75685405731201,37.39417791366577,33.52323389053345,23.687280893325806,18.86711287498474,33.929463148117065,35.46759223937988,29.323512077331543,32.504432916641235,32.087717056274414,31.359392166137695,17.23599934577942,22.97852110862732,38.54466104507446,24.708793878555298,31.19249391555786,20.76335906982422,26.107553005218506,31.65772318840027,34.1817889213562,35.42695593833923,37.808764934539795,34.09654688835144,30.56501293182373,34.45527911186218,32.59217166900635,37.174967765808105,25.3554949760437,28.023264169692993,25.374030113220215,30.455872058868408,16.54040002822876,33.05821990966797,17.785260915756226,29.198559045791626,31.67383599281311,19.628844022750854,34.65671396255493,22.54950785636902],\"type\":\"scatter\"}],                        {\"template\":{\"data\":{\"histogram2dcontour\":[{\"type\":\"histogram2dcontour\",\"colorbar\":{\"outlinewidth\":0,\"ticks\":\"\"},\"colorscale\":[[0.0,\"#0d0887\"],[0.1111111111111111,\"#46039f\"],[0.2222222222222222,\"#7201a8\"],[0.3333333333333333,\"#9c179e\"],[0.4444444444444444,\"#bd3786\"],[0.5555555555555556,\"#d8576b\"],[0.6666666666666666,\"#ed7953\"],[0.7777777777777778,\"#fb9f3a\"],[0.8888888888888888,\"#fdca26\"],[1.0,\"#f0f921\"]]}],\"choropleth\":[{\"type\":\"choropleth\",\"colorbar\":{\"outlinewidth\":0,\"ticks\":\"\"}}],\"histogram2d\":[{\"type\":\"histogram2d\",\"colorbar\":{\"outlinewidth\":0,\"ticks\":\"\"},\"colorscale\":[[0.0,\"#0d0887\"],[0.1111111111111111,\"#46039f\"],[0.2222222222222222,\"#7201a8\"],[0.3333333333333333,\"#9c179e\"],[0.4444444444444444,\"#bd3786\"],[0.5555555555555556,\"#d8576b\"],[0.6666666666666666,\"#ed7953\"],[0.7777777777777778,\"#fb9f3a\"],[0.8888888888888888,\"#fdca26\"],[1.0,\"#f0f921\"]]}],\"heatmap\":[{\"type\":\"heatmap\",\"colorbar\":{\"outlinewidth\":0,\"ticks\":\"\"},\"colorscale\":[[0.0,\"#0d0887\"],[0.1111111111111111,\"#46039f\"],[0.2222222222222222,\"#7201a8\"],[0.3333333333333333,\"#9c179e\"],[0.4444444444444444,\"#bd3786\"],[0.5555555555555556,\"#d8576b\"],[0.6666666666666666,\"#ed7953\"],[0.7777777777777778,\"#fb9f3a\"],[0.8888888888888888,\"#fdca26\"],[1.0,\"#f0f921\"]]}],\"heatmapgl\":[{\"type\":\"heatmapgl\",\"colorbar\":{\"outlinewidth\":0,\"ticks\":\"\"},\"colorscale\":[[0.0,\"#0d0887\"],[0.1111111111111111,\"#46039f\"],[0.2222222222222222,\"#7201a8\"],[0.3333333333333333,\"#9c179e\"],[0.4444444444444444,\"#bd3786\"],[0.5555555555555556,\"#d8576b\"],[0.6666666666666666,\"#ed7953\"],[0.7777777777777778,\"#fb9f3a\"],[0.8888888888888888,\"#fdca26\"],[1.0,\"#f0f921\"]]}],\"contourcarpet\":[{\"type\":\"contourcarpet\",\"colorbar\":{\"outlinewidth\":0,\"ticks\":\"\"}}],\"contour\":[{\"type\":\"contour\",\"colorbar\":{\"outlinewidth\":0,\"ticks\":\"\"},\"colorscale\":[[0.0,\"#0d0887\"],[0.1111111111111111,\"#46039f\"],[0.2222222222222222,\"#7201a8\"],[0.3333333333333333,\"#9c179e\"],[0.4444444444444444,\"#bd3786\"],[0.5555555555555556,\"#d8576b\"],[0.6666666666666666,\"#ed7953\"],[0.7777777777777778,\"#fb9f3a\"],[0.8888888888888888,\"#fdca26\"],[1.0,\"#f0f921\"]]}],\"surface\":[{\"type\":\"surface\",\"colorbar\":{\"outlinewidth\":0,\"ticks\":\"\"},\"colorscale\":[[0.0,\"#0d0887\"],[0.1111111111111111,\"#46039f\"],[0.2222222222222222,\"#7201a8\"],[0.3333333333333333,\"#9c179e\"],[0.4444444444444444,\"#bd3786\"],[0.5555555555555556,\"#d8576b\"],[0.6666666666666666,\"#ed7953\"],[0.7777777777777778,\"#fb9f3a\"],[0.8888888888888888,\"#fdca26\"],[1.0,\"#f0f921\"]]}],\"mesh3d\":[{\"type\":\"mesh3d\",\"colorbar\":{\"outlinewidth\":0,\"ticks\":\"\"}}],\"scatter\":[{\"fillpattern\":{\"fillmode\":\"overlay\",\"size\":10,\"solidity\":0.2},\"type\":\"scatter\"}],\"parcoords\":[{\"type\":\"parcoords\",\"line\":{\"colorbar\":{\"outlinewidth\":0,\"ticks\":\"\"}}}],\"scatterpolargl\":[{\"type\":\"scatterpolargl\",\"marker\":{\"colorbar\":{\"outlinewidth\":0,\"ticks\":\"\"}}}],\"bar\":[{\"error_x\":{\"color\":\"#2a3f5f\"},\"error_y\":{\"color\":\"#2a3f5f\"},\"marker\":{\"line\":{\"color\":\"#E5ECF6\",\"width\":0.5},\"pattern\":{\"fillmode\":\"overlay\",\"size\":10,\"solidity\":0.2}},\"type\":\"bar\"}],\"scattergeo\":[{\"type\":\"scattergeo\",\"marker\":{\"colorbar\":{\"outlinewidth\":0,\"ticks\":\"\"}}}],\"scatterpolar\":[{\"type\":\"scatterpolar\",\"marker\":{\"colorbar\":{\"outlinewidth\":0,\"ticks\":\"\"}}}],\"histogram\":[{\"marker\":{\"pattern\":{\"fillmode\":\"overlay\",\"size\":10,\"solidity\":0.2}},\"type\":\"histogram\"}],\"scattergl\":[{\"type\":\"scattergl\",\"marker\":{\"colorbar\":{\"outlinewidth\":0,\"ticks\":\"\"}}}],\"scatter3d\":[{\"type\":\"scatter3d\",\"line\":{\"colorbar\":{\"outlinewidth\":0,\"ticks\":\"\"}},\"marker\":{\"colorbar\":{\"outlinewidth\":0,\"ticks\":\"\"}}}],\"scattermapbox\":[{\"type\":\"scattermapbox\",\"marker\":{\"colorbar\":{\"outlinewidth\":0,\"ticks\":\"\"}}}],\"scatterternary\":[{\"type\":\"scatterternary\",\"marker\":{\"colorbar\":{\"outlinewidth\":0,\"ticks\":\"\"}}}],\"scattercarpet\":[{\"type\":\"scattercarpet\",\"marker\":{\"colorbar\":{\"outlinewidth\":0,\"ticks\":\"\"}}}],\"carpet\":[{\"aaxis\":{\"endlinecolor\":\"#2a3f5f\",\"gridcolor\":\"white\",\"linecolor\":\"white\",\"minorgridcolor\":\"white\",\"startlinecolor\":\"#2a3f5f\"},\"baxis\":{\"endlinecolor\":\"#2a3f5f\",\"gridcolor\":\"white\",\"linecolor\":\"white\",\"minorgridcolor\":\"white\",\"startlinecolor\":\"#2a3f5f\"},\"type\":\"carpet\"}],\"table\":[{\"cells\":{\"fill\":{\"color\":\"#EBF0F8\"},\"line\":{\"color\":\"white\"}},\"header\":{\"fill\":{\"color\":\"#C8D4E3\"},\"line\":{\"color\":\"white\"}},\"type\":\"table\"}],\"barpolar\":[{\"marker\":{\"line\":{\"color\":\"#E5ECF6\",\"width\":0.5},\"pattern\":{\"fillmode\":\"overlay\",\"size\":10,\"solidity\":0.2}},\"type\":\"barpolar\"}],\"pie\":[{\"automargin\":true,\"type\":\"pie\"}]},\"layout\":{\"autotypenumbers\":\"strict\",\"colorway\":[\"#636efa\",\"#EF553B\",\"#00cc96\",\"#ab63fa\",\"#FFA15A\",\"#19d3f3\",\"#FF6692\",\"#B6E880\",\"#FF97FF\",\"#FECB52\"],\"font\":{\"color\":\"#2a3f5f\"},\"hovermode\":\"closest\",\"hoverlabel\":{\"align\":\"left\"},\"paper_bgcolor\":\"white\",\"plot_bgcolor\":\"#E5ECF6\",\"polar\":{\"bgcolor\":\"#E5ECF6\",\"angularaxis\":{\"gridcolor\":\"white\",\"linecolor\":\"white\",\"ticks\":\"\"},\"radialaxis\":{\"gridcolor\":\"white\",\"linecolor\":\"white\",\"ticks\":\"\"}},\"ternary\":{\"bgcolor\":\"#E5ECF6\",\"aaxis\":{\"gridcolor\":\"white\",\"linecolor\":\"white\",\"ticks\":\"\"},\"baxis\":{\"gridcolor\":\"white\",\"linecolor\":\"white\",\"ticks\":\"\"},\"caxis\":{\"gridcolor\":\"white\",\"linecolor\":\"white\",\"ticks\":\"\"}},\"coloraxis\":{\"colorbar\":{\"outlinewidth\":0,\"ticks\":\"\"}},\"colorscale\":{\"sequential\":[[0.0,\"#0d0887\"],[0.1111111111111111,\"#46039f\"],[0.2222222222222222,\"#7201a8\"],[0.3333333333333333,\"#9c179e\"],[0.4444444444444444,\"#bd3786\"],[0.5555555555555556,\"#d8576b\"],[0.6666666666666666,\"#ed7953\"],[0.7777777777777778,\"#fb9f3a\"],[0.8888888888888888,\"#fdca26\"],[1.0,\"#f0f921\"]],\"sequentialminus\":[[0.0,\"#0d0887\"],[0.1111111111111111,\"#46039f\"],[0.2222222222222222,\"#7201a8\"],[0.3333333333333333,\"#9c179e\"],[0.4444444444444444,\"#bd3786\"],[0.5555555555555556,\"#d8576b\"],[0.6666666666666666,\"#ed7953\"],[0.7777777777777778,\"#fb9f3a\"],[0.8888888888888888,\"#fdca26\"],[1.0,\"#f0f921\"]],\"diverging\":[[0,\"#8e0152\"],[0.1,\"#c51b7d\"],[0.2,\"#de77ae\"],[0.3,\"#f1b6da\"],[0.4,\"#fde0ef\"],[0.5,\"#f7f7f7\"],[0.6,\"#e6f5d0\"],[0.7,\"#b8e186\"],[0.8,\"#7fbc41\"],[0.9,\"#4d9221\"],[1,\"#276419\"]]},\"xaxis\":{\"gridcolor\":\"white\",\"linecolor\":\"white\",\"ticks\":\"\",\"title\":{\"standoff\":15},\"zerolinecolor\":\"white\",\"automargin\":true,\"zerolinewidth\":2},\"yaxis\":{\"gridcolor\":\"white\",\"linecolor\":\"white\",\"ticks\":\"\",\"title\":{\"standoff\":15},\"zerolinecolor\":\"white\",\"automargin\":true,\"zerolinewidth\":2},\"scene\":{\"xaxis\":{\"backgroundcolor\":\"#E5ECF6\",\"gridcolor\":\"white\",\"linecolor\":\"white\",\"showbackground\":true,\"ticks\":\"\",\"zerolinecolor\":\"white\",\"gridwidth\":2},\"yaxis\":{\"backgroundcolor\":\"#E5ECF6\",\"gridcolor\":\"white\",\"linecolor\":\"white\",\"showbackground\":true,\"ticks\":\"\",\"zerolinecolor\":\"white\",\"gridwidth\":2},\"zaxis\":{\"backgroundcolor\":\"#E5ECF6\",\"gridcolor\":\"white\",\"linecolor\":\"white\",\"showbackground\":true,\"ticks\":\"\",\"zerolinecolor\":\"white\",\"gridwidth\":2}},\"shapedefaults\":{\"line\":{\"color\":\"#2a3f5f\"}},\"annotationdefaults\":{\"arrowcolor\":\"#2a3f5f\",\"arrowhead\":0,\"arrowwidth\":1},\"geo\":{\"bgcolor\":\"white\",\"landcolor\":\"#E5ECF6\",\"subunitcolor\":\"white\",\"showland\":true,\"showlakes\":true,\"lakecolor\":\"white\"},\"title\":{\"x\":0.05},\"mapbox\":{\"style\":\"light\"}}},\"xaxis\":{\"title\":{\"text\":\"Step\"}},\"yaxis\":{\"title\":{\"text\":\"Time\"}}},                        {\"responsive\": true}                    ).then(function(){\n",
       "                            \n",
       "var gd = document.getElementById('20c15437-8133-40b9-a31d-f2b3ae6f6ce3');\n",
       "var x = new MutationObserver(function (mutations, observer) {{\n",
       "        var display = window.getComputedStyle(gd).display;\n",
       "        if (!display || display === 'none') {{\n",
       "            console.log([gd, 'removed!']);\n",
       "            Plotly.purge(gd);\n",
       "            observer.disconnect();\n",
       "        }}\n",
       "}});\n",
       "\n",
       "// Listen for the removal of the full notebook cells\n",
       "var notebookContainer = gd.closest('#notebook-container');\n",
       "if (notebookContainer) {{\n",
       "    x.observe(notebookContainer, {childList: true});\n",
       "}}\n",
       "\n",
       "// Listen for the clearing of the current output cell\n",
       "var outputEl = gd.closest('.output');\n",
       "if (outputEl) {{\n",
       "    x.observe(outputEl, {childList: true});\n",
       "}}\n",
       "\n",
       "                        })                };                });            </script>        </div>"
      ]
     },
     "metadata": {},
     "output_type": "display_data"
    },
    {
     "data": {
      "application/vnd.plotly.v1+json": {
       "config": {
        "plotlyServerURL": "https://plot.ly"
       },
       "data": [
        {
         "hovertemplate": "tech=xethub<br>step=%{x}<br>tech_cumulative_time=%{y}<extra></extra>",
         "legendgroup": "xethub",
         "line": {
          "color": "#636efa",
          "dash": "solid"
         },
         "marker": {
          "symbol": "circle"
         },
         "mode": "lines",
         "name": "xethub",
         "orientation": "v",
         "showlegend": true,
         "type": "scatter",
         "x": [
          0,
          0,
          1,
          1,
          2,
          2,
          3,
          3,
          4,
          4,
          5,
          5,
          6,
          6,
          7,
          7,
          8,
          8,
          9,
          9,
          10,
          10,
          11,
          11,
          12,
          12,
          13,
          13,
          14,
          14,
          15,
          15,
          16,
          16,
          17,
          17,
          18,
          18,
          19,
          19,
          20,
          20,
          21,
          21,
          22,
          22,
          23,
          23,
          24,
          24,
          25,
          25,
          26,
          26,
          27,
          27,
          28,
          28,
          29,
          29,
          30,
          30,
          31,
          31,
          32,
          32,
          33,
          33,
          34,
          34,
          35,
          35,
          36,
          36,
          37,
          37,
          38,
          38,
          39,
          39,
          40,
          40,
          41,
          41,
          42,
          42,
          43,
          43,
          44,
          44,
          45,
          45,
          46,
          46,
          47,
          47,
          48,
          48,
          49,
          49,
          50,
          50,
          51,
          51,
          52,
          52,
          53,
          53,
          54,
          54,
          55,
          55,
          56,
          56,
          57,
          57,
          58,
          58,
          59,
          59,
          60,
          60,
          61,
          61,
          62,
          62,
          63,
          63,
          64,
          64,
          65,
          65,
          66,
          66,
          67,
          67,
          68,
          68,
          69,
          69,
          70,
          70,
          71,
          71,
          72,
          72,
          73,
          73,
          74,
          74,
          75,
          75,
          76,
          76,
          77,
          77,
          78,
          78,
          79,
          79,
          80,
          80,
          81,
          81,
          82,
          82,
          83,
          83,
          84,
          84,
          85,
          85,
          86,
          86,
          87,
          87,
          88,
          88,
          89,
          89,
          90,
          90,
          91,
          91,
          92,
          92,
          93,
          93,
          94,
          94,
          95,
          95,
          96,
          96,
          97,
          97,
          98,
          98,
          99,
          99
         ],
         "xaxis": "x",
         "y": [
          2.6494319438934326,
          21.22808003425598,
          22.956407070159912,
          59.017860889434814,
          60.84184765815735,
          89.91178774833679,
          91.71772360801697,
          127.68849968910217,
          129.59074759483337,
          151.97475361824036,
          153.83032035827637,
          172.89739441871643,
          174.53413558006287,
          205.90007972717285,
          207.40171766281128,
          234.3967523574829,
          236.12864542007446,
          253.1331775188446,
          254.9294183254242,
          287.7545952796936,
          289.2710802555084,
          322.16327238082886,
          323.9531514644623,
          351.32714343070984,
          353.0224914550781,
          383.49221658706665,
          385.5439269542694,
          421.60832595825195,
          423.3682110309601,
          451.06106901168823,
          452.67589116096497,
          472.93797421455383,
          474.67560720443726,
          507.1260211467743,
          508.8823232650757,
          529.388824224472,
          530.979052066803,
          549.0537700653076,
          550.7210938930511,
          569.1445808410645,
          570.8383736610413,
          593.8119766712189,
          595.3637335300446,
          611.962352514267,
          613.6124875545502,
          641.6010687351227,
          643.1783294677734,
          668.5128946304321,
          670.1591327190399,
          700.2042407989502,
          701.779013633728,
          728.9560225009918,
          730.4892992973328,
          756.7810704708099,
          758.289172410965,
          780.1075563430786,
          781.5866174697876,
          810.8957333564758,
          812.6081161499023,
          836.602826833725,
          838.3708851337433,
          860.2677299976349,
          861.8022191524506,
          896.863333940506,
          898.4701306819916,
          931.1639585494995,
          932.7377438545227,
          950.3257887363434,
          951.8041095733643,
          983.2352747917175,
          984.8499026298523,
          1003.8000566959381,
          1005.4929437637329,
          1038.9554979801178,
          1040.5896229743958,
          1068.787995815277,
          1070.2988879680634,
          1087.9295420646667,
          1089.3286221027374,
          1111.3861672878265,
          1112.9214444160461,
          1134.3304765224457,
          1135.8496284484863,
          1155.4495136737823,
          1157.0065376758575,
          1192.3154056072235,
          1193.9505896568298,
          1230.5567116737366,
          1232.0522077083588,
          1260.0102348327637,
          1261.475294828415,
          1295.0058286190033,
          1296.5166974067688,
          1324.2258033752441,
          1325.7223904132843,
          1354.2113285064697,
          1355.7332034111023,
          1384.8727796077728,
          1386.362054347992,
          1419.9156062602997,
          1421.4741303920746,
          1449.7033393383026,
          1451.1318662166595,
          1470.3233730793,
          1471.9163591861725,
          1504.1276981830597,
          1505.8358392715454,
          1527.7058124542236,
          1529.2647795677185,
          1547.1279528141022,
          1548.610006570816,
          1575.1407644748688,
          1576.7793235778809,
          1600.2974307537079,
          1601.8912017345428,
          1637.728317975998,
          1639.3641848564148,
          1672.703415632248,
          1674.2351386547089,
          1697.4303386211395,
          1699.045566558838,
          1730.8288655281067,
          1732.6400372982025,
          1753.3968913555145,
          1754.928605556488,
          1792.3227834701538,
          1793.992190361023,
          1827.5154242515564,
          1829.0472502708435,
          1852.7345311641693,
          1854.3022420406342,
          1873.169354915619,
          1874.6916415691376,
          1908.6211047172546,
          1910.1217398643494,
          1945.5893321037292,
          1947.2080540657043,
          1976.531566143036,
          1978.111236333847,
          2010.6156692504883,
          2012.1537470817566,
          2044.241464138031,
          2045.8012969493866,
          2077.1606891155243,
          2078.757016181946,
          2095.993015527725,
          2097.4461145401,
          2120.4246356487274,
          2122.1389677524567,
          2160.683628797531,
          2162.337390899658,
          2187.0461847782135,
          2188.5641877651215,
          2219.7566816806793,
          2221.322445631027,
          2242.0858047008514,
          2243.699186563492,
          2269.8067395687103,
          2271.354801416397,
          2303.0125246047974,
          2304.585348844528,
          2338.7671377658844,
          2340.293863773346,
          2375.720819711685,
          2377.234527826309,
          2415.043292760849,
          2416.523652791977,
          2450.6201996803284,
          2452.1626205444336,
          2482.7276334762573,
          2484.1998517513275,
          2518.6551308631897,
          2520.2375569343567,
          2552.829728603363,
          2554.3451855182648,
          2591.520153284073,
          2592.9843451976776,
          2618.3398401737213,
          2619.89279794693,
          2647.916062116623,
          2649.432317018509,
          2674.806347131729,
          2676.412171125412,
          2706.8680431842804,
          2708.6119372844696,
          2725.1523373126984,
          2726.752997159958,
          2759.811217069626,
          2761.5505089759827,
          2779.335769891739,
          2780.900136947632,
          2810.0986959934235,
          2811.536396741867,
          2843.21023273468,
          2844.746150493622,
          2864.3749945163727,
          2866.0407135486603,
          2900.697427511215,
          2902.3922724723816,
          2924.9417803287506
         ],
         "yaxis": "y"
        },
        {
         "hovertemplate": "tech=dvc<br>step=%{x}<br>tech_cumulative_time=%{y}<extra></extra>",
         "legendgroup": "dvc",
         "line": {
          "color": "#EF553B",
          "dash": "solid"
         },
         "marker": {
          "symbol": "circle"
         },
         "mode": "lines",
         "name": "dvc",
         "orientation": "v",
         "showlegend": true,
         "type": "scatter",
         "x": [
          0,
          1,
          2,
          3,
          4,
          5,
          6,
          7,
          8,
          9,
          10,
          11,
          12,
          13,
          14,
          15,
          16,
          17,
          18,
          19,
          20,
          21,
          22,
          23,
          24,
          25,
          26,
          27,
          28,
          29,
          30,
          31,
          32,
          33,
          34,
          35,
          36,
          37,
          38,
          39,
          40,
          41,
          42,
          43,
          44,
          45,
          46,
          47,
          48,
          49,
          50,
          51,
          52,
          53,
          54,
          55,
          56,
          57,
          58,
          59,
          60,
          61,
          62,
          63,
          64,
          65,
          66,
          67,
          68,
          69,
          70,
          71,
          72,
          73,
          74,
          75,
          76,
          77,
          78,
          79,
          80,
          81,
          82,
          83,
          84,
          85,
          86,
          87,
          88,
          89,
          90,
          91,
          92,
          93,
          94,
          95,
          96,
          97,
          98,
          99
         ],
         "xaxis": "x",
         "y": [
          26.281028747558594,
          52.74557590484619,
          79.14322471618652,
          104.76878476142883,
          130.66181993484497,
          156.60199785232544,
          171.11766386032104,
          197.08784866333008,
          211.66553735733032,
          237.37751126289368,
          263.2704961299896,
          287.0135660171509,
          301.57090616226196,
          327.6714029312134,
          357.07118797302246,
          382.8851978778839,
          407.03753209114075,
          431.03859281539917,
          456.9270739555359,
          482.7228310108185,
          508.76338505744934,
          534.65886926651,
          563.0256114006042,
          588.6557731628418,
          603.0016272068024,
          628.6386470794678,
          654.1352620124817,
          679.44238114357,
          704.9293711185455,
          729.0498661994934,
          761.591863155365,
          776.2924273014069,
          802.2277002334595,
          826.3550324440002,
          852.462161064148,
          878.592579126358,
          904.5185804367065,
          930.393351316452,
          956.319776058197,
          970.7203159332275,
          996.1316750049591,
          1010.5564687252045,
          1024.7701888084412,
          1064.7428648471832,
          1090.442442893982,
          1104.690850019455,
          1130.267729997635,
          1144.7245790958405,
          1170.6111900806427,
          1185.2173800468445,
          1209.071329832077,
          1242.6283888816833,
          1257.098098039627,
          1287.722608089447,
          1311.318792104721,
          1336.6993403434753,
          1351.423199415207,
          1366.014980316162,
          1381.0462093353271,
          1404.811327457428,
          1428.6762325763702,
          1443.0547213554382,
          1466.9426183700562,
          1493.0752172470093,
          1518.9296712875366,
          1544.8815002441406,
          1570.5332903862,
          1596.0410385131836,
          1622.1316583156586,
          1636.6057493686676,
          1662.4959964752197,
          1687.9837174415588,
          1702.0845804214478,
          1727.8366134166718,
          1753.4645433425903,
          1779.0934991836548,
          1802.933913230896,
          1828.8807232379913,
          1854.395679950714,
          1869.2166798114777,
          1883.8340487480164,
          1898.648768901825,
          1924.53884100914,
          1948.5105240345001,
          1962.984354019165,
          1987.0022900104523,
          2011.004812002182,
          2036.9666862487793,
          2062.6330263614655,
          2077.365844488144,
          2092.7383937835693,
          2118.670120716095,
          2133.094749689102,
          2148.120272874832,
          2162.853167772293,
          2177.3942646980286,
          2202.910790681839,
          2228.772880554199,
          2254.6407096385956,
          2269.407623767853
         ],
         "yaxis": "y"
        },
        {
         "hovertemplate": "tech=lfs<br>step=%{x}<br>tech_cumulative_time=%{y}<extra></extra>",
         "legendgroup": "lfs",
         "line": {
          "color": "#00cc96",
          "dash": "solid"
         },
         "marker": {
          "symbol": "circle"
         },
         "mode": "lines",
         "name": "lfs",
         "orientation": "v",
         "showlegend": true,
         "type": "scatter",
         "x": [
          0,
          0,
          1,
          1,
          2,
          2,
          3,
          3,
          4,
          4,
          5,
          5,
          6,
          6,
          7,
          7,
          8,
          8,
          9,
          9,
          10,
          10,
          11,
          11,
          12,
          12,
          13,
          13,
          14,
          14,
          15,
          15,
          16,
          16,
          17,
          17,
          18,
          18,
          19,
          19,
          20,
          20,
          21,
          21,
          22,
          22,
          23,
          23,
          24,
          24,
          25,
          25,
          26,
          26,
          27,
          27,
          28,
          28,
          29,
          29,
          30,
          30,
          31,
          31,
          32,
          32,
          33,
          33,
          34,
          34,
          35,
          35,
          36,
          36,
          37,
          37,
          38,
          38,
          39,
          39,
          40,
          40,
          41,
          41,
          42,
          42,
          43,
          43,
          44,
          44,
          45,
          45,
          46,
          46,
          47,
          47,
          48,
          48,
          49,
          49,
          50,
          50,
          51,
          51,
          52,
          52,
          53,
          53,
          54,
          54,
          55,
          55,
          56,
          56,
          57,
          57,
          58,
          58,
          59,
          59,
          60,
          60,
          61,
          61,
          62,
          62,
          63,
          63,
          64,
          64,
          65,
          65,
          66,
          66,
          67,
          67,
          68,
          68,
          69,
          69,
          70,
          70,
          71,
          71,
          72,
          72,
          73,
          73,
          74,
          74,
          75,
          75,
          76,
          76,
          77,
          77,
          78,
          78,
          79,
          79,
          80,
          80,
          81,
          81,
          82,
          82,
          83,
          83,
          84,
          84,
          85,
          85,
          86,
          86,
          87,
          87,
          88,
          88,
          89,
          89,
          90,
          90,
          91,
          91,
          92,
          92,
          93,
          93,
          94,
          94,
          95,
          95,
          96,
          96,
          97,
          97,
          98,
          98,
          99,
          99
         ],
         "xaxis": "x",
         "y": [
          4.39343786239624,
          8.1198410987854,
          32.51908802986145,
          44.212238788604736,
          66.73252367973328,
          78.43455672264099,
          102.49896574020386,
          134.26835989952087,
          158.25379371643066,
          180.118572473526,
          204.06033849716187,
          215.72949647903442,
          239.79594945907593,
          261.6431677341461,
          283.9757809638977,
          295.8288457393646,
          319.7585666179657,
          331.7755696773529,
          355.8620023727417,
          367.5174903869629,
          391.49833154678345,
          412.83478140830994,
          435.4583795070648,
          457.3541965484619,
          479.6155354976654,
          491.2582724094391,
          515.491895198822,
          537.3370933532715,
          561.1570384502411,
          582.8387434482574,
          605.4889776706696,
          627.2294569015503,
          651.0133929252625,
          673.1174578666687,
          697.0091609954834,
          719.7582280635834,
          751.026230096817,
          772.4995622634888,
          796.0915582180023,
          807.7582502365112,
          832.6784434318542,
          854.7182965278625,
          879.004560470581,
          900.7923874855042,
          924.5788223743439,
          936.2592234611511,
          958.2205631732941,
          980.3510270118713,
          1004.0759460926056,
          1026.0775320529938,
          1048.5515310764313,
          1060.1258192062378,
          1073.7572102546692,
          1095.2349271774292,
          1119.1788272857666,
          1141.3020422458649,
          1163.6209073066711,
          1185.5375745296478,
          1209.299908399582,
          1220.7594962120056,
          1244.7421810626984,
          1256.2992250919342,
          1280.3396439552307,
          1302.2257840633392,
          1326.382411956787,
          1347.8374297618866,
          1370.1112778186798,
          1391.7689599990845,
          1414.2167859077454,
          1436.0979719161987,
          1459.699490070343,
          1527.3803091049194,
          1549.8862552642822,
          1572.254198551178,
          1602.041475534439,
          1623.9643216133118,
          1648.0095596313477,
          1670.005111694336,
          1693.7034046649933,
          1715.1718327999115,
          1738.6835877895355,
          1760.320515871048,
          1784.2043778896332,
          1806.033933877945,
          1819.7296559810638,
          1831.2530498504639,
          1854.1336669921875,
          1876.119311094284,
          1899.8318312168121,
          1921.4196555614471,
          1945.3644351959229,
          1966.4052011966705,
          1990.394103050232,
          2012.0929980278015,
          2042.7720692157745,
          2065.2905724048615,
          2089.1862325668335,
          2100.8265936374664,
          2124.7110295295715,
          2136.6933364868164,
          2159.1832525730133,
          2170.606036424637,
          2194.6709105968475,
          2206.2363917827606,
          2228.6050250530243,
          2250.333363056183,
          2274.201274871826,
          2296.3520727157593,
          2309.859684944153,
          2331.2139689922333,
          2354.9631378650665,
          2375.73016166687,
          2399.5048019886017,
          2411.0885989665985,
          2436.463888645172,
          2458.275456905365,
          2482.208551645279,
          2503.1621165275574,
          2517.3967595100403,
          2539.448961496353,
          2561.79421377182,
          2573.222069501877,
          2597.3047003746033,
          2619.2102115154266,
          2642.9708063602448,
          2665.7713391780853,
          2697.07675409317,
          2718.87597823143,
          2743.2172803878784,
          2755.316327571869,
          2777.699010848999,
          2789.158262729645,
          2813.2303726673126,
          2824.8397345542908,
          2848.7352106571198,
          2860.4472975730896,
          2882.722402572632,
          2894.189372777939,
          2917.8066968917847,
          2929.6766369342804,
          2953.4252631664276,
          2975.5561039447784,
          2999.4224479198456,
          3011.2150390148163,
          3036.582756280899,
          3048.045500278473,
          3072.1352005004883,
          3083.6223635673523,
          3105.8063566684723,
          3127.5147438049316,
          3161.470955848694,
          3183.1132979393005,
          3205.5796880722046,
          3227.5878343582153,
          3260.122480392456,
          3282.154679298401,
          3304.453285217285,
          3316.089371204376,
          3344.0674591064453,
          3365.7029252052307,
          3389.5593621730804,
          3411.245113134384,
          3435.0500228405,
          3457.6945898532867,
          3481.3082349300385,
          3492.8050339221954,
          3517.5755507946014,
          3529.3596320152283,
          3551.5691690444946,
          3573.3200380802155,
          3595.664246082306,
          3617.4769501686096,
          3641.53444814682,
          3663.4691421985626,
          3687.291204929352,
          3709.356653213501,
          3732.081784248352,
          3753.8971853256226,
          3777.7994043827057,
          3799.267211675644,
          3822.987300634384,
          3844.4350893497467,
          3866.834517478943,
          3878.697861433029,
          3903.833790540695,
          3915.3363513946533,
          3929.939357280731,
          3951.0069739818573,
          3975.026878118515,
          3986.7113349437714,
          4011.8051369190216,
          4033.4050068855286,
          4057.392054080963,
          4079.006518125534,
          4101.046258926392,
          4122.876566648483,
          4146.950186014175,
          4168.890496015549,
          4192.831583023071,
          4214.759924888611
         ],
         "yaxis": "y"
        },
        {
         "hovertemplate": "tech=s3<br>step=%{x}<br>tech_cumulative_time=%{y}<extra></extra>",
         "legendgroup": "s3",
         "line": {
          "color": "#ab63fa",
          "dash": "solid"
         },
         "marker": {
          "symbol": "circle"
         },
         "mode": "lines",
         "name": "s3",
         "orientation": "v",
         "showlegend": true,
         "type": "scatter",
         "x": [
          0,
          1,
          2,
          3,
          4,
          5,
          6,
          7,
          8,
          9,
          10,
          11,
          12,
          13,
          14,
          15,
          16,
          17,
          18,
          19,
          20,
          21,
          22,
          23,
          24,
          25,
          26,
          27,
          28,
          29,
          30,
          31,
          32,
          33,
          34,
          35,
          36,
          37,
          38,
          39,
          40,
          41,
          42,
          43,
          44,
          45,
          46,
          47,
          48,
          49,
          50,
          51,
          52,
          53,
          54,
          55,
          56,
          57,
          58,
          59,
          60,
          61,
          62,
          63,
          64,
          65,
          66,
          67,
          68,
          69,
          70,
          71,
          72,
          73,
          74,
          75,
          76,
          77,
          78,
          79,
          80,
          81,
          82,
          83,
          84,
          85,
          86,
          87,
          88,
          89,
          90,
          91,
          92,
          93,
          94,
          95,
          96,
          97,
          98,
          99
         ],
         "xaxis": "x",
         "y": [
          10.95465612411499,
          26.776751041412354,
          37.130319118499756,
          52.18087911605835,
          66.24403405189514,
          81.43003797531128,
          91.5231831073761,
          101.78040814399719,
          116.84325098991394,
          131.8778202533722,
          146.8667070865631,
          161.92470693588257,
          176.95937609672546,
          187.11074423789978,
          202.14541125297546,
          212.36015439033508,
          227.55299019813538,
          237.55929946899414,
          252.666508436203,
          263.1556634902954,
          278.24040961265564,
          293.29717659950256,
          303.45888662338257,
          318.4102985858917,
          328.6322977542877,
          343.651163816452,
          358.52917981147766,
          373.4636459350586,
          388.5196018218994,
          398.51672983169556,
          408.88899517059326,
          423.8280198574066,
          437.3610987663269,
          447.3573064804077,
          462.4386954307556,
          477.62520027160645,
          492.50387024879456,
          507.67185735702515,
          522.6750252246857,
          536.7125861644745,
          546.959290266037,
          562.0013270378113,
          577.2533340454102,
          594.6510372161865,
          604.692024230957,
          619.80810713768,
          630.1003551483154,
          645.3147120475769,
          655.5054969787598,
          670.6912558078766,
          680.7517569065094,
          690.7463848590851,
          708.9282586574554,
          723.9603095054626,
          734.1728165149689,
          749.4562304019928,
          764.7512784004211,
          779.9798123836517,
          795.1756181716919,
          810.207426071167,
          825.2954058647156,
          840.3914918899536,
          850.5569748878479,
          865.6748969554901,
          875.7689201831818,
          890.9740753173828,
          905.9676992893219,
          920.9759254455566,
          936.1180994510651,
          946.1241064071655,
          956.299768447876,
          971.3163123130798,
          981.5585193634033,
          996.6315140724182,
          1011.7518281936646,
          1027.4660682678223,
          1037.4802181720734,
          1052.5368094444275,
          1067.8330986499786,
          1082.9201354980469,
          1093.1679935455322,
          1103.3611903190613,
          1118.373850107193,
          1128.8921718597412,
          1144.0000040531158,
          1159.2332639694214,
          1169.4043300151825,
          1184.4609599113464,
          1199.6081700325012,
          1214.7783539295197,
          1229.816838979721,
          1244.947201013565,
          1254.9880619049072,
          1270.1731750965118,
          1285.317142009735,
          1300.3636481761932,
          1315.428185224533,
          1325.490050315857,
          1340.5326652526855,
          1350.9983711242676
         ],
         "yaxis": "y"
        },
        {
         "hovertemplate": "tech=lakefs<br>step=%{x}<br>tech_cumulative_time=%{y}<extra></extra>",
         "legendgroup": "lakefs",
         "line": {
          "color": "#FFA15A",
          "dash": "solid"
         },
         "marker": {
          "symbol": "circle"
         },
         "mode": "lines",
         "name": "lakefs",
         "orientation": "v",
         "showlegend": true,
         "type": "scatter",
         "x": [
          0,
          1,
          2,
          3,
          4,
          5,
          6,
          7,
          8,
          9,
          10,
          11,
          12,
          13,
          14,
          15,
          16,
          17,
          18,
          19,
          20,
          21,
          22,
          23,
          24,
          25,
          26,
          27,
          28,
          29,
          30,
          31,
          32,
          33,
          34,
          35,
          36,
          37,
          38,
          39,
          40,
          41,
          42,
          43,
          44,
          45,
          46,
          47,
          48,
          49,
          50,
          51,
          52,
          53,
          54,
          55,
          56,
          57,
          58,
          59,
          60,
          61,
          62,
          63,
          64,
          65,
          66,
          67,
          68,
          69,
          70,
          71,
          72,
          73,
          74,
          75,
          76,
          77,
          78,
          79,
          80,
          81,
          82,
          83,
          84,
          85,
          86,
          87,
          88,
          89,
          90,
          91,
          92,
          93,
          94,
          95,
          96,
          97,
          98,
          99
         ],
         "xaxis": "x",
         "y": [
          9.995609760284424,
          26.208564519882202,
          36.22485971450806,
          53.06803488731384,
          69.65781474113464,
          79.74229574203491,
          96.10002779960632,
          112.70467472076416,
          122.79215884208679,
          139.52165484428406,
          155.81461882591248,
          172.53473901748657,
          182.31840705871582,
          192.15668320655823,
          209.14686036109924,
          221.98663330078125,
          231.97719430923462,
          241.90914940834045,
          253.09365844726562,
          263.17819356918335,
          279.2666184902191,
          289.0946183204651,
          305.78644037246704,
          315.8156063556671,
          332.1765055656433,
          349.0252847671509,
          365.329715013504,
          381.7669982910156,
          398.14894127845764,
          414.1005902290344,
          430.7799723148346,
          446.9609022140503,
          456.89935421943665,
          473.44003319740295,
          484.075275182724,
          500.6837890148163,
          517.3161661624908,
          533.6256189346313,
          543.5737679004669,
          560.0571992397308,
          576.5435891151428,
          592.8106772899628,
          616.4419941902161,
          629.5856642723083,
          648.1817309856415,
          664.4895367622375,
          681.3053689002991,
          697.6084280014038,
          710.9380888938904,
          727.5430178642273,
          737.4346170425415,
          747.0355551242828,
          765.3997564315796,
          781.4644374847412,
          797.9334814548492,
          815.4058232307434,
          832.3074872493744,
          842.1868631839752,
          858.9888381958008,
          875.0875754356384,
          884.9891901016235,
          895.1455111503601,
          911.7672820091248,
          922.9279139041901,
          946.408992767334,
          962.5134046077728,
          979.0087814331055,
          995.9678244590759,
          1012.3813495635986,
          1022.1775074005127,
          1031.8860964775085,
          1048.0704877376556,
          1064.8064715862274,
          1081.2828204631805,
          1097.683075428009,
          1120.6966083049774,
          1130.24796128273,
          1146.4866013526917,
          1163.2236423492432,
          1173.252138376236,
          1183.33118724823,
          1199.854817390442,
          1209.7686431407928,
          1219.6588752269745,
          1230.8195793628693,
          1247.0595211982727,
          1257.0163052082062,
          1274.2152502536774,
          1283.8298060894012,
          1300.2832119464874,
          1316.659304857254,
          1333.6874618530273,
          1343.8247878551483,
          1360.4289638996124,
          1377.043539762497,
          1394.096787929535,
          1410.9211692810059,
          1427.4534571170807,
          1437.6586751937866,
          1454.2943804264069
         ],
         "yaxis": "y"
        }
       ],
       "layout": {
        "autosize": true,
        "legend": {
         "title": {
          "text": "tech"
         },
         "tracegroupgap": 0
        },
        "margin": {
         "t": 60
        },
        "template": {
         "data": {
          "bar": [
           {
            "error_x": {
             "color": "#2a3f5f"
            },
            "error_y": {
             "color": "#2a3f5f"
            },
            "marker": {
             "line": {
              "color": "#E5ECF6",
              "width": 0.5
             },
             "pattern": {
              "fillmode": "overlay",
              "size": 10,
              "solidity": 0.2
             }
            },
            "type": "bar"
           }
          ],
          "barpolar": [
           {
            "marker": {
             "line": {
              "color": "#E5ECF6",
              "width": 0.5
             },
             "pattern": {
              "fillmode": "overlay",
              "size": 10,
              "solidity": 0.2
             }
            },
            "type": "barpolar"
           }
          ],
          "carpet": [
           {
            "aaxis": {
             "endlinecolor": "#2a3f5f",
             "gridcolor": "white",
             "linecolor": "white",
             "minorgridcolor": "white",
             "startlinecolor": "#2a3f5f"
            },
            "baxis": {
             "endlinecolor": "#2a3f5f",
             "gridcolor": "white",
             "linecolor": "white",
             "minorgridcolor": "white",
             "startlinecolor": "#2a3f5f"
            },
            "type": "carpet"
           }
          ],
          "choropleth": [
           {
            "colorbar": {
             "outlinewidth": 0,
             "ticks": ""
            },
            "type": "choropleth"
           }
          ],
          "contour": [
           {
            "colorbar": {
             "outlinewidth": 0,
             "ticks": ""
            },
            "colorscale": [
             [
              0,
              "#0d0887"
             ],
             [
              0.1111111111111111,
              "#46039f"
             ],
             [
              0.2222222222222222,
              "#7201a8"
             ],
             [
              0.3333333333333333,
              "#9c179e"
             ],
             [
              0.4444444444444444,
              "#bd3786"
             ],
             [
              0.5555555555555556,
              "#d8576b"
             ],
             [
              0.6666666666666666,
              "#ed7953"
             ],
             [
              0.7777777777777778,
              "#fb9f3a"
             ],
             [
              0.8888888888888888,
              "#fdca26"
             ],
             [
              1,
              "#f0f921"
             ]
            ],
            "type": "contour"
           }
          ],
          "contourcarpet": [
           {
            "colorbar": {
             "outlinewidth": 0,
             "ticks": ""
            },
            "type": "contourcarpet"
           }
          ],
          "heatmap": [
           {
            "colorbar": {
             "outlinewidth": 0,
             "ticks": ""
            },
            "colorscale": [
             [
              0,
              "#0d0887"
             ],
             [
              0.1111111111111111,
              "#46039f"
             ],
             [
              0.2222222222222222,
              "#7201a8"
             ],
             [
              0.3333333333333333,
              "#9c179e"
             ],
             [
              0.4444444444444444,
              "#bd3786"
             ],
             [
              0.5555555555555556,
              "#d8576b"
             ],
             [
              0.6666666666666666,
              "#ed7953"
             ],
             [
              0.7777777777777778,
              "#fb9f3a"
             ],
             [
              0.8888888888888888,
              "#fdca26"
             ],
             [
              1,
              "#f0f921"
             ]
            ],
            "type": "heatmap"
           }
          ],
          "heatmapgl": [
           {
            "colorbar": {
             "outlinewidth": 0,
             "ticks": ""
            },
            "colorscale": [
             [
              0,
              "#0d0887"
             ],
             [
              0.1111111111111111,
              "#46039f"
             ],
             [
              0.2222222222222222,
              "#7201a8"
             ],
             [
              0.3333333333333333,
              "#9c179e"
             ],
             [
              0.4444444444444444,
              "#bd3786"
             ],
             [
              0.5555555555555556,
              "#d8576b"
             ],
             [
              0.6666666666666666,
              "#ed7953"
             ],
             [
              0.7777777777777778,
              "#fb9f3a"
             ],
             [
              0.8888888888888888,
              "#fdca26"
             ],
             [
              1,
              "#f0f921"
             ]
            ],
            "type": "heatmapgl"
           }
          ],
          "histogram": [
           {
            "marker": {
             "pattern": {
              "fillmode": "overlay",
              "size": 10,
              "solidity": 0.2
             }
            },
            "type": "histogram"
           }
          ],
          "histogram2d": [
           {
            "colorbar": {
             "outlinewidth": 0,
             "ticks": ""
            },
            "colorscale": [
             [
              0,
              "#0d0887"
             ],
             [
              0.1111111111111111,
              "#46039f"
             ],
             [
              0.2222222222222222,
              "#7201a8"
             ],
             [
              0.3333333333333333,
              "#9c179e"
             ],
             [
              0.4444444444444444,
              "#bd3786"
             ],
             [
              0.5555555555555556,
              "#d8576b"
             ],
             [
              0.6666666666666666,
              "#ed7953"
             ],
             [
              0.7777777777777778,
              "#fb9f3a"
             ],
             [
              0.8888888888888888,
              "#fdca26"
             ],
             [
              1,
              "#f0f921"
             ]
            ],
            "type": "histogram2d"
           }
          ],
          "histogram2dcontour": [
           {
            "colorbar": {
             "outlinewidth": 0,
             "ticks": ""
            },
            "colorscale": [
             [
              0,
              "#0d0887"
             ],
             [
              0.1111111111111111,
              "#46039f"
             ],
             [
              0.2222222222222222,
              "#7201a8"
             ],
             [
              0.3333333333333333,
              "#9c179e"
             ],
             [
              0.4444444444444444,
              "#bd3786"
             ],
             [
              0.5555555555555556,
              "#d8576b"
             ],
             [
              0.6666666666666666,
              "#ed7953"
             ],
             [
              0.7777777777777778,
              "#fb9f3a"
             ],
             [
              0.8888888888888888,
              "#fdca26"
             ],
             [
              1,
              "#f0f921"
             ]
            ],
            "type": "histogram2dcontour"
           }
          ],
          "mesh3d": [
           {
            "colorbar": {
             "outlinewidth": 0,
             "ticks": ""
            },
            "type": "mesh3d"
           }
          ],
          "parcoords": [
           {
            "line": {
             "colorbar": {
              "outlinewidth": 0,
              "ticks": ""
             }
            },
            "type": "parcoords"
           }
          ],
          "pie": [
           {
            "automargin": true,
            "type": "pie"
           }
          ],
          "scatter": [
           {
            "fillpattern": {
             "fillmode": "overlay",
             "size": 10,
             "solidity": 0.2
            },
            "type": "scatter"
           }
          ],
          "scatter3d": [
           {
            "line": {
             "colorbar": {
              "outlinewidth": 0,
              "ticks": ""
             }
            },
            "marker": {
             "colorbar": {
              "outlinewidth": 0,
              "ticks": ""
             }
            },
            "type": "scatter3d"
           }
          ],
          "scattercarpet": [
           {
            "marker": {
             "colorbar": {
              "outlinewidth": 0,
              "ticks": ""
             }
            },
            "type": "scattercarpet"
           }
          ],
          "scattergeo": [
           {
            "marker": {
             "colorbar": {
              "outlinewidth": 0,
              "ticks": ""
             }
            },
            "type": "scattergeo"
           }
          ],
          "scattergl": [
           {
            "marker": {
             "colorbar": {
              "outlinewidth": 0,
              "ticks": ""
             }
            },
            "type": "scattergl"
           }
          ],
          "scattermapbox": [
           {
            "marker": {
             "colorbar": {
              "outlinewidth": 0,
              "ticks": ""
             }
            },
            "type": "scattermapbox"
           }
          ],
          "scatterpolar": [
           {
            "marker": {
             "colorbar": {
              "outlinewidth": 0,
              "ticks": ""
             }
            },
            "type": "scatterpolar"
           }
          ],
          "scatterpolargl": [
           {
            "marker": {
             "colorbar": {
              "outlinewidth": 0,
              "ticks": ""
             }
            },
            "type": "scatterpolargl"
           }
          ],
          "scatterternary": [
           {
            "marker": {
             "colorbar": {
              "outlinewidth": 0,
              "ticks": ""
             }
            },
            "type": "scatterternary"
           }
          ],
          "surface": [
           {
            "colorbar": {
             "outlinewidth": 0,
             "ticks": ""
            },
            "colorscale": [
             [
              0,
              "#0d0887"
             ],
             [
              0.1111111111111111,
              "#46039f"
             ],
             [
              0.2222222222222222,
              "#7201a8"
             ],
             [
              0.3333333333333333,
              "#9c179e"
             ],
             [
              0.4444444444444444,
              "#bd3786"
             ],
             [
              0.5555555555555556,
              "#d8576b"
             ],
             [
              0.6666666666666666,
              "#ed7953"
             ],
             [
              0.7777777777777778,
              "#fb9f3a"
             ],
             [
              0.8888888888888888,
              "#fdca26"
             ],
             [
              1,
              "#f0f921"
             ]
            ],
            "type": "surface"
           }
          ],
          "table": [
           {
            "cells": {
             "fill": {
              "color": "#EBF0F8"
             },
             "line": {
              "color": "white"
             }
            },
            "header": {
             "fill": {
              "color": "#C8D4E3"
             },
             "line": {
              "color": "white"
             }
            },
            "type": "table"
           }
          ]
         },
         "layout": {
          "annotationdefaults": {
           "arrowcolor": "#2a3f5f",
           "arrowhead": 0,
           "arrowwidth": 1
          },
          "autotypenumbers": "strict",
          "coloraxis": {
           "colorbar": {
            "outlinewidth": 0,
            "ticks": ""
           }
          },
          "colorscale": {
           "diverging": [
            [
             0,
             "#8e0152"
            ],
            [
             0.1,
             "#c51b7d"
            ],
            [
             0.2,
             "#de77ae"
            ],
            [
             0.3,
             "#f1b6da"
            ],
            [
             0.4,
             "#fde0ef"
            ],
            [
             0.5,
             "#f7f7f7"
            ],
            [
             0.6,
             "#e6f5d0"
            ],
            [
             0.7,
             "#b8e186"
            ],
            [
             0.8,
             "#7fbc41"
            ],
            [
             0.9,
             "#4d9221"
            ],
            [
             1,
             "#276419"
            ]
           ],
           "sequential": [
            [
             0,
             "#0d0887"
            ],
            [
             0.1111111111111111,
             "#46039f"
            ],
            [
             0.2222222222222222,
             "#7201a8"
            ],
            [
             0.3333333333333333,
             "#9c179e"
            ],
            [
             0.4444444444444444,
             "#bd3786"
            ],
            [
             0.5555555555555556,
             "#d8576b"
            ],
            [
             0.6666666666666666,
             "#ed7953"
            ],
            [
             0.7777777777777778,
             "#fb9f3a"
            ],
            [
             0.8888888888888888,
             "#fdca26"
            ],
            [
             1,
             "#f0f921"
            ]
           ],
           "sequentialminus": [
            [
             0,
             "#0d0887"
            ],
            [
             0.1111111111111111,
             "#46039f"
            ],
            [
             0.2222222222222222,
             "#7201a8"
            ],
            [
             0.3333333333333333,
             "#9c179e"
            ],
            [
             0.4444444444444444,
             "#bd3786"
            ],
            [
             0.5555555555555556,
             "#d8576b"
            ],
            [
             0.6666666666666666,
             "#ed7953"
            ],
            [
             0.7777777777777778,
             "#fb9f3a"
            ],
            [
             0.8888888888888888,
             "#fdca26"
            ],
            [
             1,
             "#f0f921"
            ]
           ]
          },
          "colorway": [
           "#636efa",
           "#EF553B",
           "#00cc96",
           "#ab63fa",
           "#FFA15A",
           "#19d3f3",
           "#FF6692",
           "#B6E880",
           "#FF97FF",
           "#FECB52"
          ],
          "font": {
           "color": "#2a3f5f"
          },
          "geo": {
           "bgcolor": "white",
           "lakecolor": "white",
           "landcolor": "#E5ECF6",
           "showlakes": true,
           "showland": true,
           "subunitcolor": "white"
          },
          "hoverlabel": {
           "align": "left"
          },
          "hovermode": "closest",
          "mapbox": {
           "style": "light"
          },
          "paper_bgcolor": "white",
          "plot_bgcolor": "#E5ECF6",
          "polar": {
           "angularaxis": {
            "gridcolor": "white",
            "linecolor": "white",
            "ticks": ""
           },
           "bgcolor": "#E5ECF6",
           "radialaxis": {
            "gridcolor": "white",
            "linecolor": "white",
            "ticks": ""
           }
          },
          "scene": {
           "xaxis": {
            "backgroundcolor": "#E5ECF6",
            "gridcolor": "white",
            "gridwidth": 2,
            "linecolor": "white",
            "showbackground": true,
            "ticks": "",
            "zerolinecolor": "white"
           },
           "yaxis": {
            "backgroundcolor": "#E5ECF6",
            "gridcolor": "white",
            "gridwidth": 2,
            "linecolor": "white",
            "showbackground": true,
            "ticks": "",
            "zerolinecolor": "white"
           },
           "zaxis": {
            "backgroundcolor": "#E5ECF6",
            "gridcolor": "white",
            "gridwidth": 2,
            "linecolor": "white",
            "showbackground": true,
            "ticks": "",
            "zerolinecolor": "white"
           }
          },
          "shapedefaults": {
           "line": {
            "color": "#2a3f5f"
           }
          },
          "ternary": {
           "aaxis": {
            "gridcolor": "white",
            "linecolor": "white",
            "ticks": ""
           },
           "baxis": {
            "gridcolor": "white",
            "linecolor": "white",
            "ticks": ""
           },
           "bgcolor": "#E5ECF6",
           "caxis": {
            "gridcolor": "white",
            "linecolor": "white",
            "ticks": ""
           }
          },
          "title": {
           "x": 0.05
          },
          "xaxis": {
           "automargin": true,
           "gridcolor": "white",
           "linecolor": "white",
           "ticks": "",
           "title": {
            "standoff": 15
           },
           "zerolinecolor": "white",
           "zerolinewidth": 2
          },
          "yaxis": {
           "automargin": true,
           "gridcolor": "white",
           "linecolor": "white",
           "ticks": "",
           "title": {
            "standoff": 15
           },
           "zerolinecolor": "white",
           "zerolinewidth": 2
          }
         }
        },
        "title": {
         "text": "Cumulative Lines of Time per Steps"
        },
        "xaxis": {
         "anchor": "y",
         "autorange": true,
         "domain": [
          0,
          1
         ],
         "range": [
          0,
          99
         ],
         "title": {
          "text": "Steps"
         },
         "type": "linear"
        },
        "yaxis": {
         "anchor": "x",
         "autorange": true,
         "domain": [
          0,
          1
         ],
         "range": [
          -231.3567065530353,
          4448.766063385539
         ],
         "title": {
          "text": "Cumulative Time"
         },
         "type": "linear"
        }
       }
      },
      "image/png": "[encoded data removed]",
      "text/html": [
       "<div>                            <div id=\"68bc70c1-b642-4ae6-a6c0-41eea91f6a7a\" class=\"plotly-graph-div\" style=\"height:525px; width:100%;\"></div>            <script type=\"text/javascript\">                require([\"plotly\"], function(Plotly) {                    window.PLOTLYENV=window.PLOTLYENV || {};                                    if (document.getElementById(\"68bc70c1-b642-4ae6-a6c0-41eea91f6a7a\")) {                    Plotly.newPlot(                        \"68bc70c1-b642-4ae6-a6c0-41eea91f6a7a\",                        [{\"hovertemplate\":\"tech=xethub\\u003cbr\\u003estep=%{x}\\u003cbr\\u003etech_cumulative_time=%{y}\\u003cextra\\u003e\\u003c\\u002fextra\\u003e\",\"legendgroup\":\"xethub\",\"line\":{\"color\":\"#636efa\",\"dash\":\"solid\"},\"marker\":{\"symbol\":\"circle\"},\"mode\":\"lines\",\"name\":\"xethub\",\"orientation\":\"v\",\"showlegend\":true,\"x\":[0,0,1,1,2,2,3,3,4,4,5,5,6,6,7,7,8,8,9,9,10,10,11,11,12,12,13,13,14,14,15,15,16,16,17,17,18,18,19,19,20,20,21,21,22,22,23,23,24,24,25,25,26,26,27,27,28,28,29,29,30,30,31,31,32,32,33,33,34,34,35,35,36,36,37,37,38,38,39,39,40,40,41,41,42,42,43,43,44,44,45,45,46,46,47,47,48,48,49,49,50,50,51,51,52,52,53,53,54,54,55,55,56,56,57,57,58,58,59,59,60,60,61,61,62,62,63,63,64,64,65,65,66,66,67,67,68,68,69,69,70,70,71,71,72,72,73,73,74,74,75,75,76,76,77,77,78,78,79,79,80,80,81,81,82,82,83,83,84,84,85,85,86,86,87,87,88,88,89,89,90,90,91,91,92,92,93,93,94,94,95,95,96,96,97,97,98,98,99,99],\"xaxis\":\"x\",\"y\":[2.6494319438934326,21.22808003425598,22.956407070159912,59.017860889434814,60.84184765815735,89.91178774833679,91.71772360801697,127.68849968910217,129.59074759483337,151.97475361824036,153.83032035827637,172.89739441871643,174.53413558006287,205.90007972717285,207.40171766281128,234.3967523574829,236.12864542007446,253.1331775188446,254.9294183254242,287.7545952796936,289.2710802555084,322.16327238082886,323.9531514644623,351.32714343070984,353.0224914550781,383.49221658706665,385.5439269542694,421.60832595825195,423.3682110309601,451.06106901168823,452.67589116096497,472.93797421455383,474.67560720443726,507.1260211467743,508.8823232650757,529.388824224472,530.979052066803,549.0537700653076,550.7210938930511,569.1445808410645,570.8383736610413,593.8119766712189,595.3637335300446,611.962352514267,613.6124875545502,641.6010687351227,643.1783294677734,668.5128946304321,670.1591327190399,700.2042407989502,701.779013633728,728.9560225009918,730.4892992973328,756.7810704708099,758.289172410965,780.1075563430786,781.5866174697876,810.8957333564758,812.6081161499023,836.602826833725,838.3708851337433,860.2677299976349,861.8022191524506,896.863333940506,898.4701306819916,931.1639585494995,932.7377438545227,950.3257887363434,951.8041095733643,983.2352747917175,984.8499026298523,1003.8000566959381,1005.4929437637329,1038.9554979801178,1040.5896229743958,1068.787995815277,1070.2988879680634,1087.9295420646667,1089.3286221027374,1111.3861672878265,1112.9214444160461,1134.3304765224457,1135.8496284484863,1155.4495136737823,1157.0065376758575,1192.3154056072235,1193.9505896568298,1230.5567116737366,1232.0522077083588,1260.0102348327637,1261.475294828415,1295.0058286190033,1296.5166974067688,1324.2258033752441,1325.7223904132843,1354.2113285064697,1355.7332034111023,1384.8727796077728,1386.362054347992,1419.9156062602997,1421.4741303920746,1449.7033393383026,1451.1318662166595,1470.3233730793,1471.9163591861725,1504.1276981830597,1505.8358392715454,1527.7058124542236,1529.2647795677185,1547.1279528141022,1548.610006570816,1575.1407644748688,1576.7793235778809,1600.2974307537079,1601.8912017345428,1637.728317975998,1639.3641848564148,1672.703415632248,1674.2351386547089,1697.4303386211395,1699.045566558838,1730.8288655281067,1732.6400372982025,1753.3968913555145,1754.928605556488,1792.3227834701538,1793.992190361023,1827.5154242515564,1829.0472502708435,1852.7345311641693,1854.3022420406342,1873.169354915619,1874.6916415691376,1908.6211047172546,1910.1217398643494,1945.5893321037292,1947.2080540657043,1976.531566143036,1978.111236333847,2010.6156692504883,2012.1537470817566,2044.241464138031,2045.8012969493866,2077.1606891155243,2078.757016181946,2095.993015527725,2097.4461145401,2120.4246356487274,2122.1389677524567,2160.683628797531,2162.337390899658,2187.0461847782135,2188.5641877651215,2219.7566816806793,2221.322445631027,2242.0858047008514,2243.699186563492,2269.8067395687103,2271.354801416397,2303.0125246047974,2304.585348844528,2338.7671377658844,2340.293863773346,2375.720819711685,2377.234527826309,2415.043292760849,2416.523652791977,2450.6201996803284,2452.1626205444336,2482.7276334762573,2484.1998517513275,2518.6551308631897,2520.2375569343567,2552.829728603363,2554.3451855182648,2591.520153284073,2592.9843451976776,2618.3398401737213,2619.89279794693,2647.916062116623,2649.432317018509,2674.806347131729,2676.412171125412,2706.8680431842804,2708.6119372844696,2725.1523373126984,2726.752997159958,2759.811217069626,2761.5505089759827,2779.335769891739,2780.900136947632,2810.0986959934235,2811.536396741867,2843.21023273468,2844.746150493622,2864.3749945163727,2866.0407135486603,2900.697427511215,2902.3922724723816,2924.9417803287506],\"yaxis\":\"y\",\"type\":\"scatter\"},{\"hovertemplate\":\"tech=dvc\\u003cbr\\u003estep=%{x}\\u003cbr\\u003etech_cumulative_time=%{y}\\u003cextra\\u003e\\u003c\\u002fextra\\u003e\",\"legendgroup\":\"dvc\",\"line\":{\"color\":\"#EF553B\",\"dash\":\"solid\"},\"marker\":{\"symbol\":\"circle\"},\"mode\":\"lines\",\"name\":\"dvc\",\"orientation\":\"v\",\"showlegend\":true,\"x\":[0,1,2,3,4,5,6,7,8,9,10,11,12,13,14,15,16,17,18,19,20,21,22,23,24,25,26,27,28,29,30,31,32,33,34,35,36,37,38,39,40,41,42,43,44,45,46,47,48,49,50,51,52,53,54,55,56,57,58,59,60,61,62,63,64,65,66,67,68,69,70,71,72,73,74,75,76,77,78,79,80,81,82,83,84,85,86,87,88,89,90,91,92,93,94,95,96,97,98,99],\"xaxis\":\"x\",\"y\":[26.281028747558594,52.74557590484619,79.14322471618652,104.76878476142883,130.66181993484497,156.60199785232544,171.11766386032104,197.08784866333008,211.66553735733032,237.37751126289368,263.2704961299896,287.0135660171509,301.57090616226196,327.6714029312134,357.07118797302246,382.8851978778839,407.03753209114075,431.03859281539917,456.9270739555359,482.7228310108185,508.76338505744934,534.65886926651,563.0256114006042,588.6557731628418,603.0016272068024,628.6386470794678,654.1352620124817,679.44238114357,704.9293711185455,729.0498661994934,761.591863155365,776.2924273014069,802.2277002334595,826.3550324440002,852.462161064148,878.592579126358,904.5185804367065,930.393351316452,956.319776058197,970.7203159332275,996.1316750049591,1010.5564687252045,1024.7701888084412,1064.7428648471832,1090.442442893982,1104.690850019455,1130.267729997635,1144.7245790958405,1170.6111900806427,1185.2173800468445,1209.071329832077,1242.6283888816833,1257.098098039627,1287.722608089447,1311.318792104721,1336.6993403434753,1351.423199415207,1366.014980316162,1381.0462093353271,1404.811327457428,1428.6762325763702,1443.0547213554382,1466.9426183700562,1493.0752172470093,1518.9296712875366,1544.8815002441406,1570.5332903862,1596.0410385131836,1622.1316583156586,1636.6057493686676,1662.4959964752197,1687.9837174415588,1702.0845804214478,1727.8366134166718,1753.4645433425903,1779.0934991836548,1802.933913230896,1828.8807232379913,1854.395679950714,1869.2166798114777,1883.8340487480164,1898.648768901825,1924.53884100914,1948.5105240345001,1962.984354019165,1987.0022900104523,2011.004812002182,2036.9666862487793,2062.6330263614655,2077.365844488144,2092.7383937835693,2118.670120716095,2133.094749689102,2148.120272874832,2162.853167772293,2177.3942646980286,2202.910790681839,2228.772880554199,2254.6407096385956,2269.407623767853],\"yaxis\":\"y\",\"type\":\"scatter\"},{\"hovertemplate\":\"tech=lfs\\u003cbr\\u003estep=%{x}\\u003cbr\\u003etech_cumulative_time=%{y}\\u003cextra\\u003e\\u003c\\u002fextra\\u003e\",\"legendgroup\":\"lfs\",\"line\":{\"color\":\"#00cc96\",\"dash\":\"solid\"},\"marker\":{\"symbol\":\"circle\"},\"mode\":\"lines\",\"name\":\"lfs\",\"orientation\":\"v\",\"showlegend\":true,\"x\":[0,0,1,1,2,2,3,3,4,4,5,5,6,6,7,7,8,8,9,9,10,10,11,11,12,12,13,13,14,14,15,15,16,16,17,17,18,18,19,19,20,20,21,21,22,22,23,23,24,24,25,25,26,26,27,27,28,28,29,29,30,30,31,31,32,32,33,33,34,34,35,35,36,36,37,37,38,38,39,39,40,40,41,41,42,42,43,43,44,44,45,45,46,46,47,47,48,48,49,49,50,50,51,51,52,52,53,53,54,54,55,55,56,56,57,57,58,58,59,59,60,60,61,61,62,62,63,63,64,64,65,65,66,66,67,67,68,68,69,69,70,70,71,71,72,72,73,73,74,74,75,75,76,76,77,77,78,78,79,79,80,80,81,81,82,82,83,83,84,84,85,85,86,86,87,87,88,88,89,89,90,90,91,91,92,92,93,93,94,94,95,95,96,96,97,97,98,98,99,99],\"xaxis\":\"x\",\"y\":[4.39343786239624,8.1198410987854,32.51908802986145,44.212238788604736,66.73252367973328,78.43455672264099,102.49896574020386,134.26835989952087,158.25379371643066,180.118572473526,204.06033849716187,215.72949647903442,239.79594945907593,261.6431677341461,283.9757809638977,295.8288457393646,319.7585666179657,331.7755696773529,355.8620023727417,367.5174903869629,391.49833154678345,412.83478140830994,435.4583795070648,457.3541965484619,479.6155354976654,491.2582724094391,515.491895198822,537.3370933532715,561.1570384502411,582.8387434482574,605.4889776706696,627.2294569015503,651.0133929252625,673.1174578666687,697.0091609954834,719.7582280635834,751.026230096817,772.4995622634888,796.0915582180023,807.7582502365112,832.6784434318542,854.7182965278625,879.004560470581,900.7923874855042,924.5788223743439,936.2592234611511,958.2205631732941,980.3510270118713,1004.0759460926056,1026.0775320529938,1048.5515310764313,1060.1258192062378,1073.7572102546692,1095.2349271774292,1119.1788272857666,1141.3020422458649,1163.6209073066711,1185.5375745296478,1209.299908399582,1220.7594962120056,1244.7421810626984,1256.2992250919342,1280.3396439552307,1302.2257840633392,1326.382411956787,1347.8374297618866,1370.1112778186798,1391.7689599990845,1414.2167859077454,1436.0979719161987,1459.699490070343,1527.3803091049194,1549.8862552642822,1572.254198551178,1602.041475534439,1623.9643216133118,1648.0095596313477,1670.005111694336,1693.7034046649933,1715.1718327999115,1738.6835877895355,1760.320515871048,1784.2043778896332,1806.033933877945,1819.7296559810638,1831.2530498504639,1854.1336669921875,1876.119311094284,1899.8318312168121,1921.4196555614471,1945.3644351959229,1966.4052011966705,1990.394103050232,2012.0929980278015,2042.7720692157745,2065.2905724048615,2089.1862325668335,2100.8265936374664,2124.7110295295715,2136.6933364868164,2159.1832525730133,2170.606036424637,2194.6709105968475,2206.2363917827606,2228.6050250530243,2250.333363056183,2274.201274871826,2296.3520727157593,2309.859684944153,2331.2139689922333,2354.9631378650665,2375.73016166687,2399.5048019886017,2411.0885989665985,2436.463888645172,2458.275456905365,2482.208551645279,2503.1621165275574,2517.3967595100403,2539.448961496353,2561.79421377182,2573.222069501877,2597.3047003746033,2619.2102115154266,2642.9708063602448,2665.7713391780853,2697.07675409317,2718.87597823143,2743.2172803878784,2755.316327571869,2777.699010848999,2789.158262729645,2813.2303726673126,2824.8397345542908,2848.7352106571198,2860.4472975730896,2882.722402572632,2894.189372777939,2917.8066968917847,2929.6766369342804,2953.4252631664276,2975.5561039447784,2999.4224479198456,3011.2150390148163,3036.582756280899,3048.045500278473,3072.1352005004883,3083.6223635673523,3105.8063566684723,3127.5147438049316,3161.470955848694,3183.1132979393005,3205.5796880722046,3227.5878343582153,3260.122480392456,3282.154679298401,3304.453285217285,3316.089371204376,3344.0674591064453,3365.7029252052307,3389.5593621730804,3411.245113134384,3435.0500228405,3457.6945898532867,3481.3082349300385,3492.8050339221954,3517.5755507946014,3529.3596320152283,3551.5691690444946,3573.3200380802155,3595.664246082306,3617.4769501686096,3641.53444814682,3663.4691421985626,3687.291204929352,3709.356653213501,3732.081784248352,3753.8971853256226,3777.7994043827057,3799.267211675644,3822.987300634384,3844.4350893497467,3866.834517478943,3878.697861433029,3903.833790540695,3915.3363513946533,3929.939357280731,3951.0069739818573,3975.026878118515,3986.7113349437714,4011.8051369190216,4033.4050068855286,4057.392054080963,4079.006518125534,4101.046258926392,4122.876566648483,4146.950186014175,4168.890496015549,4192.831583023071,4214.759924888611],\"yaxis\":\"y\",\"type\":\"scatter\"},{\"hovertemplate\":\"tech=s3\\u003cbr\\u003estep=%{x}\\u003cbr\\u003etech_cumulative_time=%{y}\\u003cextra\\u003e\\u003c\\u002fextra\\u003e\",\"legendgroup\":\"s3\",\"line\":{\"color\":\"#ab63fa\",\"dash\":\"solid\"},\"marker\":{\"symbol\":\"circle\"},\"mode\":\"lines\",\"name\":\"s3\",\"orientation\":\"v\",\"showlegend\":true,\"x\":[0,1,2,3,4,5,6,7,8,9,10,11,12,13,14,15,16,17,18,19,20,21,22,23,24,25,26,27,28,29,30,31,32,33,34,35,36,37,38,39,40,41,42,43,44,45,46,47,48,49,50,51,52,53,54,55,56,57,58,59,60,61,62,63,64,65,66,67,68,69,70,71,72,73,74,75,76,77,78,79,80,81,82,83,84,85,86,87,88,89,90,91,92,93,94,95,96,97,98,99],\"xaxis\":\"x\",\"y\":[10.95465612411499,26.776751041412354,37.130319118499756,52.18087911605835,66.24403405189514,81.43003797531128,91.5231831073761,101.78040814399719,116.84325098991394,131.8778202533722,146.8667070865631,161.92470693588257,176.95937609672546,187.11074423789978,202.14541125297546,212.36015439033508,227.55299019813538,237.55929946899414,252.666508436203,263.1556634902954,278.24040961265564,293.29717659950256,303.45888662338257,318.4102985858917,328.6322977542877,343.651163816452,358.52917981147766,373.4636459350586,388.5196018218994,398.51672983169556,408.88899517059326,423.8280198574066,437.3610987663269,447.3573064804077,462.4386954307556,477.62520027160645,492.50387024879456,507.67185735702515,522.6750252246857,536.7125861644745,546.959290266037,562.0013270378113,577.2533340454102,594.6510372161865,604.692024230957,619.80810713768,630.1003551483154,645.3147120475769,655.5054969787598,670.6912558078766,680.7517569065094,690.7463848590851,708.9282586574554,723.9603095054626,734.1728165149689,749.4562304019928,764.7512784004211,779.9798123836517,795.1756181716919,810.207426071167,825.2954058647156,840.3914918899536,850.5569748878479,865.6748969554901,875.7689201831818,890.9740753173828,905.9676992893219,920.9759254455566,936.1180994510651,946.1241064071655,956.299768447876,971.3163123130798,981.5585193634033,996.6315140724182,1011.7518281936646,1027.4660682678223,1037.4802181720734,1052.5368094444275,1067.8330986499786,1082.9201354980469,1093.1679935455322,1103.3611903190613,1118.373850107193,1128.8921718597412,1144.0000040531158,1159.2332639694214,1169.4043300151825,1184.4609599113464,1199.6081700325012,1214.7783539295197,1229.816838979721,1244.947201013565,1254.9880619049072,1270.1731750965118,1285.317142009735,1300.3636481761932,1315.428185224533,1325.490050315857,1340.5326652526855,1350.9983711242676],\"yaxis\":\"y\",\"type\":\"scatter\"},{\"hovertemplate\":\"tech=lakefs\\u003cbr\\u003estep=%{x}\\u003cbr\\u003etech_cumulative_time=%{y}\\u003cextra\\u003e\\u003c\\u002fextra\\u003e\",\"legendgroup\":\"lakefs\",\"line\":{\"color\":\"#FFA15A\",\"dash\":\"solid\"},\"marker\":{\"symbol\":\"circle\"},\"mode\":\"lines\",\"name\":\"lakefs\",\"orientation\":\"v\",\"showlegend\":true,\"x\":[0,1,2,3,4,5,6,7,8,9,10,11,12,13,14,15,16,17,18,19,20,21,22,23,24,25,26,27,28,29,30,31,32,33,34,35,36,37,38,39,40,41,42,43,44,45,46,47,48,49,50,51,52,53,54,55,56,57,58,59,60,61,62,63,64,65,66,67,68,69,70,71,72,73,74,75,76,77,78,79,80,81,82,83,84,85,86,87,88,89,90,91,92,93,94,95,96,97,98,99],\"xaxis\":\"x\",\"y\":[9.995609760284424,26.208564519882202,36.22485971450806,53.06803488731384,69.65781474113464,79.74229574203491,96.10002779960632,112.70467472076416,122.79215884208679,139.52165484428406,155.81461882591248,172.53473901748657,182.31840705871582,192.15668320655823,209.14686036109924,221.98663330078125,231.97719430923462,241.90914940834045,253.09365844726562,263.17819356918335,279.2666184902191,289.0946183204651,305.78644037246704,315.8156063556671,332.1765055656433,349.0252847671509,365.329715013504,381.7669982910156,398.14894127845764,414.1005902290344,430.7799723148346,446.9609022140503,456.89935421943665,473.44003319740295,484.075275182724,500.6837890148163,517.3161661624908,533.6256189346313,543.5737679004669,560.0571992397308,576.5435891151428,592.8106772899628,616.4419941902161,629.5856642723083,648.1817309856415,664.4895367622375,681.3053689002991,697.6084280014038,710.9380888938904,727.5430178642273,737.4346170425415,747.0355551242828,765.3997564315796,781.4644374847412,797.9334814548492,815.4058232307434,832.3074872493744,842.1868631839752,858.9888381958008,875.0875754356384,884.9891901016235,895.1455111503601,911.7672820091248,922.9279139041901,946.408992767334,962.5134046077728,979.0087814331055,995.9678244590759,1012.3813495635986,1022.1775074005127,1031.8860964775085,1048.0704877376556,1064.8064715862274,1081.2828204631805,1097.683075428009,1120.6966083049774,1130.24796128273,1146.4866013526917,1163.2236423492432,1173.252138376236,1183.33118724823,1199.854817390442,1209.7686431407928,1219.6588752269745,1230.8195793628693,1247.0595211982727,1257.0163052082062,1274.2152502536774,1283.8298060894012,1300.2832119464874,1316.659304857254,1333.6874618530273,1343.8247878551483,1360.4289638996124,1377.043539762497,1394.096787929535,1410.9211692810059,1427.4534571170807,1437.6586751937866,1454.2943804264069],\"yaxis\":\"y\",\"type\":\"scatter\"}],                        {\"template\":{\"data\":{\"histogram2dcontour\":[{\"type\":\"histogram2dcontour\",\"colorbar\":{\"outlinewidth\":0,\"ticks\":\"\"},\"colorscale\":[[0.0,\"#0d0887\"],[0.1111111111111111,\"#46039f\"],[0.2222222222222222,\"#7201a8\"],[0.3333333333333333,\"#9c179e\"],[0.4444444444444444,\"#bd3786\"],[0.5555555555555556,\"#d8576b\"],[0.6666666666666666,\"#ed7953\"],[0.7777777777777778,\"#fb9f3a\"],[0.8888888888888888,\"#fdca26\"],[1.0,\"#f0f921\"]]}],\"choropleth\":[{\"type\":\"choropleth\",\"colorbar\":{\"outlinewidth\":0,\"ticks\":\"\"}}],\"histogram2d\":[{\"type\":\"histogram2d\",\"colorbar\":{\"outlinewidth\":0,\"ticks\":\"\"},\"colorscale\":[[0.0,\"#0d0887\"],[0.1111111111111111,\"#46039f\"],[0.2222222222222222,\"#7201a8\"],[0.3333333333333333,\"#9c179e\"],[0.4444444444444444,\"#bd3786\"],[0.5555555555555556,\"#d8576b\"],[0.6666666666666666,\"#ed7953\"],[0.7777777777777778,\"#fb9f3a\"],[0.8888888888888888,\"#fdca26\"],[1.0,\"#f0f921\"]]}],\"heatmap\":[{\"type\":\"heatmap\",\"colorbar\":{\"outlinewidth\":0,\"ticks\":\"\"},\"colorscale\":[[0.0,\"#0d0887\"],[0.1111111111111111,\"#46039f\"],[0.2222222222222222,\"#7201a8\"],[0.3333333333333333,\"#9c179e\"],[0.4444444444444444,\"#bd3786\"],[0.5555555555555556,\"#d8576b\"],[0.6666666666666666,\"#ed7953\"],[0.7777777777777778,\"#fb9f3a\"],[0.8888888888888888,\"#fdca26\"],[1.0,\"#f0f921\"]]}],\"heatmapgl\":[{\"type\":\"heatmapgl\",\"colorbar\":{\"outlinewidth\":0,\"ticks\":\"\"},\"colorscale\":[[0.0,\"#0d0887\"],[0.1111111111111111,\"#46039f\"],[0.2222222222222222,\"#7201a8\"],[0.3333333333333333,\"#9c179e\"],[0.4444444444444444,\"#bd3786\"],[0.5555555555555556,\"#d8576b\"],[0.6666666666666666,\"#ed7953\"],[0.7777777777777778,\"#fb9f3a\"],[0.8888888888888888,\"#fdca26\"],[1.0,\"#f0f921\"]]}],\"contourcarpet\":[{\"type\":\"contourcarpet\",\"colorbar\":{\"outlinewidth\":0,\"ticks\":\"\"}}],\"contour\":[{\"type\":\"contour\",\"colorbar\":{\"outlinewidth\":0,\"ticks\":\"\"},\"colorscale\":[[0.0,\"#0d0887\"],[0.1111111111111111,\"#46039f\"],[0.2222222222222222,\"#7201a8\"],[0.3333333333333333,\"#9c179e\"],[0.4444444444444444,\"#bd3786\"],[0.5555555555555556,\"#d8576b\"],[0.6666666666666666,\"#ed7953\"],[0.7777777777777778,\"#fb9f3a\"],[0.8888888888888888,\"#fdca26\"],[1.0,\"#f0f921\"]]}],\"surface\":[{\"type\":\"surface\",\"colorbar\":{\"outlinewidth\":0,\"ticks\":\"\"},\"colorscale\":[[0.0,\"#0d0887\"],[0.1111111111111111,\"#46039f\"],[0.2222222222222222,\"#7201a8\"],[0.3333333333333333,\"#9c179e\"],[0.4444444444444444,\"#bd3786\"],[0.5555555555555556,\"#d8576b\"],[0.6666666666666666,\"#ed7953\"],[0.7777777777777778,\"#fb9f3a\"],[0.8888888888888888,\"#fdca26\"],[1.0,\"#f0f921\"]]}],\"mesh3d\":[{\"type\":\"mesh3d\",\"colorbar\":{\"outlinewidth\":0,\"ticks\":\"\"}}],\"scatter\":[{\"fillpattern\":{\"fillmode\":\"overlay\",\"size\":10,\"solidity\":0.2},\"type\":\"scatter\"}],\"parcoords\":[{\"type\":\"parcoords\",\"line\":{\"colorbar\":{\"outlinewidth\":0,\"ticks\":\"\"}}}],\"scatterpolargl\":[{\"type\":\"scatterpolargl\",\"marker\":{\"colorbar\":{\"outlinewidth\":0,\"ticks\":\"\"}}}],\"bar\":[{\"error_x\":{\"color\":\"#2a3f5f\"},\"error_y\":{\"color\":\"#2a3f5f\"},\"marker\":{\"line\":{\"color\":\"#E5ECF6\",\"width\":0.5},\"pattern\":{\"fillmode\":\"overlay\",\"size\":10,\"solidity\":0.2}},\"type\":\"bar\"}],\"scattergeo\":[{\"type\":\"scattergeo\",\"marker\":{\"colorbar\":{\"outlinewidth\":0,\"ticks\":\"\"}}}],\"scatterpolar\":[{\"type\":\"scatterpolar\",\"marker\":{\"colorbar\":{\"outlinewidth\":0,\"ticks\":\"\"}}}],\"histogram\":[{\"marker\":{\"pattern\":{\"fillmode\":\"overlay\",\"size\":10,\"solidity\":0.2}},\"type\":\"histogram\"}],\"scattergl\":[{\"type\":\"scattergl\",\"marker\":{\"colorbar\":{\"outlinewidth\":0,\"ticks\":\"\"}}}],\"scatter3d\":[{\"type\":\"scatter3d\",\"line\":{\"colorbar\":{\"outlinewidth\":0,\"ticks\":\"\"}},\"marker\":{\"colorbar\":{\"outlinewidth\":0,\"ticks\":\"\"}}}],\"scattermapbox\":[{\"type\":\"scattermapbox\",\"marker\":{\"colorbar\":{\"outlinewidth\":0,\"ticks\":\"\"}}}],\"scatterternary\":[{\"type\":\"scatterternary\",\"marker\":{\"colorbar\":{\"outlinewidth\":0,\"ticks\":\"\"}}}],\"scattercarpet\":[{\"type\":\"scattercarpet\",\"marker\":{\"colorbar\":{\"outlinewidth\":0,\"ticks\":\"\"}}}],\"carpet\":[{\"aaxis\":{\"endlinecolor\":\"#2a3f5f\",\"gridcolor\":\"white\",\"linecolor\":\"white\",\"minorgridcolor\":\"white\",\"startlinecolor\":\"#2a3f5f\"},\"baxis\":{\"endlinecolor\":\"#2a3f5f\",\"gridcolor\":\"white\",\"linecolor\":\"white\",\"minorgridcolor\":\"white\",\"startlinecolor\":\"#2a3f5f\"},\"type\":\"carpet\"}],\"table\":[{\"cells\":{\"fill\":{\"color\":\"#EBF0F8\"},\"line\":{\"color\":\"white\"}},\"header\":{\"fill\":{\"color\":\"#C8D4E3\"},\"line\":{\"color\":\"white\"}},\"type\":\"table\"}],\"barpolar\":[{\"marker\":{\"line\":{\"color\":\"#E5ECF6\",\"width\":0.5},\"pattern\":{\"fillmode\":\"overlay\",\"size\":10,\"solidity\":0.2}},\"type\":\"barpolar\"}],\"pie\":[{\"automargin\":true,\"type\":\"pie\"}]},\"layout\":{\"autotypenumbers\":\"strict\",\"colorway\":[\"#636efa\",\"#EF553B\",\"#00cc96\",\"#ab63fa\",\"#FFA15A\",\"#19d3f3\",\"#FF6692\",\"#B6E880\",\"#FF97FF\",\"#FECB52\"],\"font\":{\"color\":\"#2a3f5f\"},\"hovermode\":\"closest\",\"hoverlabel\":{\"align\":\"left\"},\"paper_bgcolor\":\"white\",\"plot_bgcolor\":\"#E5ECF6\",\"polar\":{\"bgcolor\":\"#E5ECF6\",\"angularaxis\":{\"gridcolor\":\"white\",\"linecolor\":\"white\",\"ticks\":\"\"},\"radialaxis\":{\"gridcolor\":\"white\",\"linecolor\":\"white\",\"ticks\":\"\"}},\"ternary\":{\"bgcolor\":\"#E5ECF6\",\"aaxis\":{\"gridcolor\":\"white\",\"linecolor\":\"white\",\"ticks\":\"\"},\"baxis\":{\"gridcolor\":\"white\",\"linecolor\":\"white\",\"ticks\":\"\"},\"caxis\":{\"gridcolor\":\"white\",\"linecolor\":\"white\",\"ticks\":\"\"}},\"coloraxis\":{\"colorbar\":{\"outlinewidth\":0,\"ticks\":\"\"}},\"colorscale\":{\"sequential\":[[0.0,\"#0d0887\"],[0.1111111111111111,\"#46039f\"],[0.2222222222222222,\"#7201a8\"],[0.3333333333333333,\"#9c179e\"],[0.4444444444444444,\"#bd3786\"],[0.5555555555555556,\"#d8576b\"],[0.6666666666666666,\"#ed7953\"],[0.7777777777777778,\"#fb9f3a\"],[0.8888888888888888,\"#fdca26\"],[1.0,\"#f0f921\"]],\"sequentialminus\":[[0.0,\"#0d0887\"],[0.1111111111111111,\"#46039f\"],[0.2222222222222222,\"#7201a8\"],[0.3333333333333333,\"#9c179e\"],[0.4444444444444444,\"#bd3786\"],[0.5555555555555556,\"#d8576b\"],[0.6666666666666666,\"#ed7953\"],[0.7777777777777778,\"#fb9f3a\"],[0.8888888888888888,\"#fdca26\"],[1.0,\"#f0f921\"]],\"diverging\":[[0,\"#8e0152\"],[0.1,\"#c51b7d\"],[0.2,\"#de77ae\"],[0.3,\"#f1b6da\"],[0.4,\"#fde0ef\"],[0.5,\"#f7f7f7\"],[0.6,\"#e6f5d0\"],[0.7,\"#b8e186\"],[0.8,\"#7fbc41\"],[0.9,\"#4d9221\"],[1,\"#276419\"]]},\"xaxis\":{\"gridcolor\":\"white\",\"linecolor\":\"white\",\"ticks\":\"\",\"title\":{\"standoff\":15},\"zerolinecolor\":\"white\",\"automargin\":true,\"zerolinewidth\":2},\"yaxis\":{\"gridcolor\":\"white\",\"linecolor\":\"white\",\"ticks\":\"\",\"title\":{\"standoff\":15},\"zerolinecolor\":\"white\",\"automargin\":true,\"zerolinewidth\":2},\"scene\":{\"xaxis\":{\"backgroundcolor\":\"#E5ECF6\",\"gridcolor\":\"white\",\"linecolor\":\"white\",\"showbackground\":true,\"ticks\":\"\",\"zerolinecolor\":\"white\",\"gridwidth\":2},\"yaxis\":{\"backgroundcolor\":\"#E5ECF6\",\"gridcolor\":\"white\",\"linecolor\":\"white\",\"showbackground\":true,\"ticks\":\"\",\"zerolinecolor\":\"white\",\"gridwidth\":2},\"zaxis\":{\"backgroundcolor\":\"#E5ECF6\",\"gridcolor\":\"white\",\"linecolor\":\"white\",\"showbackground\":true,\"ticks\":\"\",\"zerolinecolor\":\"white\",\"gridwidth\":2}},\"shapedefaults\":{\"line\":{\"color\":\"#2a3f5f\"}},\"annotationdefaults\":{\"arrowcolor\":\"#2a3f5f\",\"arrowhead\":0,\"arrowwidth\":1},\"geo\":{\"bgcolor\":\"white\",\"landcolor\":\"#E5ECF6\",\"subunitcolor\":\"white\",\"showland\":true,\"showlakes\":true,\"lakecolor\":\"white\"},\"title\":{\"x\":0.05},\"mapbox\":{\"style\":\"light\"}}},\"xaxis\":{\"anchor\":\"y\",\"domain\":[0.0,1.0],\"title\":{\"text\":\"Steps\"}},\"yaxis\":{\"anchor\":\"x\",\"domain\":[0.0,1.0],\"title\":{\"text\":\"Cumulative Time\"}},\"legend\":{\"title\":{\"text\":\"tech\"},\"tracegroupgap\":0},\"margin\":{\"t\":60},\"title\":{\"text\":\"Cumulative Lines of Time per Steps\"}},                        {\"responsive\": true}                    ).then(function(){\n",
       "                            \n",
       "var gd = document.getElementById('68bc70c1-b642-4ae6-a6c0-41eea91f6a7a');\n",
       "var x = new MutationObserver(function (mutations, observer) {{\n",
       "        var display = window.getComputedStyle(gd).display;\n",
       "        if (!display || display === 'none') {{\n",
       "            console.log([gd, 'removed!']);\n",
       "            Plotly.purge(gd);\n",
       "            observer.disconnect();\n",
       "        }}\n",
       "}});\n",
       "\n",
       "// Listen for the removal of the full notebook cells\n",
       "var notebookContainer = gd.closest('#notebook-container');\n",
       "if (notebookContainer) {{\n",
       "    x.observe(notebookContainer, {childList: true});\n",
       "}}\n",
       "\n",
       "// Listen for the clearing of the current output cell\n",
       "var outputEl = gd.closest('.output');\n",
       "if (outputEl) {{\n",
       "    x.observe(outputEl, {childList: true});\n",
       "}}\n",
       "\n",
       "                        })                };                });            </script>        </div>"
      ]
     },
     "metadata": {},
     "output_type": "display_data"
    }
   ],
   "source": [
    "import plotly.express as px\n",
    "import plotly.graph_objects as go\n",
    "from plotly.subplots import make_subplots\n",
    "\n",
    "groups = df.groupby('function')\n",
    "sums = groups.sum()\n",
    "fig1 = px.pie(sums, values='time', names=sums.index)\n",
    "fig1.update_traces(textposition='inside', textinfo='percent+label')\n",
    "\n",
    "fig2 = go.Figure()\n",
    "for name, group in groups:\n",
    "    fig2.add_trace(go.Scatter(x=group['step'], y=group['time'], mode='lines', name=str(name)))\n",
    "fig2.update_layout(xaxis_title='Step', yaxis_title='Time')\n",
    "\n",
    "df['cumulative_time'] = df.groupby('function')['time'].cumsum()\n",
    "fig3 = px.line(df, x='step', y='cumulative_time', color='function')\n",
    "fig3.update_layout(title='Cumulative Lines of Time per Steps', xaxis_title='Steps', yaxis_title='Cumulative Time')\n",
    "\n",
    "df['tech_cumulative_time'] = df.groupby('tech')['time'].cumsum()\n",
    "\n",
    "fig4 = px.line(df, x='step', y='tech_cumulative_time', color='tech')\n",
    "fig4.update_layout(title='Cumulative Lines of Time per Steps',\n",
    "                  xaxis_title='Steps',\n",
    "                  yaxis_title='Cumulative Time')\n",
    "\n",
    "fig1.show()\n",
    "fig3.show()\n",
    "fig2.show()\n",
    "fig4.show()"
   ]
  },
  {
   "cell_type": "code",
   "execution_count": 157,
   "id": "6a8baa4f-c49a-4d8a-8e64-f00c792343ba",
   "metadata": {},
   "outputs": [
    {
     "name": "stdout",
     "output_type": "stream",
     "text": [
      "Step 0 took 1.28 minutes\n",
      "Step 1 took 2.21 minutes\n",
      "Step 2 took 1.86 minutes\n",
      "Step 3 took 2.52 minutes\n",
      "Step 4 took 2.11 minutes\n",
      "Step 5 took 1.80 minutes\n",
      "Step 6 took 2.00 minutes\n",
      "Step 7 took 1.93 minutes\n",
      "Step 8 took 1.57 minutes\n",
      "Step 9 took 2.13 minutes\n",
      "Step 10 took 2.28 minutes\n",
      "Step 11 took 2.15 minutes\n",
      "Step 12 took 1.76 minutes\n",
      "Step 13 took 2.17 minutes\n",
      "Step 14 took 2.27 minutes\n",
      "Step 15 took 1.92 minutes\n",
      "Step 16 took 2.16 minutes\n",
      "Step 17 took 1.88 minutes\n",
      "Step 18 took 2.08 minutes\n",
      "Step 19 took 1.70 minutes\n",
      "Step 20 took 2.15 minutes\n",
      "Step 21 took 1.92 minutes\n",
      "Step 22 took 2.01 minutes\n",
      "Step 23 took 2.03 minutes\n",
      "Step 24 took 1.97 minutes\n",
      "Step 25 took 2.01 minutes\n",
      "Step 26 took 1.99 minutes\n",
      "Step 27 took 2.10 minutes\n",
      "Step 28 took 2.20 minutes\n",
      "Step 29 took 1.85 minutes\n",
      "Step 30 took 1.98 minutes\n",
      "Step 31 took 2.14 minutes\n",
      "Step 32 took 2.16 minutes\n",
      "Step 33 took 1.90 minutes\n",
      "Step 34 took 2.15 minutes\n",
      "Step 35 took 2.83 minutes\n",
      "Step 36 took 2.29 minutes\n",
      "Step 37 took 2.31 minutes\n",
      "Step 38 took 1.93 minutes\n",
      "Step 39 took 1.89 minutes\n",
      "Step 40 took 2.00 minutes\n",
      "Step 41 took 1.88 minutes\n",
      "Step 42 took 1.92 minutes\n",
      "Step 43 took 2.56 minutes\n",
      "Step 44 took 2.15 minutes\n",
      "Step 45 took 2.09 minutes\n",
      "Step 46 took 2.13 minutes\n",
      "Step 47 took 2.15 minutes\n",
      "Step 48 took 1.93 minutes\n",
      "Step 49 took 1.96 minutes\n",
      "Step 50 took 1.79 minutes\n",
      "Step 51 took 1.82 minutes\n",
      "Step 52 took 2.15 minutes\n",
      "Step 53 took 2.19 minutes\n",
      "Step 54 took 1.74 minutes\n",
      "Step 55 took 2.18 minutes\n",
      "Step 56 took 1.79 minutes\n",
      "Step 57 took 2.07 minutes\n",
      "Step 58 took 2.11 minutes\n",
      "Step 59 took 1.93 minutes\n",
      "Step 60 took 1.93 minutes\n",
      "Step 61 took 1.80 minutes\n",
      "Step 62 took 2.27 minutes\n",
      "Step 63 took 2.35 minutes\n",
      "Step 64 took 2.02 minutes\n",
      "Step 65 took 1.86 minutes\n",
      "Step 66 took 2.14 minutes\n",
      "Step 67 took 2.17 minutes\n",
      "Step 68 took 2.04 minutes\n",
      "Step 69 took 1.73 minutes\n",
      "Step 70 took 2.09 minutes\n",
      "Step 71 took 2.09 minutes\n",
      "Step 72 took 1.61 minutes\n",
      "Step 73 took 1.96 minutes\n",
      "Step 74 took 2.35 minutes\n",
      "Step 75 took 2.44 minutes\n",
      "Step 76 took 2.01 minutes\n",
      "Step 77 took 2.24 minutes\n",
      "Step 78 took 1.99 minutes\n",
      "Step 79 took 2.05 minutes\n",
      "Step 80 took 1.94 minutes\n",
      "Step 81 took 2.08 minutes\n",
      "Step 82 took 2.09 minutes\n",
      "Step 83 took 1.94 minutes\n",
      "Step 84 took 1.95 minutes\n",
      "Step 85 took 2.26 minutes\n",
      "Step 86 took 2.07 minutes\n",
      "Step 87 took 2.38 minutes\n",
      "Step 88 took 2.03 minutes\n",
      "Step 89 took 2.02 minutes\n",
      "Step 90 took 1.98 minutes\n",
      "Step 91 took 2.07 minutes\n",
      "Step 92 took 1.49 minutes\n",
      "Step 93 took 1.95 minutes\n",
      "Step 94 took 1.70 minutes\n",
      "Step 95 took 2.07 minutes\n",
      "Step 96 took 2.27 minutes\n",
      "Step 97 took 1.96 minutes\n",
      "Step 98 took 2.22 minutes\n",
      "Step 99 took 1.87 minutes\n",
      "total time is: 3.39 hours\n"
     ]
    }
   ],
   "source": [
    "for step in set(df['step']):\n",
    "    print(f\"Step {step} took {df[df['step']==step]['time'].sum()/60:.2f} minutes\")\n",
    "print(f\"total time is: {df['time'].sum()/(60*60):.2f} hours\")"
   ]
  },
  {
   "cell_type": "code",
   "execution_count": 158,
   "id": "48b940eb-05eb-4bbc-8302-4503d907e862",
   "metadata": {},
   "outputs": [
    {
     "name": "stdout",
     "output_type": "stream",
     "text": [
      "Average time:\n"
     ]
    },
    {
     "data": {
      "application/vnd.plotly.v1+json": {
       "config": {
        "plotlyServerURL": "https://plot.ly"
       },
       "data": [
        {
         "domain": {
          "x": [
           0,
           1
          ],
          "y": [
           0,
           1
          ]
         },
         "hovertemplate": "function=%{label}<br>time=%{value}<extra></extra>",
         "labels": [
          "dvc",
          "lakefs",
          "lfs git",
          "lfs s3",
          "s3",
          "xethub git",
          "xethub py"
         ],
         "legendgroup": "",
         "name": "",
         "showlegend": true,
         "textinfo": "percent+label",
         "textposition": "inside",
         "type": "pie",
         "values": [
          22.694076237678527,
          14.542943804264068,
          18.73454448699951,
          23.413054761886595,
          13.509983711242675,
          1.6134316253662109,
          27.635986177921296
         ]
        }
       ],
       "layout": {
        "autosize": true,
        "legend": {
         "tracegroupgap": 0
        },
        "margin": {
         "t": 60
        },
        "template": {
         "data": {
          "bar": [
           {
            "error_x": {
             "color": "#2a3f5f"
            },
            "error_y": {
             "color": "#2a3f5f"
            },
            "marker": {
             "line": {
              "color": "#E5ECF6",
              "width": 0.5
             },
             "pattern": {
              "fillmode": "overlay",
              "size": 10,
              "solidity": 0.2
             }
            },
            "type": "bar"
           }
          ],
          "barpolar": [
           {
            "marker": {
             "line": {
              "color": "#E5ECF6",
              "width": 0.5
             },
             "pattern": {
              "fillmode": "overlay",
              "size": 10,
              "solidity": 0.2
             }
            },
            "type": "barpolar"
           }
          ],
          "carpet": [
           {
            "aaxis": {
             "endlinecolor": "#2a3f5f",
             "gridcolor": "white",
             "linecolor": "white",
             "minorgridcolor": "white",
             "startlinecolor": "#2a3f5f"
            },
            "baxis": {
             "endlinecolor": "#2a3f5f",
             "gridcolor": "white",
             "linecolor": "white",
             "minorgridcolor": "white",
             "startlinecolor": "#2a3f5f"
            },
            "type": "carpet"
           }
          ],
          "choropleth": [
           {
            "colorbar": {
             "outlinewidth": 0,
             "ticks": ""
            },
            "type": "choropleth"
           }
          ],
          "contour": [
           {
            "colorbar": {
             "outlinewidth": 0,
             "ticks": ""
            },
            "colorscale": [
             [
              0,
              "#0d0887"
             ],
             [
              0.1111111111111111,
              "#46039f"
             ],
             [
              0.2222222222222222,
              "#7201a8"
             ],
             [
              0.3333333333333333,
              "#9c179e"
             ],
             [
              0.4444444444444444,
              "#bd3786"
             ],
             [
              0.5555555555555556,
              "#d8576b"
             ],
             [
              0.6666666666666666,
              "#ed7953"
             ],
             [
              0.7777777777777778,
              "#fb9f3a"
             ],
             [
              0.8888888888888888,
              "#fdca26"
             ],
             [
              1,
              "#f0f921"
             ]
            ],
            "type": "contour"
           }
          ],
          "contourcarpet": [
           {
            "colorbar": {
             "outlinewidth": 0,
             "ticks": ""
            },
            "type": "contourcarpet"
           }
          ],
          "heatmap": [
           {
            "colorbar": {
             "outlinewidth": 0,
             "ticks": ""
            },
            "colorscale": [
             [
              0,
              "#0d0887"
             ],
             [
              0.1111111111111111,
              "#46039f"
             ],
             [
              0.2222222222222222,
              "#7201a8"
             ],
             [
              0.3333333333333333,
              "#9c179e"
             ],
             [
              0.4444444444444444,
              "#bd3786"
             ],
             [
              0.5555555555555556,
              "#d8576b"
             ],
             [
              0.6666666666666666,
              "#ed7953"
             ],
             [
              0.7777777777777778,
              "#fb9f3a"
             ],
             [
              0.8888888888888888,
              "#fdca26"
             ],
             [
              1,
              "#f0f921"
             ]
            ],
            "type": "heatmap"
           }
          ],
          "heatmapgl": [
           {
            "colorbar": {
             "outlinewidth": 0,
             "ticks": ""
            },
            "colorscale": [
             [
              0,
              "#0d0887"
             ],
             [
              0.1111111111111111,
              "#46039f"
             ],
             [
              0.2222222222222222,
              "#7201a8"
             ],
             [
              0.3333333333333333,
              "#9c179e"
             ],
             [
              0.4444444444444444,
              "#bd3786"
             ],
             [
              0.5555555555555556,
              "#d8576b"
             ],
             [
              0.6666666666666666,
              "#ed7953"
             ],
             [
              0.7777777777777778,
              "#fb9f3a"
             ],
             [
              0.8888888888888888,
              "#fdca26"
             ],
             [
              1,
              "#f0f921"
             ]
            ],
            "type": "heatmapgl"
           }
          ],
          "histogram": [
           {
            "marker": {
             "pattern": {
              "fillmode": "overlay",
              "size": 10,
              "solidity": 0.2
             }
            },
            "type": "histogram"
           }
          ],
          "histogram2d": [
           {
            "colorbar": {
             "outlinewidth": 0,
             "ticks": ""
            },
            "colorscale": [
             [
              0,
              "#0d0887"
             ],
             [
              0.1111111111111111,
              "#46039f"
             ],
             [
              0.2222222222222222,
              "#7201a8"
             ],
             [
              0.3333333333333333,
              "#9c179e"
             ],
             [
              0.4444444444444444,
              "#bd3786"
             ],
             [
              0.5555555555555556,
              "#d8576b"
             ],
             [
              0.6666666666666666,
              "#ed7953"
             ],
             [
              0.7777777777777778,
              "#fb9f3a"
             ],
             [
              0.8888888888888888,
              "#fdca26"
             ],
             [
              1,
              "#f0f921"
             ]
            ],
            "type": "histogram2d"
           }
          ],
          "histogram2dcontour": [
           {
            "colorbar": {
             "outlinewidth": 0,
             "ticks": ""
            },
            "colorscale": [
             [
              0,
              "#0d0887"
             ],
             [
              0.1111111111111111,
              "#46039f"
             ],
             [
              0.2222222222222222,
              "#7201a8"
             ],
             [
              0.3333333333333333,
              "#9c179e"
             ],
             [
              0.4444444444444444,
              "#bd3786"
             ],
             [
              0.5555555555555556,
              "#d8576b"
             ],
             [
              0.6666666666666666,
              "#ed7953"
             ],
             [
              0.7777777777777778,
              "#fb9f3a"
             ],
             [
              0.8888888888888888,
              "#fdca26"
             ],
             [
              1,
              "#f0f921"
             ]
            ],
            "type": "histogram2dcontour"
           }
          ],
          "mesh3d": [
           {
            "colorbar": {
             "outlinewidth": 0,
             "ticks": ""
            },
            "type": "mesh3d"
           }
          ],
          "parcoords": [
           {
            "line": {
             "colorbar": {
              "outlinewidth": 0,
              "ticks": ""
             }
            },
            "type": "parcoords"
           }
          ],
          "pie": [
           {
            "automargin": true,
            "type": "pie"
           }
          ],
          "scatter": [
           {
            "fillpattern": {
             "fillmode": "overlay",
             "size": 10,
             "solidity": 0.2
            },
            "type": "scatter"
           }
          ],
          "scatter3d": [
           {
            "line": {
             "colorbar": {
              "outlinewidth": 0,
              "ticks": ""
             }
            },
            "marker": {
             "colorbar": {
              "outlinewidth": 0,
              "ticks": ""
             }
            },
            "type": "scatter3d"
           }
          ],
          "scattercarpet": [
           {
            "marker": {
             "colorbar": {
              "outlinewidth": 0,
              "ticks": ""
             }
            },
            "type": "scattercarpet"
           }
          ],
          "scattergeo": [
           {
            "marker": {
             "colorbar": {
              "outlinewidth": 0,
              "ticks": ""
             }
            },
            "type": "scattergeo"
           }
          ],
          "scattergl": [
           {
            "marker": {
             "colorbar": {
              "outlinewidth": 0,
              "ticks": ""
             }
            },
            "type": "scattergl"
           }
          ],
          "scattermapbox": [
           {
            "marker": {
             "colorbar": {
              "outlinewidth": 0,
              "ticks": ""
             }
            },
            "type": "scattermapbox"
           }
          ],
          "scatterpolar": [
           {
            "marker": {
             "colorbar": {
              "outlinewidth": 0,
              "ticks": ""
             }
            },
            "type": "scatterpolar"
           }
          ],
          "scatterpolargl": [
           {
            "marker": {
             "colorbar": {
              "outlinewidth": 0,
              "ticks": ""
             }
            },
            "type": "scatterpolargl"
           }
          ],
          "scatterternary": [
           {
            "marker": {
             "colorbar": {
              "outlinewidth": 0,
              "ticks": ""
             }
            },
            "type": "scatterternary"
           }
          ],
          "surface": [
           {
            "colorbar": {
             "outlinewidth": 0,
             "ticks": ""
            },
            "colorscale": [
             [
              0,
              "#0d0887"
             ],
             [
              0.1111111111111111,
              "#46039f"
             ],
             [
              0.2222222222222222,
              "#7201a8"
             ],
             [
              0.3333333333333333,
              "#9c179e"
             ],
             [
              0.4444444444444444,
              "#bd3786"
             ],
             [
              0.5555555555555556,
              "#d8576b"
             ],
             [
              0.6666666666666666,
              "#ed7953"
             ],
             [
              0.7777777777777778,
              "#fb9f3a"
             ],
             [
              0.8888888888888888,
              "#fdca26"
             ],
             [
              1,
              "#f0f921"
             ]
            ],
            "type": "surface"
           }
          ],
          "table": [
           {
            "cells": {
             "fill": {
              "color": "#EBF0F8"
             },
             "line": {
              "color": "white"
             }
            },
            "header": {
             "fill": {
              "color": "#C8D4E3"
             },
             "line": {
              "color": "white"
             }
            },
            "type": "table"
           }
          ]
         },
         "layout": {
          "annotationdefaults": {
           "arrowcolor": "#2a3f5f",
           "arrowhead": 0,
           "arrowwidth": 1
          },
          "autotypenumbers": "strict",
          "coloraxis": {
           "colorbar": {
            "outlinewidth": 0,
            "ticks": ""
           }
          },
          "colorscale": {
           "diverging": [
            [
             0,
             "#8e0152"
            ],
            [
             0.1,
             "#c51b7d"
            ],
            [
             0.2,
             "#de77ae"
            ],
            [
             0.3,
             "#f1b6da"
            ],
            [
             0.4,
             "#fde0ef"
            ],
            [
             0.5,
             "#f7f7f7"
            ],
            [
             0.6,
             "#e6f5d0"
            ],
            [
             0.7,
             "#b8e186"
            ],
            [
             0.8,
             "#7fbc41"
            ],
            [
             0.9,
             "#4d9221"
            ],
            [
             1,
             "#276419"
            ]
           ],
           "sequential": [
            [
             0,
             "#0d0887"
            ],
            [
             0.1111111111111111,
             "#46039f"
            ],
            [
             0.2222222222222222,
             "#7201a8"
            ],
            [
             0.3333333333333333,
             "#9c179e"
            ],
            [
             0.4444444444444444,
             "#bd3786"
            ],
            [
             0.5555555555555556,
             "#d8576b"
            ],
            [
             0.6666666666666666,
             "#ed7953"
            ],
            [
             0.7777777777777778,
             "#fb9f3a"
            ],
            [
             0.8888888888888888,
             "#fdca26"
            ],
            [
             1,
             "#f0f921"
            ]
           ],
           "sequentialminus": [
            [
             0,
             "#0d0887"
            ],
            [
             0.1111111111111111,
             "#46039f"
            ],
            [
             0.2222222222222222,
             "#7201a8"
            ],
            [
             0.3333333333333333,
             "#9c179e"
            ],
            [
             0.4444444444444444,
             "#bd3786"
            ],
            [
             0.5555555555555556,
             "#d8576b"
            ],
            [
             0.6666666666666666,
             "#ed7953"
            ],
            [
             0.7777777777777778,
             "#fb9f3a"
            ],
            [
             0.8888888888888888,
             "#fdca26"
            ],
            [
             1,
             "#f0f921"
            ]
           ]
          },
          "colorway": [
           "#636efa",
           "#EF553B",
           "#00cc96",
           "#ab63fa",
           "#FFA15A",
           "#19d3f3",
           "#FF6692",
           "#B6E880",
           "#FF97FF",
           "#FECB52"
          ],
          "font": {
           "color": "#2a3f5f"
          },
          "geo": {
           "bgcolor": "white",
           "lakecolor": "white",
           "landcolor": "#E5ECF6",
           "showlakes": true,
           "showland": true,
           "subunitcolor": "white"
          },
          "hoverlabel": {
           "align": "left"
          },
          "hovermode": "closest",
          "mapbox": {
           "style": "light"
          },
          "paper_bgcolor": "white",
          "plot_bgcolor": "#E5ECF6",
          "polar": {
           "angularaxis": {
            "gridcolor": "white",
            "linecolor": "white",
            "ticks": ""
           },
           "bgcolor": "#E5ECF6",
           "radialaxis": {
            "gridcolor": "white",
            "linecolor": "white",
            "ticks": ""
           }
          },
          "scene": {
           "xaxis": {
            "backgroundcolor": "#E5ECF6",
            "gridcolor": "white",
            "gridwidth": 2,
            "linecolor": "white",
            "showbackground": true,
            "ticks": "",
            "zerolinecolor": "white"
           },
           "yaxis": {
            "backgroundcolor": "#E5ECF6",
            "gridcolor": "white",
            "gridwidth": 2,
            "linecolor": "white",
            "showbackground": true,
            "ticks": "",
            "zerolinecolor": "white"
           },
           "zaxis": {
            "backgroundcolor": "#E5ECF6",
            "gridcolor": "white",
            "gridwidth": 2,
            "linecolor": "white",
            "showbackground": true,
            "ticks": "",
            "zerolinecolor": "white"
           }
          },
          "shapedefaults": {
           "line": {
            "color": "#2a3f5f"
           }
          },
          "ternary": {
           "aaxis": {
            "gridcolor": "white",
            "linecolor": "white",
            "ticks": ""
           },
           "baxis": {
            "gridcolor": "white",
            "linecolor": "white",
            "ticks": ""
           },
           "bgcolor": "#E5ECF6",
           "caxis": {
            "gridcolor": "white",
            "linecolor": "white",
            "ticks": ""
           }
          },
          "title": {
           "x": 0.05
          },
          "xaxis": {
           "automargin": true,
           "gridcolor": "white",
           "linecolor": "white",
           "ticks": "",
           "title": {
            "standoff": 15
           },
           "zerolinecolor": "white",
           "zerolinewidth": 2
          },
          "yaxis": {
           "automargin": true,
           "gridcolor": "white",
           "linecolor": "white",
           "ticks": "",
           "title": {
            "standoff": 15
           },
           "zerolinecolor": "white",
           "zerolinewidth": 2
          }
         }
        }
       }
      },
      "image/png": "[encoded data removed]",
      "text/html": [
       "<div>                            <div id=\"42675b1e-be9c-4499-88b4-00a6538f6a54\" class=\"plotly-graph-div\" style=\"height:525px; width:100%;\"></div>            <script type=\"text/javascript\">                require([\"plotly\"], function(Plotly) {                    window.PLOTLYENV=window.PLOTLYENV || {};                                    if (document.getElementById(\"42675b1e-be9c-4499-88b4-00a6538f6a54\")) {                    Plotly.newPlot(                        \"42675b1e-be9c-4499-88b4-00a6538f6a54\",                        [{\"domain\":{\"x\":[0.0,1.0],\"y\":[0.0,1.0]},\"hovertemplate\":\"function=%{label}\\u003cbr\\u003etime=%{value}\\u003cextra\\u003e\\u003c\\u002fextra\\u003e\",\"labels\":[\"dvc\",\"lakefs\",\"lfs git\",\"lfs s3\",\"s3\",\"xethub git\",\"xethub py\"],\"legendgroup\":\"\",\"name\":\"\",\"showlegend\":true,\"values\":[22.694076237678527,14.542943804264068,18.73454448699951,23.413054761886595,13.509983711242675,1.6134316253662109,27.635986177921296],\"type\":\"pie\",\"textinfo\":\"percent+label\",\"textposition\":\"inside\"}],                        {\"template\":{\"data\":{\"histogram2dcontour\":[{\"type\":\"histogram2dcontour\",\"colorbar\":{\"outlinewidth\":0,\"ticks\":\"\"},\"colorscale\":[[0.0,\"#0d0887\"],[0.1111111111111111,\"#46039f\"],[0.2222222222222222,\"#7201a8\"],[0.3333333333333333,\"#9c179e\"],[0.4444444444444444,\"#bd3786\"],[0.5555555555555556,\"#d8576b\"],[0.6666666666666666,\"#ed7953\"],[0.7777777777777778,\"#fb9f3a\"],[0.8888888888888888,\"#fdca26\"],[1.0,\"#f0f921\"]]}],\"choropleth\":[{\"type\":\"choropleth\",\"colorbar\":{\"outlinewidth\":0,\"ticks\":\"\"}}],\"histogram2d\":[{\"type\":\"histogram2d\",\"colorbar\":{\"outlinewidth\":0,\"ticks\":\"\"},\"colorscale\":[[0.0,\"#0d0887\"],[0.1111111111111111,\"#46039f\"],[0.2222222222222222,\"#7201a8\"],[0.3333333333333333,\"#9c179e\"],[0.4444444444444444,\"#bd3786\"],[0.5555555555555556,\"#d8576b\"],[0.6666666666666666,\"#ed7953\"],[0.7777777777777778,\"#fb9f3a\"],[0.8888888888888888,\"#fdca26\"],[1.0,\"#f0f921\"]]}],\"heatmap\":[{\"type\":\"heatmap\",\"colorbar\":{\"outlinewidth\":0,\"ticks\":\"\"},\"colorscale\":[[0.0,\"#0d0887\"],[0.1111111111111111,\"#46039f\"],[0.2222222222222222,\"#7201a8\"],[0.3333333333333333,\"#9c179e\"],[0.4444444444444444,\"#bd3786\"],[0.5555555555555556,\"#d8576b\"],[0.6666666666666666,\"#ed7953\"],[0.7777777777777778,\"#fb9f3a\"],[0.8888888888888888,\"#fdca26\"],[1.0,\"#f0f921\"]]}],\"heatmapgl\":[{\"type\":\"heatmapgl\",\"colorbar\":{\"outlinewidth\":0,\"ticks\":\"\"},\"colorscale\":[[0.0,\"#0d0887\"],[0.1111111111111111,\"#46039f\"],[0.2222222222222222,\"#7201a8\"],[0.3333333333333333,\"#9c179e\"],[0.4444444444444444,\"#bd3786\"],[0.5555555555555556,\"#d8576b\"],[0.6666666666666666,\"#ed7953\"],[0.7777777777777778,\"#fb9f3a\"],[0.8888888888888888,\"#fdca26\"],[1.0,\"#f0f921\"]]}],\"contourcarpet\":[{\"type\":\"contourcarpet\",\"colorbar\":{\"outlinewidth\":0,\"ticks\":\"\"}}],\"contour\":[{\"type\":\"contour\",\"colorbar\":{\"outlinewidth\":0,\"ticks\":\"\"},\"colorscale\":[[0.0,\"#0d0887\"],[0.1111111111111111,\"#46039f\"],[0.2222222222222222,\"#7201a8\"],[0.3333333333333333,\"#9c179e\"],[0.4444444444444444,\"#bd3786\"],[0.5555555555555556,\"#d8576b\"],[0.6666666666666666,\"#ed7953\"],[0.7777777777777778,\"#fb9f3a\"],[0.8888888888888888,\"#fdca26\"],[1.0,\"#f0f921\"]]}],\"surface\":[{\"type\":\"surface\",\"colorbar\":{\"outlinewidth\":0,\"ticks\":\"\"},\"colorscale\":[[0.0,\"#0d0887\"],[0.1111111111111111,\"#46039f\"],[0.2222222222222222,\"#7201a8\"],[0.3333333333333333,\"#9c179e\"],[0.4444444444444444,\"#bd3786\"],[0.5555555555555556,\"#d8576b\"],[0.6666666666666666,\"#ed7953\"],[0.7777777777777778,\"#fb9f3a\"],[0.8888888888888888,\"#fdca26\"],[1.0,\"#f0f921\"]]}],\"mesh3d\":[{\"type\":\"mesh3d\",\"colorbar\":{\"outlinewidth\":0,\"ticks\":\"\"}}],\"scatter\":[{\"fillpattern\":{\"fillmode\":\"overlay\",\"size\":10,\"solidity\":0.2},\"type\":\"scatter\"}],\"parcoords\":[{\"type\":\"parcoords\",\"line\":{\"colorbar\":{\"outlinewidth\":0,\"ticks\":\"\"}}}],\"scatterpolargl\":[{\"type\":\"scatterpolargl\",\"marker\":{\"colorbar\":{\"outlinewidth\":0,\"ticks\":\"\"}}}],\"bar\":[{\"error_x\":{\"color\":\"#2a3f5f\"},\"error_y\":{\"color\":\"#2a3f5f\"},\"marker\":{\"line\":{\"color\":\"#E5ECF6\",\"width\":0.5},\"pattern\":{\"fillmode\":\"overlay\",\"size\":10,\"solidity\":0.2}},\"type\":\"bar\"}],\"scattergeo\":[{\"type\":\"scattergeo\",\"marker\":{\"colorbar\":{\"outlinewidth\":0,\"ticks\":\"\"}}}],\"scatterpolar\":[{\"type\":\"scatterpolar\",\"marker\":{\"colorbar\":{\"outlinewidth\":0,\"ticks\":\"\"}}}],\"histogram\":[{\"marker\":{\"pattern\":{\"fillmode\":\"overlay\",\"size\":10,\"solidity\":0.2}},\"type\":\"histogram\"}],\"scattergl\":[{\"type\":\"scattergl\",\"marker\":{\"colorbar\":{\"outlinewidth\":0,\"ticks\":\"\"}}}],\"scatter3d\":[{\"type\":\"scatter3d\",\"line\":{\"colorbar\":{\"outlinewidth\":0,\"ticks\":\"\"}},\"marker\":{\"colorbar\":{\"outlinewidth\":0,\"ticks\":\"\"}}}],\"scattermapbox\":[{\"type\":\"scattermapbox\",\"marker\":{\"colorbar\":{\"outlinewidth\":0,\"ticks\":\"\"}}}],\"scatterternary\":[{\"type\":\"scatterternary\",\"marker\":{\"colorbar\":{\"outlinewidth\":0,\"ticks\":\"\"}}}],\"scattercarpet\":[{\"type\":\"scattercarpet\",\"marker\":{\"colorbar\":{\"outlinewidth\":0,\"ticks\":\"\"}}}],\"carpet\":[{\"aaxis\":{\"endlinecolor\":\"#2a3f5f\",\"gridcolor\":\"white\",\"linecolor\":\"white\",\"minorgridcolor\":\"white\",\"startlinecolor\":\"#2a3f5f\"},\"baxis\":{\"endlinecolor\":\"#2a3f5f\",\"gridcolor\":\"white\",\"linecolor\":\"white\",\"minorgridcolor\":\"white\",\"startlinecolor\":\"#2a3f5f\"},\"type\":\"carpet\"}],\"table\":[{\"cells\":{\"fill\":{\"color\":\"#EBF0F8\"},\"line\":{\"color\":\"white\"}},\"header\":{\"fill\":{\"color\":\"#C8D4E3\"},\"line\":{\"color\":\"white\"}},\"type\":\"table\"}],\"barpolar\":[{\"marker\":{\"line\":{\"color\":\"#E5ECF6\",\"width\":0.5},\"pattern\":{\"fillmode\":\"overlay\",\"size\":10,\"solidity\":0.2}},\"type\":\"barpolar\"}],\"pie\":[{\"automargin\":true,\"type\":\"pie\"}]},\"layout\":{\"autotypenumbers\":\"strict\",\"colorway\":[\"#636efa\",\"#EF553B\",\"#00cc96\",\"#ab63fa\",\"#FFA15A\",\"#19d3f3\",\"#FF6692\",\"#B6E880\",\"#FF97FF\",\"#FECB52\"],\"font\":{\"color\":\"#2a3f5f\"},\"hovermode\":\"closest\",\"hoverlabel\":{\"align\":\"left\"},\"paper_bgcolor\":\"white\",\"plot_bgcolor\":\"#E5ECF6\",\"polar\":{\"bgcolor\":\"#E5ECF6\",\"angularaxis\":{\"gridcolor\":\"white\",\"linecolor\":\"white\",\"ticks\":\"\"},\"radialaxis\":{\"gridcolor\":\"white\",\"linecolor\":\"white\",\"ticks\":\"\"}},\"ternary\":{\"bgcolor\":\"#E5ECF6\",\"aaxis\":{\"gridcolor\":\"white\",\"linecolor\":\"white\",\"ticks\":\"\"},\"baxis\":{\"gridcolor\":\"white\",\"linecolor\":\"white\",\"ticks\":\"\"},\"caxis\":{\"gridcolor\":\"white\",\"linecolor\":\"white\",\"ticks\":\"\"}},\"coloraxis\":{\"colorbar\":{\"outlinewidth\":0,\"ticks\":\"\"}},\"colorscale\":{\"sequential\":[[0.0,\"#0d0887\"],[0.1111111111111111,\"#46039f\"],[0.2222222222222222,\"#7201a8\"],[0.3333333333333333,\"#9c179e\"],[0.4444444444444444,\"#bd3786\"],[0.5555555555555556,\"#d8576b\"],[0.6666666666666666,\"#ed7953\"],[0.7777777777777778,\"#fb9f3a\"],[0.8888888888888888,\"#fdca26\"],[1.0,\"#f0f921\"]],\"sequentialminus\":[[0.0,\"#0d0887\"],[0.1111111111111111,\"#46039f\"],[0.2222222222222222,\"#7201a8\"],[0.3333333333333333,\"#9c179e\"],[0.4444444444444444,\"#bd3786\"],[0.5555555555555556,\"#d8576b\"],[0.6666666666666666,\"#ed7953\"],[0.7777777777777778,\"#fb9f3a\"],[0.8888888888888888,\"#fdca26\"],[1.0,\"#f0f921\"]],\"diverging\":[[0,\"#8e0152\"],[0.1,\"#c51b7d\"],[0.2,\"#de77ae\"],[0.3,\"#f1b6da\"],[0.4,\"#fde0ef\"],[0.5,\"#f7f7f7\"],[0.6,\"#e6f5d0\"],[0.7,\"#b8e186\"],[0.8,\"#7fbc41\"],[0.9,\"#4d9221\"],[1,\"#276419\"]]},\"xaxis\":{\"gridcolor\":\"white\",\"linecolor\":\"white\",\"ticks\":\"\",\"title\":{\"standoff\":15},\"zerolinecolor\":\"white\",\"automargin\":true,\"zerolinewidth\":2},\"yaxis\":{\"gridcolor\":\"white\",\"linecolor\":\"white\",\"ticks\":\"\",\"title\":{\"standoff\":15},\"zerolinecolor\":\"white\",\"automargin\":true,\"zerolinewidth\":2},\"scene\":{\"xaxis\":{\"backgroundcolor\":\"#E5ECF6\",\"gridcolor\":\"white\",\"linecolor\":\"white\",\"showbackground\":true,\"ticks\":\"\",\"zerolinecolor\":\"white\",\"gridwidth\":2},\"yaxis\":{\"backgroundcolor\":\"#E5ECF6\",\"gridcolor\":\"white\",\"linecolor\":\"white\",\"showbackground\":true,\"ticks\":\"\",\"zerolinecolor\":\"white\",\"gridwidth\":2},\"zaxis\":{\"backgroundcolor\":\"#E5ECF6\",\"gridcolor\":\"white\",\"linecolor\":\"white\",\"showbackground\":true,\"ticks\":\"\",\"zerolinecolor\":\"white\",\"gridwidth\":2}},\"shapedefaults\":{\"line\":{\"color\":\"#2a3f5f\"}},\"annotationdefaults\":{\"arrowcolor\":\"#2a3f5f\",\"arrowhead\":0,\"arrowwidth\":1},\"geo\":{\"bgcolor\":\"white\",\"landcolor\":\"#E5ECF6\",\"subunitcolor\":\"white\",\"showland\":true,\"showlakes\":true,\"lakecolor\":\"white\"},\"title\":{\"x\":0.05},\"mapbox\":{\"style\":\"light\"}}},\"legend\":{\"tracegroupgap\":0},\"margin\":{\"t\":60}},                        {\"responsive\": true}                    ).then(function(){\n",
       "                            \n",
       "var gd = document.getElementById('42675b1e-be9c-4499-88b4-00a6538f6a54');\n",
       "var x = new MutationObserver(function (mutations, observer) {{\n",
       "        var display = window.getComputedStyle(gd).display;\n",
       "        if (!display || display === 'none') {{\n",
       "            console.log([gd, 'removed!']);\n",
       "            Plotly.purge(gd);\n",
       "            observer.disconnect();\n",
       "        }}\n",
       "}});\n",
       "\n",
       "// Listen for the removal of the full notebook cells\n",
       "var notebookContainer = gd.closest('#notebook-container');\n",
       "if (notebookContainer) {{\n",
       "    x.observe(notebookContainer, {childList: true});\n",
       "}}\n",
       "\n",
       "// Listen for the clearing of the current output cell\n",
       "var outputEl = gd.closest('.output');\n",
       "if (outputEl) {{\n",
       "    x.observe(outputEl, {childList: true});\n",
       "}}\n",
       "\n",
       "                        })                };                });            </script>        </div>"
      ]
     },
     "metadata": {},
     "output_type": "display_data"
    },
    {
     "data": {
      "text/plain": [
       "function\n",
       "xethub git     1.000000\n",
       "s3             8.373447\n",
       "lakefs         9.013672\n",
       "lfs git       11.611614\n",
       "dvc           14.065719\n",
       "lfs s3        14.511340\n",
       "xethub py     17.128700\n",
       "Name: time, dtype: float64"
      ]
     },
     "execution_count": 158,
     "metadata": {},
     "output_type": "execute_result"
    }
   ],
   "source": [
    "times = df.groupby('function')['time'].mean()\n",
    "ratios = times / times.min()\n",
    "print(f\"Average time:\")\n",
    "fig5 = px.pie(times, values='time', names=times.index)\n",
    "fig5.update_traces(textposition='inside', textinfo='percent+label')\n",
    "fig5.show()\n",
    "ratios.sort_values()"
   ]
  },
  {
   "cell_type": "code",
   "execution_count": 150,
   "id": "065665f0-3e97-450c-b069-90c1739120d7",
   "metadata": {},
   "outputs": [
    {
     "name": "stdout",
     "output_type": "stream",
     "text": [
      "Cumulative time ratio:\n"
     ]
    },
    {
     "data": {
      "application/vnd.plotly.v1+json": {
       "config": {
        "plotlyServerURL": "https://plot.ly"
       },
       "data": [
        {
         "domain": {
          "x": [
           0,
           1
          ],
          "y": [
           0,
           1
          ]
         },
         "hovertemplate": "function=%{label}<br>cumulative_time=%{value}<extra></extra>",
         "labels": [
          "dvc",
          "lakefs",
          "lfs git",
          "lfs s3",
          "s3",
          "xethub git",
          "xethub py"
         ],
         "legendgroup": "",
         "name": "",
         "showlegend": true,
         "textinfo": "percent+label",
         "textposition": "inside",
         "type": "pie",
         "values": [
          452.9876174926758,
          303.8911180496216,
          303.4720211029053,
          516.2436878681183,
          269.304678440094,
          44.28036403656006,
          691.2151391506195
         ]
        }
       ],
       "layout": {
        "autosize": true,
        "legend": {
         "tracegroupgap": 0
        },
        "margin": {
         "t": 60
        },
        "template": {
         "data": {
          "bar": [
           {
            "error_x": {
             "color": "#2a3f5f"
            },
            "error_y": {
             "color": "#2a3f5f"
            },
            "marker": {
             "line": {
              "color": "#E5ECF6",
              "width": 0.5
             },
             "pattern": {
              "fillmode": "overlay",
              "size": 10,
              "solidity": 0.2
             }
            },
            "type": "bar"
           }
          ],
          "barpolar": [
           {
            "marker": {
             "line": {
              "color": "#E5ECF6",
              "width": 0.5
             },
             "pattern": {
              "fillmode": "overlay",
              "size": 10,
              "solidity": 0.2
             }
            },
            "type": "barpolar"
           }
          ],
          "carpet": [
           {
            "aaxis": {
             "endlinecolor": "#2a3f5f",
             "gridcolor": "white",
             "linecolor": "white",
             "minorgridcolor": "white",
             "startlinecolor": "#2a3f5f"
            },
            "baxis": {
             "endlinecolor": "#2a3f5f",
             "gridcolor": "white",
             "linecolor": "white",
             "minorgridcolor": "white",
             "startlinecolor": "#2a3f5f"
            },
            "type": "carpet"
           }
          ],
          "choropleth": [
           {
            "colorbar": {
             "outlinewidth": 0,
             "ticks": ""
            },
            "type": "choropleth"
           }
          ],
          "contour": [
           {
            "colorbar": {
             "outlinewidth": 0,
             "ticks": ""
            },
            "colorscale": [
             [
              0,
              "#0d0887"
             ],
             [
              0.1111111111111111,
              "#46039f"
             ],
             [
              0.2222222222222222,
              "#7201a8"
             ],
             [
              0.3333333333333333,
              "#9c179e"
             ],
             [
              0.4444444444444444,
              "#bd3786"
             ],
             [
              0.5555555555555556,
              "#d8576b"
             ],
             [
              0.6666666666666666,
              "#ed7953"
             ],
             [
              0.7777777777777778,
              "#fb9f3a"
             ],
             [
              0.8888888888888888,
              "#fdca26"
             ],
             [
              1,
              "#f0f921"
             ]
            ],
            "type": "contour"
           }
          ],
          "contourcarpet": [
           {
            "colorbar": {
             "outlinewidth": 0,
             "ticks": ""
            },
            "type": "contourcarpet"
           }
          ],
          "heatmap": [
           {
            "colorbar": {
             "outlinewidth": 0,
             "ticks": ""
            },
            "colorscale": [
             [
              0,
              "#0d0887"
             ],
             [
              0.1111111111111111,
              "#46039f"
             ],
             [
              0.2222222222222222,
              "#7201a8"
             ],
             [
              0.3333333333333333,
              "#9c179e"
             ],
             [
              0.4444444444444444,
              "#bd3786"
             ],
             [
              0.5555555555555556,
              "#d8576b"
             ],
             [
              0.6666666666666666,
              "#ed7953"
             ],
             [
              0.7777777777777778,
              "#fb9f3a"
             ],
             [
              0.8888888888888888,
              "#fdca26"
             ],
             [
              1,
              "#f0f921"
             ]
            ],
            "type": "heatmap"
           }
          ],
          "heatmapgl": [
           {
            "colorbar": {
             "outlinewidth": 0,
             "ticks": ""
            },
            "colorscale": [
             [
              0,
              "#0d0887"
             ],
             [
              0.1111111111111111,
              "#46039f"
             ],
             [
              0.2222222222222222,
              "#7201a8"
             ],
             [
              0.3333333333333333,
              "#9c179e"
             ],
             [
              0.4444444444444444,
              "#bd3786"
             ],
             [
              0.5555555555555556,
              "#d8576b"
             ],
             [
              0.6666666666666666,
              "#ed7953"
             ],
             [
              0.7777777777777778,
              "#fb9f3a"
             ],
             [
              0.8888888888888888,
              "#fdca26"
             ],
             [
              1,
              "#f0f921"
             ]
            ],
            "type": "heatmapgl"
           }
          ],
          "histogram": [
           {
            "marker": {
             "pattern": {
              "fillmode": "overlay",
              "size": 10,
              "solidity": 0.2
             }
            },
            "type": "histogram"
           }
          ],
          "histogram2d": [
           {
            "colorbar": {
             "outlinewidth": 0,
             "ticks": ""
            },
            "colorscale": [
             [
              0,
              "#0d0887"
             ],
             [
              0.1111111111111111,
              "#46039f"
             ],
             [
              0.2222222222222222,
              "#7201a8"
             ],
             [
              0.3333333333333333,
              "#9c179e"
             ],
             [
              0.4444444444444444,
              "#bd3786"
             ],
             [
              0.5555555555555556,
              "#d8576b"
             ],
             [
              0.6666666666666666,
              "#ed7953"
             ],
             [
              0.7777777777777778,
              "#fb9f3a"
             ],
             [
              0.8888888888888888,
              "#fdca26"
             ],
             [
              1,
              "#f0f921"
             ]
            ],
            "type": "histogram2d"
           }
          ],
          "histogram2dcontour": [
           {
            "colorbar": {
             "outlinewidth": 0,
             "ticks": ""
            },
            "colorscale": [
             [
              0,
              "#0d0887"
             ],
             [
              0.1111111111111111,
              "#46039f"
             ],
             [
              0.2222222222222222,
              "#7201a8"
             ],
             [
              0.3333333333333333,
              "#9c179e"
             ],
             [
              0.4444444444444444,
              "#bd3786"
             ],
             [
              0.5555555555555556,
              "#d8576b"
             ],
             [
              0.6666666666666666,
              "#ed7953"
             ],
             [
              0.7777777777777778,
              "#fb9f3a"
             ],
             [
              0.8888888888888888,
              "#fdca26"
             ],
             [
              1,
              "#f0f921"
             ]
            ],
            "type": "histogram2dcontour"
           }
          ],
          "mesh3d": [
           {
            "colorbar": {
             "outlinewidth": 0,
             "ticks": ""
            },
            "type": "mesh3d"
           }
          ],
          "parcoords": [
           {
            "line": {
             "colorbar": {
              "outlinewidth": 0,
              "ticks": ""
             }
            },
            "type": "parcoords"
           }
          ],
          "pie": [
           {
            "automargin": true,
            "type": "pie"
           }
          ],
          "scatter": [
           {
            "fillpattern": {
             "fillmode": "overlay",
             "size": 10,
             "solidity": 0.2
            },
            "type": "scatter"
           }
          ],
          "scatter3d": [
           {
            "line": {
             "colorbar": {
              "outlinewidth": 0,
              "ticks": ""
             }
            },
            "marker": {
             "colorbar": {
              "outlinewidth": 0,
              "ticks": ""
             }
            },
            "type": "scatter3d"
           }
          ],
          "scattercarpet": [
           {
            "marker": {
             "colorbar": {
              "outlinewidth": 0,
              "ticks": ""
             }
            },
            "type": "scattercarpet"
           }
          ],
          "scattergeo": [
           {
            "marker": {
             "colorbar": {
              "outlinewidth": 0,
              "ticks": ""
             }
            },
            "type": "scattergeo"
           }
          ],
          "scattergl": [
           {
            "marker": {
             "colorbar": {
              "outlinewidth": 0,
              "ticks": ""
             }
            },
            "type": "scattergl"
           }
          ],
          "scattermapbox": [
           {
            "marker": {
             "colorbar": {
              "outlinewidth": 0,
              "ticks": ""
             }
            },
            "type": "scattermapbox"
           }
          ],
          "scatterpolar": [
           {
            "marker": {
             "colorbar": {
              "outlinewidth": 0,
              "ticks": ""
             }
            },
            "type": "scatterpolar"
           }
          ],
          "scatterpolargl": [
           {
            "marker": {
             "colorbar": {
              "outlinewidth": 0,
              "ticks": ""
             }
            },
            "type": "scatterpolargl"
           }
          ],
          "scatterternary": [
           {
            "marker": {
             "colorbar": {
              "outlinewidth": 0,
              "ticks": ""
             }
            },
            "type": "scatterternary"
           }
          ],
          "surface": [
           {
            "colorbar": {
             "outlinewidth": 0,
             "ticks": ""
            },
            "colorscale": [
             [
              0,
              "#0d0887"
             ],
             [
              0.1111111111111111,
              "#46039f"
             ],
             [
              0.2222222222222222,
              "#7201a8"
             ],
             [
              0.3333333333333333,
              "#9c179e"
             ],
             [
              0.4444444444444444,
              "#bd3786"
             ],
             [
              0.5555555555555556,
              "#d8576b"
             ],
             [
              0.6666666666666666,
              "#ed7953"
             ],
             [
              0.7777777777777778,
              "#fb9f3a"
             ],
             [
              0.8888888888888888,
              "#fdca26"
             ],
             [
              1,
              "#f0f921"
             ]
            ],
            "type": "surface"
           }
          ],
          "table": [
           {
            "cells": {
             "fill": {
              "color": "#EBF0F8"
             },
             "line": {
              "color": "white"
             }
            },
            "header": {
             "fill": {
              "color": "#C8D4E3"
             },
             "line": {
              "color": "white"
             }
            },
            "type": "table"
           }
          ]
         },
         "layout": {
          "annotationdefaults": {
           "arrowcolor": "#2a3f5f",
           "arrowhead": 0,
           "arrowwidth": 1
          },
          "autotypenumbers": "strict",
          "coloraxis": {
           "colorbar": {
            "outlinewidth": 0,
            "ticks": ""
           }
          },
          "colorscale": {
           "diverging": [
            [
             0,
             "#8e0152"
            ],
            [
             0.1,
             "#c51b7d"
            ],
            [
             0.2,
             "#de77ae"
            ],
            [
             0.3,
             "#f1b6da"
            ],
            [
             0.4,
             "#fde0ef"
            ],
            [
             0.5,
             "#f7f7f7"
            ],
            [
             0.6,
             "#e6f5d0"
            ],
            [
             0.7,
             "#b8e186"
            ],
            [
             0.8,
             "#7fbc41"
            ],
            [
             0.9,
             "#4d9221"
            ],
            [
             1,
             "#276419"
            ]
           ],
           "sequential": [
            [
             0,
             "#0d0887"
            ],
            [
             0.1111111111111111,
             "#46039f"
            ],
            [
             0.2222222222222222,
             "#7201a8"
            ],
            [
             0.3333333333333333,
             "#9c179e"
            ],
            [
             0.4444444444444444,
             "#bd3786"
            ],
            [
             0.5555555555555556,
             "#d8576b"
            ],
            [
             0.6666666666666666,
             "#ed7953"
            ],
            [
             0.7777777777777778,
             "#fb9f3a"
            ],
            [
             0.8888888888888888,
             "#fdca26"
            ],
            [
             1,
             "#f0f921"
            ]
           ],
           "sequentialminus": [
            [
             0,
             "#0d0887"
            ],
            [
             0.1111111111111111,
             "#46039f"
            ],
            [
             0.2222222222222222,
             "#7201a8"
            ],
            [
             0.3333333333333333,
             "#9c179e"
            ],
            [
             0.4444444444444444,
             "#bd3786"
            ],
            [
             0.5555555555555556,
             "#d8576b"
            ],
            [
             0.6666666666666666,
             "#ed7953"
            ],
            [
             0.7777777777777778,
             "#fb9f3a"
            ],
            [
             0.8888888888888888,
             "#fdca26"
            ],
            [
             1,
             "#f0f921"
            ]
           ]
          },
          "colorway": [
           "#636efa",
           "#EF553B",
           "#00cc96",
           "#ab63fa",
           "#FFA15A",
           "#19d3f3",
           "#FF6692",
           "#B6E880",
           "#FF97FF",
           "#FECB52"
          ],
          "font": {
           "color": "#2a3f5f"
          },
          "geo": {
           "bgcolor": "white",
           "lakecolor": "white",
           "landcolor": "#E5ECF6",
           "showlakes": true,
           "showland": true,
           "subunitcolor": "white"
          },
          "hoverlabel": {
           "align": "left"
          },
          "hovermode": "closest",
          "mapbox": {
           "style": "light"
          },
          "paper_bgcolor": "white",
          "plot_bgcolor": "#E5ECF6",
          "polar": {
           "angularaxis": {
            "gridcolor": "white",
            "linecolor": "white",
            "ticks": ""
           },
           "bgcolor": "#E5ECF6",
           "radialaxis": {
            "gridcolor": "white",
            "linecolor": "white",
            "ticks": ""
           }
          },
          "scene": {
           "xaxis": {
            "backgroundcolor": "#E5ECF6",
            "gridcolor": "white",
            "gridwidth": 2,
            "linecolor": "white",
            "showbackground": true,
            "ticks": "",
            "zerolinecolor": "white"
           },
           "yaxis": {
            "backgroundcolor": "#E5ECF6",
            "gridcolor": "white",
            "gridwidth": 2,
            "linecolor": "white",
            "showbackground": true,
            "ticks": "",
            "zerolinecolor": "white"
           },
           "zaxis": {
            "backgroundcolor": "#E5ECF6",
            "gridcolor": "white",
            "gridwidth": 2,
            "linecolor": "white",
            "showbackground": true,
            "ticks": "",
            "zerolinecolor": "white"
           }
          },
          "shapedefaults": {
           "line": {
            "color": "#2a3f5f"
           }
          },
          "ternary": {
           "aaxis": {
            "gridcolor": "white",
            "linecolor": "white",
            "ticks": ""
           },
           "baxis": {
            "gridcolor": "white",
            "linecolor": "white",
            "ticks": ""
           },
           "bgcolor": "#E5ECF6",
           "caxis": {
            "gridcolor": "white",
            "linecolor": "white",
            "ticks": ""
           }
          },
          "title": {
           "x": 0.05
          },
          "xaxis": {
           "automargin": true,
           "gridcolor": "white",
           "linecolor": "white",
           "ticks": "",
           "title": {
            "standoff": 15
           },
           "zerolinecolor": "white",
           "zerolinewidth": 2
          },
          "yaxis": {
           "automargin": true,
           "gridcolor": "white",
           "linecolor": "white",
           "ticks": "",
           "title": {
            "standoff": 15
           },
           "zerolinecolor": "white",
           "zerolinewidth": 2
          }
         }
        }
       }
      },
      "image/png": "[encoded data removed]",
      "text/html": [
       "<div>                            <div id=\"d7baf120-46e1-4f0c-9aac-1c640d41b7d8\" class=\"plotly-graph-div\" style=\"height:525px; width:100%;\"></div>            <script type=\"text/javascript\">                require([\"plotly\"], function(Plotly) {                    window.PLOTLYENV=window.PLOTLYENV || {};                                    if (document.getElementById(\"d7baf120-46e1-4f0c-9aac-1c640d41b7d8\")) {                    Plotly.newPlot(                        \"d7baf120-46e1-4f0c-9aac-1c640d41b7d8\",                        [{\"domain\":{\"x\":[0.0,1.0],\"y\":[0.0,1.0]},\"hovertemplate\":\"function=%{label}\\u003cbr\\u003ecumulative_time=%{value}\\u003cextra\\u003e\\u003c\\u002fextra\\u003e\",\"labels\":[\"dvc\",\"lakefs\",\"lfs git\",\"lfs s3\",\"s3\",\"xethub git\",\"xethub py\"],\"legendgroup\":\"\",\"name\":\"\",\"showlegend\":true,\"values\":[452.9876174926758,303.8911180496216,303.4720211029053,516.2436878681183,269.304678440094,44.28036403656006,691.2151391506195],\"type\":\"pie\",\"textinfo\":\"percent+label\",\"textposition\":\"inside\"}],                        {\"template\":{\"data\":{\"histogram2dcontour\":[{\"type\":\"histogram2dcontour\",\"colorbar\":{\"outlinewidth\":0,\"ticks\":\"\"},\"colorscale\":[[0.0,\"#0d0887\"],[0.1111111111111111,\"#46039f\"],[0.2222222222222222,\"#7201a8\"],[0.3333333333333333,\"#9c179e\"],[0.4444444444444444,\"#bd3786\"],[0.5555555555555556,\"#d8576b\"],[0.6666666666666666,\"#ed7953\"],[0.7777777777777778,\"#fb9f3a\"],[0.8888888888888888,\"#fdca26\"],[1.0,\"#f0f921\"]]}],\"choropleth\":[{\"type\":\"choropleth\",\"colorbar\":{\"outlinewidth\":0,\"ticks\":\"\"}}],\"histogram2d\":[{\"type\":\"histogram2d\",\"colorbar\":{\"outlinewidth\":0,\"ticks\":\"\"},\"colorscale\":[[0.0,\"#0d0887\"],[0.1111111111111111,\"#46039f\"],[0.2222222222222222,\"#7201a8\"],[0.3333333333333333,\"#9c179e\"],[0.4444444444444444,\"#bd3786\"],[0.5555555555555556,\"#d8576b\"],[0.6666666666666666,\"#ed7953\"],[0.7777777777777778,\"#fb9f3a\"],[0.8888888888888888,\"#fdca26\"],[1.0,\"#f0f921\"]]}],\"heatmap\":[{\"type\":\"heatmap\",\"colorbar\":{\"outlinewidth\":0,\"ticks\":\"\"},\"colorscale\":[[0.0,\"#0d0887\"],[0.1111111111111111,\"#46039f\"],[0.2222222222222222,\"#7201a8\"],[0.3333333333333333,\"#9c179e\"],[0.4444444444444444,\"#bd3786\"],[0.5555555555555556,\"#d8576b\"],[0.6666666666666666,\"#ed7953\"],[0.7777777777777778,\"#fb9f3a\"],[0.8888888888888888,\"#fdca26\"],[1.0,\"#f0f921\"]]}],\"heatmapgl\":[{\"type\":\"heatmapgl\",\"colorbar\":{\"outlinewidth\":0,\"ticks\":\"\"},\"colorscale\":[[0.0,\"#0d0887\"],[0.1111111111111111,\"#46039f\"],[0.2222222222222222,\"#7201a8\"],[0.3333333333333333,\"#9c179e\"],[0.4444444444444444,\"#bd3786\"],[0.5555555555555556,\"#d8576b\"],[0.6666666666666666,\"#ed7953\"],[0.7777777777777778,\"#fb9f3a\"],[0.8888888888888888,\"#fdca26\"],[1.0,\"#f0f921\"]]}],\"contourcarpet\":[{\"type\":\"contourcarpet\",\"colorbar\":{\"outlinewidth\":0,\"ticks\":\"\"}}],\"contour\":[{\"type\":\"contour\",\"colorbar\":{\"outlinewidth\":0,\"ticks\":\"\"},\"colorscale\":[[0.0,\"#0d0887\"],[0.1111111111111111,\"#46039f\"],[0.2222222222222222,\"#7201a8\"],[0.3333333333333333,\"#9c179e\"],[0.4444444444444444,\"#bd3786\"],[0.5555555555555556,\"#d8576b\"],[0.6666666666666666,\"#ed7953\"],[0.7777777777777778,\"#fb9f3a\"],[0.8888888888888888,\"#fdca26\"],[1.0,\"#f0f921\"]]}],\"surface\":[{\"type\":\"surface\",\"colorbar\":{\"outlinewidth\":0,\"ticks\":\"\"},\"colorscale\":[[0.0,\"#0d0887\"],[0.1111111111111111,\"#46039f\"],[0.2222222222222222,\"#7201a8\"],[0.3333333333333333,\"#9c179e\"],[0.4444444444444444,\"#bd3786\"],[0.5555555555555556,\"#d8576b\"],[0.6666666666666666,\"#ed7953\"],[0.7777777777777778,\"#fb9f3a\"],[0.8888888888888888,\"#fdca26\"],[1.0,\"#f0f921\"]]}],\"mesh3d\":[{\"type\":\"mesh3d\",\"colorbar\":{\"outlinewidth\":0,\"ticks\":\"\"}}],\"scatter\":[{\"fillpattern\":{\"fillmode\":\"overlay\",\"size\":10,\"solidity\":0.2},\"type\":\"scatter\"}],\"parcoords\":[{\"type\":\"parcoords\",\"line\":{\"colorbar\":{\"outlinewidth\":0,\"ticks\":\"\"}}}],\"scatterpolargl\":[{\"type\":\"scatterpolargl\",\"marker\":{\"colorbar\":{\"outlinewidth\":0,\"ticks\":\"\"}}}],\"bar\":[{\"error_x\":{\"color\":\"#2a3f5f\"},\"error_y\":{\"color\":\"#2a3f5f\"},\"marker\":{\"line\":{\"color\":\"#E5ECF6\",\"width\":0.5},\"pattern\":{\"fillmode\":\"overlay\",\"size\":10,\"solidity\":0.2}},\"type\":\"bar\"}],\"scattergeo\":[{\"type\":\"scattergeo\",\"marker\":{\"colorbar\":{\"outlinewidth\":0,\"ticks\":\"\"}}}],\"scatterpolar\":[{\"type\":\"scatterpolar\",\"marker\":{\"colorbar\":{\"outlinewidth\":0,\"ticks\":\"\"}}}],\"histogram\":[{\"marker\":{\"pattern\":{\"fillmode\":\"overlay\",\"size\":10,\"solidity\":0.2}},\"type\":\"histogram\"}],\"scattergl\":[{\"type\":\"scattergl\",\"marker\":{\"colorbar\":{\"outlinewidth\":0,\"ticks\":\"\"}}}],\"scatter3d\":[{\"type\":\"scatter3d\",\"line\":{\"colorbar\":{\"outlinewidth\":0,\"ticks\":\"\"}},\"marker\":{\"colorbar\":{\"outlinewidth\":0,\"ticks\":\"\"}}}],\"scattermapbox\":[{\"type\":\"scattermapbox\",\"marker\":{\"colorbar\":{\"outlinewidth\":0,\"ticks\":\"\"}}}],\"scatterternary\":[{\"type\":\"scatterternary\",\"marker\":{\"colorbar\":{\"outlinewidth\":0,\"ticks\":\"\"}}}],\"scattercarpet\":[{\"type\":\"scattercarpet\",\"marker\":{\"colorbar\":{\"outlinewidth\":0,\"ticks\":\"\"}}}],\"carpet\":[{\"aaxis\":{\"endlinecolor\":\"#2a3f5f\",\"gridcolor\":\"white\",\"linecolor\":\"white\",\"minorgridcolor\":\"white\",\"startlinecolor\":\"#2a3f5f\"},\"baxis\":{\"endlinecolor\":\"#2a3f5f\",\"gridcolor\":\"white\",\"linecolor\":\"white\",\"minorgridcolor\":\"white\",\"startlinecolor\":\"#2a3f5f\"},\"type\":\"carpet\"}],\"table\":[{\"cells\":{\"fill\":{\"color\":\"#EBF0F8\"},\"line\":{\"color\":\"white\"}},\"header\":{\"fill\":{\"color\":\"#C8D4E3\"},\"line\":{\"color\":\"white\"}},\"type\":\"table\"}],\"barpolar\":[{\"marker\":{\"line\":{\"color\":\"#E5ECF6\",\"width\":0.5},\"pattern\":{\"fillmode\":\"overlay\",\"size\":10,\"solidity\":0.2}},\"type\":\"barpolar\"}],\"pie\":[{\"automargin\":true,\"type\":\"pie\"}]},\"layout\":{\"autotypenumbers\":\"strict\",\"colorway\":[\"#636efa\",\"#EF553B\",\"#00cc96\",\"#ab63fa\",\"#FFA15A\",\"#19d3f3\",\"#FF6692\",\"#B6E880\",\"#FF97FF\",\"#FECB52\"],\"font\":{\"color\":\"#2a3f5f\"},\"hovermode\":\"closest\",\"hoverlabel\":{\"align\":\"left\"},\"paper_bgcolor\":\"white\",\"plot_bgcolor\":\"#E5ECF6\",\"polar\":{\"bgcolor\":\"#E5ECF6\",\"angularaxis\":{\"gridcolor\":\"white\",\"linecolor\":\"white\",\"ticks\":\"\"},\"radialaxis\":{\"gridcolor\":\"white\",\"linecolor\":\"white\",\"ticks\":\"\"}},\"ternary\":{\"bgcolor\":\"#E5ECF6\",\"aaxis\":{\"gridcolor\":\"white\",\"linecolor\":\"white\",\"ticks\":\"\"},\"baxis\":{\"gridcolor\":\"white\",\"linecolor\":\"white\",\"ticks\":\"\"},\"caxis\":{\"gridcolor\":\"white\",\"linecolor\":\"white\",\"ticks\":\"\"}},\"coloraxis\":{\"colorbar\":{\"outlinewidth\":0,\"ticks\":\"\"}},\"colorscale\":{\"sequential\":[[0.0,\"#0d0887\"],[0.1111111111111111,\"#46039f\"],[0.2222222222222222,\"#7201a8\"],[0.3333333333333333,\"#9c179e\"],[0.4444444444444444,\"#bd3786\"],[0.5555555555555556,\"#d8576b\"],[0.6666666666666666,\"#ed7953\"],[0.7777777777777778,\"#fb9f3a\"],[0.8888888888888888,\"#fdca26\"],[1.0,\"#f0f921\"]],\"sequentialminus\":[[0.0,\"#0d0887\"],[0.1111111111111111,\"#46039f\"],[0.2222222222222222,\"#7201a8\"],[0.3333333333333333,\"#9c179e\"],[0.4444444444444444,\"#bd3786\"],[0.5555555555555556,\"#d8576b\"],[0.6666666666666666,\"#ed7953\"],[0.7777777777777778,\"#fb9f3a\"],[0.8888888888888888,\"#fdca26\"],[1.0,\"#f0f921\"]],\"diverging\":[[0,\"#8e0152\"],[0.1,\"#c51b7d\"],[0.2,\"#de77ae\"],[0.3,\"#f1b6da\"],[0.4,\"#fde0ef\"],[0.5,\"#f7f7f7\"],[0.6,\"#e6f5d0\"],[0.7,\"#b8e186\"],[0.8,\"#7fbc41\"],[0.9,\"#4d9221\"],[1,\"#276419\"]]},\"xaxis\":{\"gridcolor\":\"white\",\"linecolor\":\"white\",\"ticks\":\"\",\"title\":{\"standoff\":15},\"zerolinecolor\":\"white\",\"automargin\":true,\"zerolinewidth\":2},\"yaxis\":{\"gridcolor\":\"white\",\"linecolor\":\"white\",\"ticks\":\"\",\"title\":{\"standoff\":15},\"zerolinecolor\":\"white\",\"automargin\":true,\"zerolinewidth\":2},\"scene\":{\"xaxis\":{\"backgroundcolor\":\"#E5ECF6\",\"gridcolor\":\"white\",\"linecolor\":\"white\",\"showbackground\":true,\"ticks\":\"\",\"zerolinecolor\":\"white\",\"gridwidth\":2},\"yaxis\":{\"backgroundcolor\":\"#E5ECF6\",\"gridcolor\":\"white\",\"linecolor\":\"white\",\"showbackground\":true,\"ticks\":\"\",\"zerolinecolor\":\"white\",\"gridwidth\":2},\"zaxis\":{\"backgroundcolor\":\"#E5ECF6\",\"gridcolor\":\"white\",\"linecolor\":\"white\",\"showbackground\":true,\"ticks\":\"\",\"zerolinecolor\":\"white\",\"gridwidth\":2}},\"shapedefaults\":{\"line\":{\"color\":\"#2a3f5f\"}},\"annotationdefaults\":{\"arrowcolor\":\"#2a3f5f\",\"arrowhead\":0,\"arrowwidth\":1},\"geo\":{\"bgcolor\":\"white\",\"landcolor\":\"#E5ECF6\",\"subunitcolor\":\"white\",\"showland\":true,\"showlakes\":true,\"lakecolor\":\"white\"},\"title\":{\"x\":0.05},\"mapbox\":{\"style\":\"light\"}}},\"legend\":{\"tracegroupgap\":0},\"margin\":{\"t\":60}},                        {\"responsive\": true}                    ).then(function(){\n",
       "                            \n",
       "var gd = document.getElementById('d7baf120-46e1-4f0c-9aac-1c640d41b7d8');\n",
       "var x = new MutationObserver(function (mutations, observer) {{\n",
       "        var display = window.getComputedStyle(gd).display;\n",
       "        if (!display || display === 'none') {{\n",
       "            console.log([gd, 'removed!']);\n",
       "            Plotly.purge(gd);\n",
       "            observer.disconnect();\n",
       "        }}\n",
       "}});\n",
       "\n",
       "// Listen for the removal of the full notebook cells\n",
       "var notebookContainer = gd.closest('#notebook-container');\n",
       "if (notebookContainer) {{\n",
       "    x.observe(notebookContainer, {childList: true});\n",
       "}}\n",
       "\n",
       "// Listen for the clearing of the current output cell\n",
       "var outputEl = gd.closest('.output');\n",
       "if (outputEl) {{\n",
       "    x.observe(outputEl, {childList: true});\n",
       "}}\n",
       "\n",
       "                        })                };                });            </script>        </div>"
      ]
     },
     "metadata": {},
     "output_type": "display_data"
    },
    {
     "data": {
      "text/plain": [
       "function\n",
       "xethub git     1.000000\n",
       "s3             6.081808\n",
       "lfs git        6.853422\n",
       "lakefs         6.862887\n",
       "dvc           10.229989\n",
       "lfs s3        11.658524\n",
       "xethub py     15.609970\n",
       "Name: cumulative_time, dtype: float64"
      ]
     },
     "execution_count": 150,
     "metadata": {},
     "output_type": "execute_result"
    }
   ],
   "source": [
    "cums_times = df.groupby('function')['cumulative_time'].max()\n",
    "ratios = cums_times / cums_times.min()\n",
    "print(f\"Cumulative time ratio:\")\n",
    "fig6 = px.pie(cums_times, values='cumulative_time', names=cums_times.index)\n",
    "fig6.update_traces(textposition='inside', textinfo='percent+label')\n",
    "fig6.show()\n",
    "ratios.sort_values()"
   ]
  },
  {
   "cell_type": "code",
   "execution_count": null,
   "id": "60473e6c-227a-4e72-ade3-63b058f2c4db",
   "metadata": {},
   "outputs": [],
   "source": []
  }
 ],
 "metadata": {
  "kernelspec": {
   "display_name": "Python 3 (ipykernel)",
   "language": "python",
   "name": "python3"
  },
  "language_info": {
   "codemirror_mode": {
    "name": "ipython",
    "version": 3
   },
   "file_extension": ".py",
   "mimetype": "text/x-python",
   "name": "python",
   "nbconvert_exporter": "python",
   "pygments_lexer": "ipython3",
   "version": "3.10.12"
  }
 },
 "nbformat": 4,
 "nbformat_minor": 5
}
