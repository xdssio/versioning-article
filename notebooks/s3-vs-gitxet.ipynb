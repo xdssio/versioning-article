{
 "cells": [
  {
   "cell_type": "markdown",
   "id": "45215e85",
   "metadata": {},
   "source": [
    "# Setup"
   ]
  },
  {
   "cell_type": "code",
   "execution_count": 2,
   "id": "5626d224",
   "metadata": {
    "ExecuteTime": {
     "end_time": "2023-08-22T20:20:00.812266Z",
     "start_time": "2023-08-22T20:20:00.805008Z"
    }
   },
   "outputs": [],
   "source": [
    "XET_REPO = \"xet_repo\"\n",
    "XET_REMOTE = \"https://xethub.com/xdssio/xethub-git\" # Change\n",
    "S3_BUCKET = \"s3://versioning-article/s3/\" # Change"
   ]
  },
  {
   "cell_type": "raw",
   "id": "54c56750",
   "metadata": {},
   "source": [
    "!git xet clone XET_REMOTE"
   ]
  },
  {
   "cell_type": "code",
   "execution_count": 29,
   "id": "f87e4026",
   "metadata": {
    "ExecuteTime": {
     "end_time": "2023-08-22T20:31:47.178379Z",
     "start_time": "2023-08-22T20:31:47.154868Z"
    },
    "code_folding": []
   },
   "outputs": [],
   "source": [
    "import numpy as np\n",
    "import pandas as pd\n",
    "import os\n",
    "import os.path\n",
    "import subprocess\n",
    "import logging\n",
    "import time\n",
    "from tqdm import tqdm\n",
    "\n",
    "np.random.seed(1)\n",
    "\n",
    "\n",
    "class NumericDataGenerator:\n",
    "\n",
    "    def __init__(self, cols: int=10):\n",
    "        self.cols = cols\n",
    "        self.columns = [f\"col{i}\"  for i in range(self.cols)]\n",
    "\n",
    "    def generate(self, rows: int = None):\n",
    "        data = np.random.rand(rows, self.cols)\n",
    "        return pd.DataFrame(data, columns=self.columns)\n",
    "    \n",
    "    def append(self, filename: str, rows: int):\n",
    "        data = np.random.rand(rows, self.cols)\n",
    "        df = pd.DataFrame(data, columns=self.columns)\n",
    "        if os.path.exists(filename) and filename.endswith('.parquet'):\n",
    "            former = pd.read_parquet(filename)\n",
    "            df = pd.concat([former, df])\n",
    "            df.to_parquet(filename, engine='pyarrow')\n",
    "        else:\n",
    "            df.to_csv(filename, mode='a', header=False, index=False)\n",
    "            \n",
    "    def export(self, df, filepath):\n",
    "        if filepath.endswith('.parquet'):\n",
    "            df.to_parquet(filepath, engine='pyarrow')\n",
    "        else:\n",
    "            df.to_csv(filepath, index=False)\n",
    "\n",
    "def run(command:str, cwd:str):\n",
    "    out = subprocess.run(command, shell=True, capture_output=True, cwd=cwd).stdout\n",
    "    if out:\n",
    "        out = out.decode()\n",
    "    print(out)\n",
    "    return out\n",
    "\n",
    "\n",
    "\n",
    "def git_upload(filename: str, cwd:str):\n",
    "    filename = os.path.basename(filepath)\n",
    "    command = f\"\"\"                                \n",
    "            git add {filename}\n",
    "            git commit -m \"upload\"\n",
    "            git push\n",
    "            \"\"\"\n",
    "    return run(command, cwd)\n",
    "\n",
    "\n",
    "def s3_upload(filepath: str, cwd:str):\n",
    "    command = f\"aws s3 cp {filepath} {S3_BUCKET}{os.path.basename(filepath)}\"\n",
    "    return run(command, cwd)"
   ]
  },
  {
   "cell_type": "markdown",
   "id": "9d912427",
   "metadata": {},
   "source": [
    "# Experiment"
   ]
  },
  {
   "cell_type": "code",
   "execution_count": 30,
   "id": "1826a30b",
   "metadata": {
    "ExecuteTime": {
     "end_time": "2023-08-22T20:31:53.817614Z",
     "start_time": "2023-08-22T20:31:53.809342Z"
    }
   },
   "outputs": [],
   "source": [
    "start_rows = 6000000 # 1G\n",
    "n_rows_add = 6000 # 1MB\n",
    "start_rows = 100\n",
    "n_rows_add = 1\n",
    "\n",
    "columns = 10\n",
    "local_path = os.getcwd()\n",
    "filename = 'data.txt'\n",
    "xet_repo_path = os.path.join(local_path, XET_REPO)\n",
    "filepath = os.path.join(xet_repo_path, filename)\n",
    "iterations = 2\n",
    "\n",
    "generator = NumericDataGenerator(cols=columns)\n",
    "df = generator.generate(start_rows)\n",
    "generator.export(df, filepath)"
   ]
  },
  {
   "cell_type": "code",
   "execution_count": 32,
   "id": "a35af56c",
   "metadata": {
    "ExecuteTime": {
     "end_time": "2023-08-22T20:32:12.027344Z",
     "start_time": "2023-08-22T20:32:08.527620Z"
    }
   },
   "outputs": [
    {
     "name": "stderr",
     "output_type": "stream",
     "text": [
      "\r",
      "  0%|                                                                                                                                         | 0/2 [00:00<?, ?it/s]"
     ]
    },
    {
     "name": "stdout",
     "output_type": "stream",
     "text": [
      "gitxet upload time - 9.5367431640625e-07\n"
     ]
    },
    {
     "name": "stderr",
     "output_type": "stream",
     "text": [
      "\r",
      " 50%|████████████████████████████████████████████████████████████████▌                                                                | 1/2 [00:01<00:01,  1.75s/it]"
     ]
    },
    {
     "name": "stdout",
     "output_type": "stream",
     "text": [
      "Completed 18.9 KiB/18.9 KiB (16.2 KiB/s) with 1 file(s) remaining\r",
      "upload: ./data.txt to s3://versioning-article/s3/data.txt        \n",
      "\n",
      "S3 upload time - 1.7506687641143799\n",
      "gitxet upload time - 4.0531158447265625e-06\n"
     ]
    },
    {
     "name": "stderr",
     "output_type": "stream",
     "text": [
      "100%|█████████████████████████████████████████████████████████████████████████████████████████████████████████████████████████████████| 2/2 [00:03<00:00,  1.74s/it]"
     ]
    },
    {
     "name": "stdout",
     "output_type": "stream",
     "text": [
      "Completed 18.9 KiB/18.9 KiB (17.2 KiB/s) with 1 file(s) remaining\r",
      "upload: ./data.txt to s3://versioning-article/s3/data.txt        \n",
      "\n",
      "S3 upload time - 1.724302053451538\n"
     ]
    },
    {
     "name": "stderr",
     "output_type": "stream",
     "text": [
      "\n"
     ]
    }
   ],
   "source": [
    "for iteration in tqdm(range(iterations)):\n",
    "    start_time = time.time()\n",
    "    git_upload(filepath, XET_REPO)\n",
    "    print(f\"gitxet upload time: {time.time()-start_time}\")\n",
    "    \n",
    "    start_time = time.time()\n",
    "    s3_upload(filepath, XET_REPO)\n",
    "    print(f\"S3 upload time: {time.time()-start_time}\")\n",
    "    \n",
    "    generator.append(filename, n_rows_add)\n",
    "    "
   ]
  },
  {
   "cell_type": "code",
   "execution_count": null,
   "id": "9d94a7a2",
   "metadata": {},
   "outputs": [],
   "source": []
  }
 ],
 "metadata": {
  "kernelspec": {
   "display_name": "goldilox",
   "language": "python",
   "name": "demo"
  },
  "language_info": {
   "codemirror_mode": {
    "name": "ipython",
    "version": 3
   },
   "file_extension": ".py",
   "mimetype": "text/x-python",
   "name": "python",
   "nbconvert_exporter": "python",
   "pygments_lexer": "ipython3",
   "version": "3.7.17"
  }
 },
 "nbformat": 4,
 "nbformat_minor": 5
}
